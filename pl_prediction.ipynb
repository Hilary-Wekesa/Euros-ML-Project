{
 "cells": [
  {
   "cell_type": "code",
   "execution_count": 3,
   "id": "4cb2d853",
   "metadata": {},
   "outputs": [],
   "source": [
    "import pandas as pd"
   ]
  },
  {
   "cell_type": "code",
   "execution_count": 4,
   "id": "672a67e6",
   "metadata": {},
   "outputs": [],
   "source": [
    "matches=pd.read_csv(\"pl_matches.csv\",index_col=0)"
   ]
  },
  {
   "cell_type": "code",
   "execution_count": 5,
   "id": "a11c3042",
   "metadata": {},
   "outputs": [
    {
     "data": {
      "text/plain": [
       "(2280, 27)"
      ]
     },
     "execution_count": 5,
     "metadata": {},
     "output_type": "execute_result"
    }
   ],
   "source": [
    "matches.shape"
   ]
  },
  {
   "cell_type": "code",
   "execution_count": 6,
   "id": "09135b69",
   "metadata": {},
   "outputs": [
    {
     "data": {
      "text/plain": [
       "Manchester City             114\n",
       "West Ham United             114\n",
       "Brentford                   114\n",
       "Everton                     114\n",
       "Wolverhampton Wanderers     114\n",
       "Arsenal                     114\n",
       "Brighton and Hove Albion    114\n",
       "Crystal Palace              114\n",
       "Manchester United           114\n",
       "Newcastle United            114\n",
       "Chelsea                     114\n",
       "Tottenham Hotspur           114\n",
       "Aston Villa                 114\n",
       "Liverpool                   114\n",
       "Burnley                      76\n",
       "Southampton                  76\n",
       "Leeds United                 76\n",
       "Leicester City               76\n",
       "Fulham                       76\n",
       "Nottingham Forest            76\n",
       "Bournemouth                  76\n",
       "Sheffield United             38\n",
       "Luton Town                   38\n",
       "Watford                      38\n",
       "Norwich City                 38\n",
       "Name: team, dtype: int64"
      ]
     },
     "execution_count": 6,
     "metadata": {},
     "output_type": "execute_result"
    }
   ],
   "source": [
    "matches[\"team\"].value_counts()"
   ]
  },
  {
   "cell_type": "code",
   "execution_count": 7,
   "id": "5f33fe10",
   "metadata": {},
   "outputs": [
    {
     "data": {
      "text/plain": [
       "Premier League    2280\n",
       "Name: comp, dtype: int64"
      ]
     },
     "execution_count": 7,
     "metadata": {},
     "output_type": "execute_result"
    }
   ],
   "source": [
    "matches[\"comp\"].value_counts()"
   ]
  },
  {
   "cell_type": "code",
   "execution_count": 8,
   "id": "1fa537ff",
   "metadata": {},
   "outputs": [
    {
     "data": {
      "text/plain": [
       "Index(['date', 'time', 'comp', 'round', 'day', 'venue', 'result', 'gf', 'ga',\n",
       "       'opponent', 'xg', 'xga', 'poss', 'attendance', 'captain', 'formation',\n",
       "       'referee', 'match report', 'notes', 'sh', 'sot', 'dist', 'fk', 'pk',\n",
       "       'pkatt', 'season', 'team'],\n",
       "      dtype='object')"
      ]
     },
     "execution_count": 8,
     "metadata": {},
     "output_type": "execute_result"
    }
   ],
   "source": [
    "matches.columns"
   ]
  },
  {
   "cell_type": "code",
   "execution_count": 9,
   "id": "ee520536",
   "metadata": {},
   "outputs": [
    {
     "data": {
      "text/plain": [
       "2023    760\n",
       "2022    760\n",
       "2021    760\n",
       "Name: season, dtype: int64"
      ]
     },
     "execution_count": 9,
     "metadata": {},
     "output_type": "execute_result"
    }
   ],
   "source": [
    "matches[\"season\"].value_counts()"
   ]
  },
  {
   "cell_type": "code",
   "execution_count": 10,
   "id": "b8f81006",
   "metadata": {},
   "outputs": [
    {
     "data": {
      "text/plain": [
       "Matchweek 1     60\n",
       "Matchweek 30    60\n",
       "Matchweek 23    60\n",
       "Matchweek 24    60\n",
       "Matchweek 25    60\n",
       "Matchweek 18    60\n",
       "Matchweek 26    60\n",
       "Matchweek 27    60\n",
       "Matchweek 28    60\n",
       "Matchweek 31    60\n",
       "Matchweek 2     60\n",
       "Matchweek 32    60\n",
       "Matchweek 33    60\n",
       "Matchweek 29    60\n",
       "Matchweek 35    60\n",
       "Matchweek 36    60\n",
       "Matchweek 37    60\n",
       "Matchweek 34    60\n",
       "Matchweek 22    60\n",
       "Matchweek 21    60\n",
       "Matchweek 20    60\n",
       "Matchweek 19    60\n",
       "Matchweek 3     60\n",
       "Matchweek 4     60\n",
       "Matchweek 5     60\n",
       "Matchweek 6     60\n",
       "Matchweek 7     60\n",
       "Matchweek 8     60\n",
       "Matchweek 9     60\n",
       "Matchweek 10    60\n",
       "Matchweek 11    60\n",
       "Matchweek 12    60\n",
       "Matchweek 13    60\n",
       "Matchweek 14    60\n",
       "Matchweek 15    60\n",
       "Matchweek 16    60\n",
       "Matchweek 17    60\n",
       "Matchweek 38    60\n",
       "Name: round, dtype: int64"
      ]
     },
     "execution_count": 10,
     "metadata": {},
     "output_type": "execute_result"
    }
   ],
   "source": [
    "matches[\"round\"].value_counts()"
   ]
  },
  {
   "cell_type": "code",
   "execution_count": 11,
   "id": "deb5d381",
   "metadata": {},
   "outputs": [
    {
     "data": {
      "text/plain": [
       "date             object\n",
       "time             object\n",
       "comp             object\n",
       "round            object\n",
       "day              object\n",
       "venue            object\n",
       "result           object\n",
       "gf                int64\n",
       "ga                int64\n",
       "opponent         object\n",
       "xg              float64\n",
       "xga             float64\n",
       "poss            float64\n",
       "attendance      float64\n",
       "captain          object\n",
       "formation        object\n",
       "referee          object\n",
       "match report     object\n",
       "notes           float64\n",
       "sh              float64\n",
       "sot             float64\n",
       "dist            float64\n",
       "fk              float64\n",
       "pk                int64\n",
       "pkatt             int64\n",
       "season            int64\n",
       "team             object\n",
       "dtype: object"
      ]
     },
     "execution_count": 11,
     "metadata": {},
     "output_type": "execute_result"
    }
   ],
   "source": [
    "matches.dtypes"
   ]
  },
  {
   "cell_type": "code",
   "execution_count": 12,
   "id": "7fea91b5",
   "metadata": {},
   "outputs": [],
   "source": [
    "del matches[\"comp\"]\n",
    "del matches[\"notes\"]"
   ]
  },
  {
   "cell_type": "code",
   "execution_count": 13,
   "id": "98c44e8a",
   "metadata": {},
   "outputs": [
    {
     "data": {
      "text/plain": [
       "1     Match Report\n",
       "3     Match Report\n",
       "4     Match Report\n",
       "5     Match Report\n",
       "6     Match Report\n",
       "8     Match Report\n",
       "10    Match Report\n",
       "12    Match Report\n",
       "13    Match Report\n",
       "15    Match Report\n",
       "Name: match report, dtype: object"
      ]
     },
     "execution_count": 13,
     "metadata": {},
     "output_type": "execute_result"
    }
   ],
   "source": [
    "matches[\"match report\"].head(10)"
   ]
  },
  {
   "cell_type": "code",
   "execution_count": 14,
   "id": "1f90bf94",
   "metadata": {},
   "outputs": [],
   "source": [
    "matches[\"date\"]=pd.to_datetime(matches[\"date\"])"
   ]
  },
  {
   "cell_type": "code",
   "execution_count": 15,
   "id": "029fe0c8",
   "metadata": {},
   "outputs": [],
   "source": [
    "matches[\"target\"] = (matches[\"result\"] == \"W\").astype(\"int\")\n",
    "# True (Win) =1\n",
    "# False (Draw, Loss) =0"
   ]
  },
  {
   "cell_type": "code",
   "execution_count": 16,
   "id": "7a3ee238",
   "metadata": {},
   "outputs": [
    {
     "data": {
      "text/plain": [
       "0    1397\n",
       "1     883\n",
       "Name: target, dtype: int64"
      ]
     },
     "execution_count": 16,
     "metadata": {},
     "output_type": "execute_result"
    }
   ],
   "source": [
    "matches[\"target\"].value_counts()"
   ]
  },
  {
   "cell_type": "code",
   "execution_count": 17,
   "id": "4075d053",
   "metadata": {},
   "outputs": [],
   "source": [
    "matches[\"venue_code\"] = matches[\"venue\"].astype(\"category\").cat.codes\n",
    "matches[\"opp_code\"] = matches[\"opponent\"].astype(\"category\").cat.codes\n",
    "matches[\"hour\"] = matches[\"time\"].str.replace(\":.+\", \"\", regex=True).astype(\"int\")\n",
    "matches[\"day_code\"] = matches[\"date\"].dt.dayofweek"
   ]
  },
  {
   "cell_type": "code",
   "execution_count": 18,
   "id": "7c71ed66",
   "metadata": {},
   "outputs": [
    {
     "data": {
      "text/plain": [
       "date            datetime64[ns]\n",
       "time                    object\n",
       "round                   object\n",
       "day                     object\n",
       "venue                   object\n",
       "result                  object\n",
       "gf                       int64\n",
       "ga                       int64\n",
       "opponent                object\n",
       "xg                     float64\n",
       "xga                    float64\n",
       "poss                   float64\n",
       "attendance             float64\n",
       "captain                 object\n",
       "formation               object\n",
       "referee                 object\n",
       "match report            object\n",
       "sh                     float64\n",
       "sot                    float64\n",
       "dist                   float64\n",
       "fk                     float64\n",
       "pk                       int64\n",
       "pkatt                    int64\n",
       "season                   int64\n",
       "team                    object\n",
       "target                   int64\n",
       "venue_code                int8\n",
       "opp_code                  int8\n",
       "hour                     int64\n",
       "day_code                 int64\n",
       "dtype: object"
      ]
     },
     "execution_count": 18,
     "metadata": {},
     "output_type": "execute_result"
    }
   ],
   "source": [
    "matches.dtypes"
   ]
  },
  {
   "cell_type": "code",
   "execution_count": 19,
   "id": "a574b2cc",
   "metadata": {},
   "outputs": [],
   "source": [
    "from sklearn.ensemble import RandomForestClassifier"
   ]
  },
  {
   "cell_type": "code",
   "execution_count": 20,
   "id": "70150d1d",
   "metadata": {},
   "outputs": [],
   "source": [
    "rf=RandomForestClassifier(n_estimators=50,min_samples_split=10,random_state=1)"
   ]
  },
  {
   "cell_type": "code",
   "execution_count": 21,
   "id": "dc2938c6",
   "metadata": {},
   "outputs": [],
   "source": [
    "train = matches[matches[\"date\"] < '2023-01-01']\n",
    "test = matches[matches[\"date\"] > '2023-01-01']"
   ]
  },
  {
   "cell_type": "code",
   "execution_count": 22,
   "id": "ef796bfe",
   "metadata": {},
   "outputs": [],
   "source": [
    "predictors = [\"venue_code\", \"opp_code\", \"hour\", \"day_code\"]"
   ]
  },
  {
   "cell_type": "code",
   "execution_count": 23,
   "id": "cb2ca43a",
   "metadata": {},
   "outputs": [
    {
     "data": {
      "text/plain": [
       "RandomForestClassifier(min_samples_split=10, n_estimators=50, random_state=1)"
      ]
     },
     "execution_count": 23,
     "metadata": {},
     "output_type": "execute_result"
    }
   ],
   "source": [
    "rf.fit(train[predictors], train[\"target\"])"
   ]
  },
  {
   "cell_type": "code",
   "execution_count": 24,
   "id": "66f76d9d",
   "metadata": {},
   "outputs": [],
   "source": [
    "preds = rf.predict(test[predictors])"
   ]
  },
  {
   "cell_type": "code",
   "execution_count": 25,
   "id": "08e551ad",
   "metadata": {},
   "outputs": [],
   "source": [
    "from sklearn.metrics import accuracy_score"
   ]
  },
  {
   "cell_type": "code",
   "execution_count": 26,
   "id": "1c9081a2",
   "metadata": {},
   "outputs": [
    {
     "data": {
      "text/plain": [
       "0.6077441077441077"
      ]
     },
     "execution_count": 26,
     "metadata": {},
     "output_type": "execute_result"
    }
   ],
   "source": [
    "error = accuracy_score(test[\"target\"], preds)\n",
    "error"
   ]
  },
  {
   "cell_type": "code",
   "execution_count": 27,
   "id": "ed3f2976",
   "metadata": {},
   "outputs": [
    {
     "data": {
      "text/html": [
       "<div>\n",
       "<style scoped>\n",
       "    .dataframe tbody tr th:only-of-type {\n",
       "        vertical-align: middle;\n",
       "    }\n",
       "\n",
       "    .dataframe tbody tr th {\n",
       "        vertical-align: top;\n",
       "    }\n",
       "\n",
       "    .dataframe thead th {\n",
       "        text-align: right;\n",
       "    }\n",
       "</style>\n",
       "<table border=\"1\" class=\"dataframe\">\n",
       "  <thead>\n",
       "    <tr style=\"text-align: right;\">\n",
       "      <th>predicted</th>\n",
       "      <th>0</th>\n",
       "      <th>1</th>\n",
       "    </tr>\n",
       "    <tr>\n",
       "      <th>actual</th>\n",
       "      <th></th>\n",
       "      <th></th>\n",
       "    </tr>\n",
       "  </thead>\n",
       "  <tbody>\n",
       "    <tr>\n",
       "      <th>0</th>\n",
       "      <td>572</td>\n",
       "      <td>153</td>\n",
       "    </tr>\n",
       "    <tr>\n",
       "      <th>1</th>\n",
       "      <td>313</td>\n",
       "      <td>150</td>\n",
       "    </tr>\n",
       "  </tbody>\n",
       "</table>\n",
       "</div>"
      ],
      "text/plain": [
       "predicted    0    1\n",
       "actual             \n",
       "0          572  153\n",
       "1          313  150"
      ]
     },
     "execution_count": 27,
     "metadata": {},
     "output_type": "execute_result"
    }
   ],
   "source": [
    "combined = pd.DataFrame(dict(actual=test[\"target\"], predicted=preds))\n",
    "pd.crosstab(index=combined[\"actual\"], columns=combined[\"predicted\"])"
   ]
  },
  {
   "cell_type": "code",
   "execution_count": 28,
   "id": "d04e079a",
   "metadata": {},
   "outputs": [],
   "source": [
    "from sklearn.metrics import precision_score"
   ]
  },
  {
   "cell_type": "code",
   "execution_count": 29,
   "id": "ca59df12",
   "metadata": {},
   "outputs": [
    {
     "data": {
      "text/plain": [
       "0.49504950495049505"
      ]
     },
     "execution_count": 29,
     "metadata": {},
     "output_type": "execute_result"
    }
   ],
   "source": [
    "precision_score(test[\"target\"], preds)"
   ]
  },
  {
   "cell_type": "code",
   "execution_count": 30,
   "id": "d1be490d",
   "metadata": {},
   "outputs": [],
   "source": [
    "grouped_matches = matches.groupby(\"team\")"
   ]
  },
  {
   "cell_type": "code",
   "execution_count": 31,
   "id": "e5dd2c81",
   "metadata": {},
   "outputs": [],
   "source": [
    "group = grouped_matches.get_group(\"Manchester City\").sort_values(\"date\")"
   ]
  },
  {
   "cell_type": "code",
   "execution_count": 32,
   "id": "fb3377c6",
   "metadata": {},
   "outputs": [],
   "source": [
    "def rolling_averages(group, cols, new_cols):\n",
    "    group = group.sort_values(\"date\")\n",
    "    rolling_stats = group[cols].rolling(3, closed='left').mean()\n",
    "    group[new_cols] = rolling_stats\n",
    "    group = group.dropna(subset=new_cols)\n",
    "    return group"
   ]
  },
  {
   "cell_type": "code",
   "execution_count": 33,
   "id": "2eb47908",
   "metadata": {},
   "outputs": [
    {
     "data": {
      "text/html": [
       "<div>\n",
       "<style scoped>\n",
       "    .dataframe tbody tr th:only-of-type {\n",
       "        vertical-align: middle;\n",
       "    }\n",
       "\n",
       "    .dataframe tbody tr th {\n",
       "        vertical-align: top;\n",
       "    }\n",
       "\n",
       "    .dataframe thead th {\n",
       "        text-align: right;\n",
       "    }\n",
       "</style>\n",
       "<table border=\"1\" class=\"dataframe\">\n",
       "  <thead>\n",
       "    <tr style=\"text-align: right;\">\n",
       "      <th></th>\n",
       "      <th>date</th>\n",
       "      <th>time</th>\n",
       "      <th>round</th>\n",
       "      <th>day</th>\n",
       "      <th>venue</th>\n",
       "      <th>result</th>\n",
       "      <th>gf</th>\n",
       "      <th>ga</th>\n",
       "      <th>opponent</th>\n",
       "      <th>xg</th>\n",
       "      <th>...</th>\n",
       "      <th>hour</th>\n",
       "      <th>day_code</th>\n",
       "      <th>gf_rolling</th>\n",
       "      <th>ga_rolling</th>\n",
       "      <th>sh_rolling</th>\n",
       "      <th>sot_rolling</th>\n",
       "      <th>dist_rolling</th>\n",
       "      <th>fk_rolling</th>\n",
       "      <th>pk_rolling</th>\n",
       "      <th>pkatt_rolling</th>\n",
       "    </tr>\n",
       "  </thead>\n",
       "  <tbody>\n",
       "    <tr>\n",
       "      <th>4</th>\n",
       "      <td>2021-09-11</td>\n",
       "      <td>15:00</td>\n",
       "      <td>Matchweek 4</td>\n",
       "      <td>Sat</td>\n",
       "      <td>Away</td>\n",
       "      <td>W</td>\n",
       "      <td>1</td>\n",
       "      <td>0</td>\n",
       "      <td>Leicester City</td>\n",
       "      <td>2.8</td>\n",
       "      <td>...</td>\n",
       "      <td>15</td>\n",
       "      <td>5</td>\n",
       "      <td>3.333333</td>\n",
       "      <td>0.333333</td>\n",
       "      <td>19.666667</td>\n",
       "      <td>6.000000</td>\n",
       "      <td>16.866667</td>\n",
       "      <td>0.666667</td>\n",
       "      <td>0.000000</td>\n",
       "      <td>0.000000</td>\n",
       "    </tr>\n",
       "    <tr>\n",
       "      <th>6</th>\n",
       "      <td>2021-09-18</td>\n",
       "      <td>15:00</td>\n",
       "      <td>Matchweek 5</td>\n",
       "      <td>Sat</td>\n",
       "      <td>Home</td>\n",
       "      <td>D</td>\n",
       "      <td>0</td>\n",
       "      <td>0</td>\n",
       "      <td>Southampton</td>\n",
       "      <td>1.0</td>\n",
       "      <td>...</td>\n",
       "      <td>15</td>\n",
       "      <td>5</td>\n",
       "      <td>3.666667</td>\n",
       "      <td>0.000000</td>\n",
       "      <td>22.000000</td>\n",
       "      <td>7.333333</td>\n",
       "      <td>15.866667</td>\n",
       "      <td>0.333333</td>\n",
       "      <td>0.000000</td>\n",
       "      <td>0.000000</td>\n",
       "    </tr>\n",
       "    <tr>\n",
       "      <th>8</th>\n",
       "      <td>2021-09-25</td>\n",
       "      <td>12:30</td>\n",
       "      <td>Matchweek 6</td>\n",
       "      <td>Sat</td>\n",
       "      <td>Away</td>\n",
       "      <td>W</td>\n",
       "      <td>1</td>\n",
       "      <td>0</td>\n",
       "      <td>Chelsea</td>\n",
       "      <td>1.7</td>\n",
       "      <td>...</td>\n",
       "      <td>12</td>\n",
       "      <td>5</td>\n",
       "      <td>2.000000</td>\n",
       "      <td>0.000000</td>\n",
       "      <td>22.000000</td>\n",
       "      <td>6.333333</td>\n",
       "      <td>15.166667</td>\n",
       "      <td>0.333333</td>\n",
       "      <td>0.000000</td>\n",
       "      <td>0.000000</td>\n",
       "    </tr>\n",
       "    <tr>\n",
       "      <th>10</th>\n",
       "      <td>2021-10-03</td>\n",
       "      <td>16:30</td>\n",
       "      <td>Matchweek 7</td>\n",
       "      <td>Sun</td>\n",
       "      <td>Away</td>\n",
       "      <td>D</td>\n",
       "      <td>2</td>\n",
       "      <td>2</td>\n",
       "      <td>Liverpool</td>\n",
       "      <td>1.2</td>\n",
       "      <td>...</td>\n",
       "      <td>16</td>\n",
       "      <td>6</td>\n",
       "      <td>0.666667</td>\n",
       "      <td>0.000000</td>\n",
       "      <td>18.666667</td>\n",
       "      <td>4.000000</td>\n",
       "      <td>15.933333</td>\n",
       "      <td>0.333333</td>\n",
       "      <td>0.000000</td>\n",
       "      <td>0.000000</td>\n",
       "    </tr>\n",
       "    <tr>\n",
       "      <th>11</th>\n",
       "      <td>2021-10-16</td>\n",
       "      <td>15:00</td>\n",
       "      <td>Matchweek 8</td>\n",
       "      <td>Sat</td>\n",
       "      <td>Home</td>\n",
       "      <td>W</td>\n",
       "      <td>2</td>\n",
       "      <td>0</td>\n",
       "      <td>Burnley</td>\n",
       "      <td>2.1</td>\n",
       "      <td>...</td>\n",
       "      <td>15</td>\n",
       "      <td>5</td>\n",
       "      <td>1.000000</td>\n",
       "      <td>0.666667</td>\n",
       "      <td>14.333333</td>\n",
       "      <td>2.333333</td>\n",
       "      <td>16.833333</td>\n",
       "      <td>0.666667</td>\n",
       "      <td>0.000000</td>\n",
       "      <td>0.000000</td>\n",
       "    </tr>\n",
       "    <tr>\n",
       "      <th>...</th>\n",
       "      <td>...</td>\n",
       "      <td>...</td>\n",
       "      <td>...</td>\n",
       "      <td>...</td>\n",
       "      <td>...</td>\n",
       "      <td>...</td>\n",
       "      <td>...</td>\n",
       "      <td>...</td>\n",
       "      <td>...</td>\n",
       "      <td>...</td>\n",
       "      <td>...</td>\n",
       "      <td>...</td>\n",
       "      <td>...</td>\n",
       "      <td>...</td>\n",
       "      <td>...</td>\n",
       "      <td>...</td>\n",
       "      <td>...</td>\n",
       "      <td>...</td>\n",
       "      <td>...</td>\n",
       "      <td>...</td>\n",
       "      <td>...</td>\n",
       "    </tr>\n",
       "    <tr>\n",
       "      <th>51</th>\n",
       "      <td>2024-04-28</td>\n",
       "      <td>16:30</td>\n",
       "      <td>Matchweek 35</td>\n",
       "      <td>Sun</td>\n",
       "      <td>Away</td>\n",
       "      <td>W</td>\n",
       "      <td>2</td>\n",
       "      <td>0</td>\n",
       "      <td>Nott'ham Forest</td>\n",
       "      <td>0.9</td>\n",
       "      <td>...</td>\n",
       "      <td>16</td>\n",
       "      <td>6</td>\n",
       "      <td>4.333333</td>\n",
       "      <td>1.000000</td>\n",
       "      <td>22.666667</td>\n",
       "      <td>8.666667</td>\n",
       "      <td>16.666667</td>\n",
       "      <td>0.333333</td>\n",
       "      <td>0.333333</td>\n",
       "      <td>0.333333</td>\n",
       "    </tr>\n",
       "    <tr>\n",
       "      <th>52</th>\n",
       "      <td>2024-05-04</td>\n",
       "      <td>17:30</td>\n",
       "      <td>Matchweek 36</td>\n",
       "      <td>Sat</td>\n",
       "      <td>Home</td>\n",
       "      <td>W</td>\n",
       "      <td>5</td>\n",
       "      <td>1</td>\n",
       "      <td>Wolves</td>\n",
       "      <td>3.7</td>\n",
       "      <td>...</td>\n",
       "      <td>17</td>\n",
       "      <td>5</td>\n",
       "      <td>3.666667</td>\n",
       "      <td>0.333333</td>\n",
       "      <td>20.333333</td>\n",
       "      <td>7.666667</td>\n",
       "      <td>17.533333</td>\n",
       "      <td>0.666667</td>\n",
       "      <td>0.333333</td>\n",
       "      <td>0.333333</td>\n",
       "    </tr>\n",
       "    <tr>\n",
       "      <th>53</th>\n",
       "      <td>2024-05-11</td>\n",
       "      <td>12:30</td>\n",
       "      <td>Matchweek 37</td>\n",
       "      <td>Sat</td>\n",
       "      <td>Away</td>\n",
       "      <td>W</td>\n",
       "      <td>4</td>\n",
       "      <td>0</td>\n",
       "      <td>Fulham</td>\n",
       "      <td>3.2</td>\n",
       "      <td>...</td>\n",
       "      <td>12</td>\n",
       "      <td>5</td>\n",
       "      <td>3.666667</td>\n",
       "      <td>0.333333</td>\n",
       "      <td>14.333333</td>\n",
       "      <td>7.000000</td>\n",
       "      <td>17.000000</td>\n",
       "      <td>0.666667</td>\n",
       "      <td>0.666667</td>\n",
       "      <td>0.666667</td>\n",
       "    </tr>\n",
       "    <tr>\n",
       "      <th>54</th>\n",
       "      <td>2024-05-14</td>\n",
       "      <td>20:00</td>\n",
       "      <td>Matchweek 34</td>\n",
       "      <td>Tue</td>\n",
       "      <td>Away</td>\n",
       "      <td>W</td>\n",
       "      <td>2</td>\n",
       "      <td>0</td>\n",
       "      <td>Tottenham</td>\n",
       "      <td>2.4</td>\n",
       "      <td>...</td>\n",
       "      <td>20</td>\n",
       "      <td>1</td>\n",
       "      <td>3.666667</td>\n",
       "      <td>0.333333</td>\n",
       "      <td>14.666667</td>\n",
       "      <td>7.666667</td>\n",
       "      <td>17.200000</td>\n",
       "      <td>0.333333</td>\n",
       "      <td>1.000000</td>\n",
       "      <td>1.000000</td>\n",
       "    </tr>\n",
       "    <tr>\n",
       "      <th>55</th>\n",
       "      <td>2024-05-19</td>\n",
       "      <td>16:00</td>\n",
       "      <td>Matchweek 38</td>\n",
       "      <td>Sun</td>\n",
       "      <td>Home</td>\n",
       "      <td>W</td>\n",
       "      <td>3</td>\n",
       "      <td>1</td>\n",
       "      <td>West Ham</td>\n",
       "      <td>1.9</td>\n",
       "      <td>...</td>\n",
       "      <td>16</td>\n",
       "      <td>6</td>\n",
       "      <td>3.666667</td>\n",
       "      <td>0.333333</td>\n",
       "      <td>13.333333</td>\n",
       "      <td>7.333333</td>\n",
       "      <td>15.800000</td>\n",
       "      <td>0.000000</td>\n",
       "      <td>1.333333</td>\n",
       "      <td>1.333333</td>\n",
       "    </tr>\n",
       "  </tbody>\n",
       "</table>\n",
       "<p>111 rows × 38 columns</p>\n",
       "</div>"
      ],
      "text/plain": [
       "         date   time         round  day venue result  gf  ga         opponent  \\\n",
       "4  2021-09-11  15:00   Matchweek 4  Sat  Away      W   1   0   Leicester City   \n",
       "6  2021-09-18  15:00   Matchweek 5  Sat  Home      D   0   0      Southampton   \n",
       "8  2021-09-25  12:30   Matchweek 6  Sat  Away      W   1   0          Chelsea   \n",
       "10 2021-10-03  16:30   Matchweek 7  Sun  Away      D   2   2        Liverpool   \n",
       "11 2021-10-16  15:00   Matchweek 8  Sat  Home      W   2   0          Burnley   \n",
       "..        ...    ...           ...  ...   ...    ...  ..  ..              ...   \n",
       "51 2024-04-28  16:30  Matchweek 35  Sun  Away      W   2   0  Nott'ham Forest   \n",
       "52 2024-05-04  17:30  Matchweek 36  Sat  Home      W   5   1           Wolves   \n",
       "53 2024-05-11  12:30  Matchweek 37  Sat  Away      W   4   0           Fulham   \n",
       "54 2024-05-14  20:00  Matchweek 34  Tue  Away      W   2   0        Tottenham   \n",
       "55 2024-05-19  16:00  Matchweek 38  Sun  Home      W   3   1         West Ham   \n",
       "\n",
       "     xg  ...  hour  day_code  gf_rolling ga_rolling sh_rolling sot_rolling  \\\n",
       "4   2.8  ...    15         5    3.333333   0.333333  19.666667    6.000000   \n",
       "6   1.0  ...    15         5    3.666667   0.000000  22.000000    7.333333   \n",
       "8   1.7  ...    12         5    2.000000   0.000000  22.000000    6.333333   \n",
       "10  1.2  ...    16         6    0.666667   0.000000  18.666667    4.000000   \n",
       "11  2.1  ...    15         5    1.000000   0.666667  14.333333    2.333333   \n",
       "..  ...  ...   ...       ...         ...        ...        ...         ...   \n",
       "51  0.9  ...    16         6    4.333333   1.000000  22.666667    8.666667   \n",
       "52  3.7  ...    17         5    3.666667   0.333333  20.333333    7.666667   \n",
       "53  3.2  ...    12         5    3.666667   0.333333  14.333333    7.000000   \n",
       "54  2.4  ...    20         1    3.666667   0.333333  14.666667    7.666667   \n",
       "55  1.9  ...    16         6    3.666667   0.333333  13.333333    7.333333   \n",
       "\n",
       "   dist_rolling  fk_rolling  pk_rolling  pkatt_rolling  \n",
       "4     16.866667    0.666667    0.000000       0.000000  \n",
       "6     15.866667    0.333333    0.000000       0.000000  \n",
       "8     15.166667    0.333333    0.000000       0.000000  \n",
       "10    15.933333    0.333333    0.000000       0.000000  \n",
       "11    16.833333    0.666667    0.000000       0.000000  \n",
       "..          ...         ...         ...            ...  \n",
       "51    16.666667    0.333333    0.333333       0.333333  \n",
       "52    17.533333    0.666667    0.333333       0.333333  \n",
       "53    17.000000    0.666667    0.666667       0.666667  \n",
       "54    17.200000    0.333333    1.000000       1.000000  \n",
       "55    15.800000    0.000000    1.333333       1.333333  \n",
       "\n",
       "[111 rows x 38 columns]"
      ]
     },
     "execution_count": 33,
     "metadata": {},
     "output_type": "execute_result"
    }
   ],
   "source": [
    "cols = [\"gf\", \"ga\", \"sh\", \"sot\", \"dist\", \"fk\", \"pk\", \"pkatt\"]\n",
    "new_cols = [f\"{c}_rolling\" for c in cols]\n",
    "\n",
    "rolling_averages(group, cols, new_cols)"
   ]
  },
  {
   "cell_type": "code",
   "execution_count": 34,
   "id": "5ce27e1d",
   "metadata": {},
   "outputs": [],
   "source": [
    "matches_rolling = matches.groupby(\"team\").apply(lambda x: rolling_averages(x, cols, new_cols))"
   ]
  },
  {
   "cell_type": "code",
   "execution_count": 35,
   "id": "ab3e41fa",
   "metadata": {},
   "outputs": [
    {
     "data": {
      "text/html": [
       "<div>\n",
       "<style scoped>\n",
       "    .dataframe tbody tr th:only-of-type {\n",
       "        vertical-align: middle;\n",
       "    }\n",
       "\n",
       "    .dataframe tbody tr th {\n",
       "        vertical-align: top;\n",
       "    }\n",
       "\n",
       "    .dataframe thead th {\n",
       "        text-align: right;\n",
       "    }\n",
       "</style>\n",
       "<table border=\"1\" class=\"dataframe\">\n",
       "  <thead>\n",
       "    <tr style=\"text-align: right;\">\n",
       "      <th></th>\n",
       "      <th></th>\n",
       "      <th>date</th>\n",
       "      <th>time</th>\n",
       "      <th>round</th>\n",
       "      <th>day</th>\n",
       "      <th>venue</th>\n",
       "      <th>result</th>\n",
       "      <th>gf</th>\n",
       "      <th>ga</th>\n",
       "      <th>opponent</th>\n",
       "      <th>xg</th>\n",
       "      <th>...</th>\n",
       "      <th>hour</th>\n",
       "      <th>day_code</th>\n",
       "      <th>gf_rolling</th>\n",
       "      <th>ga_rolling</th>\n",
       "      <th>sh_rolling</th>\n",
       "      <th>sot_rolling</th>\n",
       "      <th>dist_rolling</th>\n",
       "      <th>fk_rolling</th>\n",
       "      <th>pk_rolling</th>\n",
       "      <th>pkatt_rolling</th>\n",
       "    </tr>\n",
       "    <tr>\n",
       "      <th>team</th>\n",
       "      <th></th>\n",
       "      <th></th>\n",
       "      <th></th>\n",
       "      <th></th>\n",
       "      <th></th>\n",
       "      <th></th>\n",
       "      <th></th>\n",
       "      <th></th>\n",
       "      <th></th>\n",
       "      <th></th>\n",
       "      <th></th>\n",
       "      <th></th>\n",
       "      <th></th>\n",
       "      <th></th>\n",
       "      <th></th>\n",
       "      <th></th>\n",
       "      <th></th>\n",
       "      <th></th>\n",
       "      <th></th>\n",
       "      <th></th>\n",
       "      <th></th>\n",
       "      <th></th>\n",
       "    </tr>\n",
       "  </thead>\n",
       "  <tbody>\n",
       "    <tr>\n",
       "      <th rowspan=\"5\" valign=\"top\">Arsenal</th>\n",
       "      <th>4</th>\n",
       "      <td>2021-09-11</td>\n",
       "      <td>15:00</td>\n",
       "      <td>Matchweek 4</td>\n",
       "      <td>Sat</td>\n",
       "      <td>Home</td>\n",
       "      <td>W</td>\n",
       "      <td>1</td>\n",
       "      <td>0</td>\n",
       "      <td>Norwich City</td>\n",
       "      <td>2.7</td>\n",
       "      <td>...</td>\n",
       "      <td>15</td>\n",
       "      <td>5</td>\n",
       "      <td>0.000000</td>\n",
       "      <td>3.000000</td>\n",
       "      <td>9.666667</td>\n",
       "      <td>2.333333</td>\n",
       "      <td>14.833333</td>\n",
       "      <td>0.333333</td>\n",
       "      <td>0.000000</td>\n",
       "      <td>0.000000</td>\n",
       "    </tr>\n",
       "    <tr>\n",
       "      <th>5</th>\n",
       "      <td>2021-09-18</td>\n",
       "      <td>15:00</td>\n",
       "      <td>Matchweek 5</td>\n",
       "      <td>Sat</td>\n",
       "      <td>Away</td>\n",
       "      <td>W</td>\n",
       "      <td>1</td>\n",
       "      <td>0</td>\n",
       "      <td>Burnley</td>\n",
       "      <td>1.1</td>\n",
       "      <td>...</td>\n",
       "      <td>15</td>\n",
       "      <td>5</td>\n",
       "      <td>0.333333</td>\n",
       "      <td>2.333333</td>\n",
       "      <td>12.333333</td>\n",
       "      <td>3.000000</td>\n",
       "      <td>14.133333</td>\n",
       "      <td>0.333333</td>\n",
       "      <td>0.000000</td>\n",
       "      <td>0.000000</td>\n",
       "    </tr>\n",
       "    <tr>\n",
       "      <th>7</th>\n",
       "      <td>2021-09-26</td>\n",
       "      <td>16:30</td>\n",
       "      <td>Matchweek 6</td>\n",
       "      <td>Sun</td>\n",
       "      <td>Home</td>\n",
       "      <td>W</td>\n",
       "      <td>3</td>\n",
       "      <td>1</td>\n",
       "      <td>Tottenham</td>\n",
       "      <td>1.1</td>\n",
       "      <td>...</td>\n",
       "      <td>16</td>\n",
       "      <td>6</td>\n",
       "      <td>0.666667</td>\n",
       "      <td>1.666667</td>\n",
       "      <td>14.666667</td>\n",
       "      <td>3.000000</td>\n",
       "      <td>14.800000</td>\n",
       "      <td>0.666667</td>\n",
       "      <td>0.000000</td>\n",
       "      <td>0.000000</td>\n",
       "    </tr>\n",
       "    <tr>\n",
       "      <th>8</th>\n",
       "      <td>2021-10-02</td>\n",
       "      <td>17:30</td>\n",
       "      <td>Matchweek 7</td>\n",
       "      <td>Sat</td>\n",
       "      <td>Away</td>\n",
       "      <td>D</td>\n",
       "      <td>0</td>\n",
       "      <td>0</td>\n",
       "      <td>Brighton</td>\n",
       "      <td>0.4</td>\n",
       "      <td>...</td>\n",
       "      <td>17</td>\n",
       "      <td>5</td>\n",
       "      <td>1.666667</td>\n",
       "      <td>0.333333</td>\n",
       "      <td>18.333333</td>\n",
       "      <td>5.333333</td>\n",
       "      <td>18.433333</td>\n",
       "      <td>0.666667</td>\n",
       "      <td>0.000000</td>\n",
       "      <td>0.000000</td>\n",
       "    </tr>\n",
       "    <tr>\n",
       "      <th>9</th>\n",
       "      <td>2021-10-18</td>\n",
       "      <td>20:00</td>\n",
       "      <td>Matchweek 8</td>\n",
       "      <td>Mon</td>\n",
       "      <td>Home</td>\n",
       "      <td>D</td>\n",
       "      <td>2</td>\n",
       "      <td>2</td>\n",
       "      <td>Crystal Palace</td>\n",
       "      <td>1.7</td>\n",
       "      <td>...</td>\n",
       "      <td>20</td>\n",
       "      <td>0</td>\n",
       "      <td>1.333333</td>\n",
       "      <td>0.333333</td>\n",
       "      <td>11.000000</td>\n",
       "      <td>4.000000</td>\n",
       "      <td>19.833333</td>\n",
       "      <td>0.666667</td>\n",
       "      <td>0.000000</td>\n",
       "      <td>0.000000</td>\n",
       "    </tr>\n",
       "    <tr>\n",
       "      <th>...</th>\n",
       "      <th>...</th>\n",
       "      <td>...</td>\n",
       "      <td>...</td>\n",
       "      <td>...</td>\n",
       "      <td>...</td>\n",
       "      <td>...</td>\n",
       "      <td>...</td>\n",
       "      <td>...</td>\n",
       "      <td>...</td>\n",
       "      <td>...</td>\n",
       "      <td>...</td>\n",
       "      <td>...</td>\n",
       "      <td>...</td>\n",
       "      <td>...</td>\n",
       "      <td>...</td>\n",
       "      <td>...</td>\n",
       "      <td>...</td>\n",
       "      <td>...</td>\n",
       "      <td>...</td>\n",
       "      <td>...</td>\n",
       "      <td>...</td>\n",
       "      <td>...</td>\n",
       "    </tr>\n",
       "    <tr>\n",
       "      <th rowspan=\"5\" valign=\"top\">Wolverhampton Wanderers</th>\n",
       "      <th>40</th>\n",
       "      <td>2024-04-24</td>\n",
       "      <td>19:45</td>\n",
       "      <td>Matchweek 29</td>\n",
       "      <td>Wed</td>\n",
       "      <td>Home</td>\n",
       "      <td>L</td>\n",
       "      <td>0</td>\n",
       "      <td>1</td>\n",
       "      <td>Bournemouth</td>\n",
       "      <td>0.5</td>\n",
       "      <td>...</td>\n",
       "      <td>19</td>\n",
       "      <td>2</td>\n",
       "      <td>1.000000</td>\n",
       "      <td>2.000000</td>\n",
       "      <td>9.666667</td>\n",
       "      <td>4.000000</td>\n",
       "      <td>20.533333</td>\n",
       "      <td>0.333333</td>\n",
       "      <td>0.333333</td>\n",
       "      <td>0.333333</td>\n",
       "    </tr>\n",
       "    <tr>\n",
       "      <th>41</th>\n",
       "      <td>2024-04-27</td>\n",
       "      <td>15:00</td>\n",
       "      <td>Matchweek 35</td>\n",
       "      <td>Sat</td>\n",
       "      <td>Home</td>\n",
       "      <td>W</td>\n",
       "      <td>2</td>\n",
       "      <td>1</td>\n",
       "      <td>Luton Town</td>\n",
       "      <td>1.2</td>\n",
       "      <td>...</td>\n",
       "      <td>15</td>\n",
       "      <td>5</td>\n",
       "      <td>0.666667</td>\n",
       "      <td>1.666667</td>\n",
       "      <td>10.333333</td>\n",
       "      <td>3.333333</td>\n",
       "      <td>18.766667</td>\n",
       "      <td>0.000000</td>\n",
       "      <td>0.000000</td>\n",
       "      <td>0.000000</td>\n",
       "    </tr>\n",
       "    <tr>\n",
       "      <th>42</th>\n",
       "      <td>2024-05-04</td>\n",
       "      <td>17:30</td>\n",
       "      <td>Matchweek 36</td>\n",
       "      <td>Sat</td>\n",
       "      <td>Away</td>\n",
       "      <td>L</td>\n",
       "      <td>1</td>\n",
       "      <td>5</td>\n",
       "      <td>Manchester City</td>\n",
       "      <td>0.3</td>\n",
       "      <td>...</td>\n",
       "      <td>17</td>\n",
       "      <td>5</td>\n",
       "      <td>0.666667</td>\n",
       "      <td>1.333333</td>\n",
       "      <td>11.000000</td>\n",
       "      <td>4.000000</td>\n",
       "      <td>19.666667</td>\n",
       "      <td>0.000000</td>\n",
       "      <td>0.000000</td>\n",
       "      <td>0.000000</td>\n",
       "    </tr>\n",
       "    <tr>\n",
       "      <th>43</th>\n",
       "      <td>2024-05-11</td>\n",
       "      <td>15:00</td>\n",
       "      <td>Matchweek 37</td>\n",
       "      <td>Sat</td>\n",
       "      <td>Home</td>\n",
       "      <td>L</td>\n",
       "      <td>1</td>\n",
       "      <td>3</td>\n",
       "      <td>Crystal Palace</td>\n",
       "      <td>1.6</td>\n",
       "      <td>...</td>\n",
       "      <td>15</td>\n",
       "      <td>5</td>\n",
       "      <td>1.000000</td>\n",
       "      <td>2.333333</td>\n",
       "      <td>10.000000</td>\n",
       "      <td>3.333333</td>\n",
       "      <td>15.966667</td>\n",
       "      <td>0.000000</td>\n",
       "      <td>0.000000</td>\n",
       "      <td>0.000000</td>\n",
       "    </tr>\n",
       "    <tr>\n",
       "      <th>44</th>\n",
       "      <td>2024-05-19</td>\n",
       "      <td>16:00</td>\n",
       "      <td>Matchweek 38</td>\n",
       "      <td>Sun</td>\n",
       "      <td>Away</td>\n",
       "      <td>L</td>\n",
       "      <td>0</td>\n",
       "      <td>2</td>\n",
       "      <td>Liverpool</td>\n",
       "      <td>0.5</td>\n",
       "      <td>...</td>\n",
       "      <td>16</td>\n",
       "      <td>6</td>\n",
       "      <td>1.333333</td>\n",
       "      <td>3.000000</td>\n",
       "      <td>9.666667</td>\n",
       "      <td>4.666667</td>\n",
       "      <td>14.133333</td>\n",
       "      <td>0.000000</td>\n",
       "      <td>0.000000</td>\n",
       "      <td>0.000000</td>\n",
       "    </tr>\n",
       "  </tbody>\n",
       "</table>\n",
       "<p>2205 rows × 38 columns</p>\n",
       "</div>"
      ],
      "text/plain": [
       "                                 date   time         round  day venue result  \\\n",
       "team                                                                           \n",
       "Arsenal                 4  2021-09-11  15:00   Matchweek 4  Sat  Home      W   \n",
       "                        5  2021-09-18  15:00   Matchweek 5  Sat  Away      W   \n",
       "                        7  2021-09-26  16:30   Matchweek 6  Sun  Home      W   \n",
       "                        8  2021-10-02  17:30   Matchweek 7  Sat  Away      D   \n",
       "                        9  2021-10-18  20:00   Matchweek 8  Mon  Home      D   \n",
       "...                               ...    ...           ...  ...   ...    ...   \n",
       "Wolverhampton Wanderers 40 2024-04-24  19:45  Matchweek 29  Wed  Home      L   \n",
       "                        41 2024-04-27  15:00  Matchweek 35  Sat  Home      W   \n",
       "                        42 2024-05-04  17:30  Matchweek 36  Sat  Away      L   \n",
       "                        43 2024-05-11  15:00  Matchweek 37  Sat  Home      L   \n",
       "                        44 2024-05-19  16:00  Matchweek 38  Sun  Away      L   \n",
       "\n",
       "                            gf  ga         opponent   xg  ...  hour  day_code  \\\n",
       "team                                                      ...                   \n",
       "Arsenal                 4    1   0     Norwich City  2.7  ...    15         5   \n",
       "                        5    1   0          Burnley  1.1  ...    15         5   \n",
       "                        7    3   1        Tottenham  1.1  ...    16         6   \n",
       "                        8    0   0         Brighton  0.4  ...    17         5   \n",
       "                        9    2   2   Crystal Palace  1.7  ...    20         0   \n",
       "...                         ..  ..              ...  ...  ...   ...       ...   \n",
       "Wolverhampton Wanderers 40   0   1      Bournemouth  0.5  ...    19         2   \n",
       "                        41   2   1       Luton Town  1.2  ...    15         5   \n",
       "                        42   1   5  Manchester City  0.3  ...    17         5   \n",
       "                        43   1   3   Crystal Palace  1.6  ...    15         5   \n",
       "                        44   0   2        Liverpool  0.5  ...    16         6   \n",
       "\n",
       "                            gf_rolling ga_rolling sh_rolling sot_rolling  \\\n",
       "team                                                                       \n",
       "Arsenal                 4     0.000000   3.000000   9.666667    2.333333   \n",
       "                        5     0.333333   2.333333  12.333333    3.000000   \n",
       "                        7     0.666667   1.666667  14.666667    3.000000   \n",
       "                        8     1.666667   0.333333  18.333333    5.333333   \n",
       "                        9     1.333333   0.333333  11.000000    4.000000   \n",
       "...                                ...        ...        ...         ...   \n",
       "Wolverhampton Wanderers 40    1.000000   2.000000   9.666667    4.000000   \n",
       "                        41    0.666667   1.666667  10.333333    3.333333   \n",
       "                        42    0.666667   1.333333  11.000000    4.000000   \n",
       "                        43    1.000000   2.333333  10.000000    3.333333   \n",
       "                        44    1.333333   3.000000   9.666667    4.666667   \n",
       "\n",
       "                           dist_rolling  fk_rolling  pk_rolling  pkatt_rolling  \n",
       "team                                                                            \n",
       "Arsenal                 4     14.833333    0.333333    0.000000       0.000000  \n",
       "                        5     14.133333    0.333333    0.000000       0.000000  \n",
       "                        7     14.800000    0.666667    0.000000       0.000000  \n",
       "                        8     18.433333    0.666667    0.000000       0.000000  \n",
       "                        9     19.833333    0.666667    0.000000       0.000000  \n",
       "...                                 ...         ...         ...            ...  \n",
       "Wolverhampton Wanderers 40    20.533333    0.333333    0.333333       0.333333  \n",
       "                        41    18.766667    0.000000    0.000000       0.000000  \n",
       "                        42    19.666667    0.000000    0.000000       0.000000  \n",
       "                        43    15.966667    0.000000    0.000000       0.000000  \n",
       "                        44    14.133333    0.000000    0.000000       0.000000  \n",
       "\n",
       "[2205 rows x 38 columns]"
      ]
     },
     "execution_count": 35,
     "metadata": {},
     "output_type": "execute_result"
    }
   ],
   "source": [
    "matches_rolling"
   ]
  },
  {
   "cell_type": "code",
   "execution_count": 36,
   "id": "94a4513e",
   "metadata": {},
   "outputs": [
    {
     "data": {
      "text/html": [
       "<div>\n",
       "<style scoped>\n",
       "    .dataframe tbody tr th:only-of-type {\n",
       "        vertical-align: middle;\n",
       "    }\n",
       "\n",
       "    .dataframe tbody tr th {\n",
       "        vertical-align: top;\n",
       "    }\n",
       "\n",
       "    .dataframe thead th {\n",
       "        text-align: right;\n",
       "    }\n",
       "</style>\n",
       "<table border=\"1\" class=\"dataframe\">\n",
       "  <thead>\n",
       "    <tr style=\"text-align: right;\">\n",
       "      <th></th>\n",
       "      <th>date</th>\n",
       "      <th>time</th>\n",
       "      <th>round</th>\n",
       "      <th>day</th>\n",
       "      <th>venue</th>\n",
       "      <th>result</th>\n",
       "      <th>gf</th>\n",
       "      <th>ga</th>\n",
       "      <th>opponent</th>\n",
       "      <th>xg</th>\n",
       "      <th>...</th>\n",
       "      <th>hour</th>\n",
       "      <th>day_code</th>\n",
       "      <th>gf_rolling</th>\n",
       "      <th>ga_rolling</th>\n",
       "      <th>sh_rolling</th>\n",
       "      <th>sot_rolling</th>\n",
       "      <th>dist_rolling</th>\n",
       "      <th>fk_rolling</th>\n",
       "      <th>pk_rolling</th>\n",
       "      <th>pkatt_rolling</th>\n",
       "    </tr>\n",
       "  </thead>\n",
       "  <tbody>\n",
       "    <tr>\n",
       "      <th>4</th>\n",
       "      <td>2021-09-11</td>\n",
       "      <td>15:00</td>\n",
       "      <td>Matchweek 4</td>\n",
       "      <td>Sat</td>\n",
       "      <td>Home</td>\n",
       "      <td>W</td>\n",
       "      <td>1</td>\n",
       "      <td>0</td>\n",
       "      <td>Norwich City</td>\n",
       "      <td>2.7</td>\n",
       "      <td>...</td>\n",
       "      <td>15</td>\n",
       "      <td>5</td>\n",
       "      <td>0.000000</td>\n",
       "      <td>3.000000</td>\n",
       "      <td>9.666667</td>\n",
       "      <td>2.333333</td>\n",
       "      <td>14.833333</td>\n",
       "      <td>0.333333</td>\n",
       "      <td>0.000000</td>\n",
       "      <td>0.000000</td>\n",
       "    </tr>\n",
       "    <tr>\n",
       "      <th>5</th>\n",
       "      <td>2021-09-18</td>\n",
       "      <td>15:00</td>\n",
       "      <td>Matchweek 5</td>\n",
       "      <td>Sat</td>\n",
       "      <td>Away</td>\n",
       "      <td>W</td>\n",
       "      <td>1</td>\n",
       "      <td>0</td>\n",
       "      <td>Burnley</td>\n",
       "      <td>1.1</td>\n",
       "      <td>...</td>\n",
       "      <td>15</td>\n",
       "      <td>5</td>\n",
       "      <td>0.333333</td>\n",
       "      <td>2.333333</td>\n",
       "      <td>12.333333</td>\n",
       "      <td>3.000000</td>\n",
       "      <td>14.133333</td>\n",
       "      <td>0.333333</td>\n",
       "      <td>0.000000</td>\n",
       "      <td>0.000000</td>\n",
       "    </tr>\n",
       "    <tr>\n",
       "      <th>7</th>\n",
       "      <td>2021-09-26</td>\n",
       "      <td>16:30</td>\n",
       "      <td>Matchweek 6</td>\n",
       "      <td>Sun</td>\n",
       "      <td>Home</td>\n",
       "      <td>W</td>\n",
       "      <td>3</td>\n",
       "      <td>1</td>\n",
       "      <td>Tottenham</td>\n",
       "      <td>1.1</td>\n",
       "      <td>...</td>\n",
       "      <td>16</td>\n",
       "      <td>6</td>\n",
       "      <td>0.666667</td>\n",
       "      <td>1.666667</td>\n",
       "      <td>14.666667</td>\n",
       "      <td>3.000000</td>\n",
       "      <td>14.800000</td>\n",
       "      <td>0.666667</td>\n",
       "      <td>0.000000</td>\n",
       "      <td>0.000000</td>\n",
       "    </tr>\n",
       "    <tr>\n",
       "      <th>8</th>\n",
       "      <td>2021-10-02</td>\n",
       "      <td>17:30</td>\n",
       "      <td>Matchweek 7</td>\n",
       "      <td>Sat</td>\n",
       "      <td>Away</td>\n",
       "      <td>D</td>\n",
       "      <td>0</td>\n",
       "      <td>0</td>\n",
       "      <td>Brighton</td>\n",
       "      <td>0.4</td>\n",
       "      <td>...</td>\n",
       "      <td>17</td>\n",
       "      <td>5</td>\n",
       "      <td>1.666667</td>\n",
       "      <td>0.333333</td>\n",
       "      <td>18.333333</td>\n",
       "      <td>5.333333</td>\n",
       "      <td>18.433333</td>\n",
       "      <td>0.666667</td>\n",
       "      <td>0.000000</td>\n",
       "      <td>0.000000</td>\n",
       "    </tr>\n",
       "    <tr>\n",
       "      <th>9</th>\n",
       "      <td>2021-10-18</td>\n",
       "      <td>20:00</td>\n",
       "      <td>Matchweek 8</td>\n",
       "      <td>Mon</td>\n",
       "      <td>Home</td>\n",
       "      <td>D</td>\n",
       "      <td>2</td>\n",
       "      <td>2</td>\n",
       "      <td>Crystal Palace</td>\n",
       "      <td>1.7</td>\n",
       "      <td>...</td>\n",
       "      <td>20</td>\n",
       "      <td>0</td>\n",
       "      <td>1.333333</td>\n",
       "      <td>0.333333</td>\n",
       "      <td>11.000000</td>\n",
       "      <td>4.000000</td>\n",
       "      <td>19.833333</td>\n",
       "      <td>0.666667</td>\n",
       "      <td>0.000000</td>\n",
       "      <td>0.000000</td>\n",
       "    </tr>\n",
       "    <tr>\n",
       "      <th>...</th>\n",
       "      <td>...</td>\n",
       "      <td>...</td>\n",
       "      <td>...</td>\n",
       "      <td>...</td>\n",
       "      <td>...</td>\n",
       "      <td>...</td>\n",
       "      <td>...</td>\n",
       "      <td>...</td>\n",
       "      <td>...</td>\n",
       "      <td>...</td>\n",
       "      <td>...</td>\n",
       "      <td>...</td>\n",
       "      <td>...</td>\n",
       "      <td>...</td>\n",
       "      <td>...</td>\n",
       "      <td>...</td>\n",
       "      <td>...</td>\n",
       "      <td>...</td>\n",
       "      <td>...</td>\n",
       "      <td>...</td>\n",
       "      <td>...</td>\n",
       "    </tr>\n",
       "    <tr>\n",
       "      <th>40</th>\n",
       "      <td>2024-04-24</td>\n",
       "      <td>19:45</td>\n",
       "      <td>Matchweek 29</td>\n",
       "      <td>Wed</td>\n",
       "      <td>Home</td>\n",
       "      <td>L</td>\n",
       "      <td>0</td>\n",
       "      <td>1</td>\n",
       "      <td>Bournemouth</td>\n",
       "      <td>0.5</td>\n",
       "      <td>...</td>\n",
       "      <td>19</td>\n",
       "      <td>2</td>\n",
       "      <td>1.000000</td>\n",
       "      <td>2.000000</td>\n",
       "      <td>9.666667</td>\n",
       "      <td>4.000000</td>\n",
       "      <td>20.533333</td>\n",
       "      <td>0.333333</td>\n",
       "      <td>0.333333</td>\n",
       "      <td>0.333333</td>\n",
       "    </tr>\n",
       "    <tr>\n",
       "      <th>41</th>\n",
       "      <td>2024-04-27</td>\n",
       "      <td>15:00</td>\n",
       "      <td>Matchweek 35</td>\n",
       "      <td>Sat</td>\n",
       "      <td>Home</td>\n",
       "      <td>W</td>\n",
       "      <td>2</td>\n",
       "      <td>1</td>\n",
       "      <td>Luton Town</td>\n",
       "      <td>1.2</td>\n",
       "      <td>...</td>\n",
       "      <td>15</td>\n",
       "      <td>5</td>\n",
       "      <td>0.666667</td>\n",
       "      <td>1.666667</td>\n",
       "      <td>10.333333</td>\n",
       "      <td>3.333333</td>\n",
       "      <td>18.766667</td>\n",
       "      <td>0.000000</td>\n",
       "      <td>0.000000</td>\n",
       "      <td>0.000000</td>\n",
       "    </tr>\n",
       "    <tr>\n",
       "      <th>42</th>\n",
       "      <td>2024-05-04</td>\n",
       "      <td>17:30</td>\n",
       "      <td>Matchweek 36</td>\n",
       "      <td>Sat</td>\n",
       "      <td>Away</td>\n",
       "      <td>L</td>\n",
       "      <td>1</td>\n",
       "      <td>5</td>\n",
       "      <td>Manchester City</td>\n",
       "      <td>0.3</td>\n",
       "      <td>...</td>\n",
       "      <td>17</td>\n",
       "      <td>5</td>\n",
       "      <td>0.666667</td>\n",
       "      <td>1.333333</td>\n",
       "      <td>11.000000</td>\n",
       "      <td>4.000000</td>\n",
       "      <td>19.666667</td>\n",
       "      <td>0.000000</td>\n",
       "      <td>0.000000</td>\n",
       "      <td>0.000000</td>\n",
       "    </tr>\n",
       "    <tr>\n",
       "      <th>43</th>\n",
       "      <td>2024-05-11</td>\n",
       "      <td>15:00</td>\n",
       "      <td>Matchweek 37</td>\n",
       "      <td>Sat</td>\n",
       "      <td>Home</td>\n",
       "      <td>L</td>\n",
       "      <td>1</td>\n",
       "      <td>3</td>\n",
       "      <td>Crystal Palace</td>\n",
       "      <td>1.6</td>\n",
       "      <td>...</td>\n",
       "      <td>15</td>\n",
       "      <td>5</td>\n",
       "      <td>1.000000</td>\n",
       "      <td>2.333333</td>\n",
       "      <td>10.000000</td>\n",
       "      <td>3.333333</td>\n",
       "      <td>15.966667</td>\n",
       "      <td>0.000000</td>\n",
       "      <td>0.000000</td>\n",
       "      <td>0.000000</td>\n",
       "    </tr>\n",
       "    <tr>\n",
       "      <th>44</th>\n",
       "      <td>2024-05-19</td>\n",
       "      <td>16:00</td>\n",
       "      <td>Matchweek 38</td>\n",
       "      <td>Sun</td>\n",
       "      <td>Away</td>\n",
       "      <td>L</td>\n",
       "      <td>0</td>\n",
       "      <td>2</td>\n",
       "      <td>Liverpool</td>\n",
       "      <td>0.5</td>\n",
       "      <td>...</td>\n",
       "      <td>16</td>\n",
       "      <td>6</td>\n",
       "      <td>1.333333</td>\n",
       "      <td>3.000000</td>\n",
       "      <td>9.666667</td>\n",
       "      <td>4.666667</td>\n",
       "      <td>14.133333</td>\n",
       "      <td>0.000000</td>\n",
       "      <td>0.000000</td>\n",
       "      <td>0.000000</td>\n",
       "    </tr>\n",
       "  </tbody>\n",
       "</table>\n",
       "<p>2205 rows × 38 columns</p>\n",
       "</div>"
      ],
      "text/plain": [
       "         date   time         round  day venue result  gf  ga         opponent  \\\n",
       "4  2021-09-11  15:00   Matchweek 4  Sat  Home      W   1   0     Norwich City   \n",
       "5  2021-09-18  15:00   Matchweek 5  Sat  Away      W   1   0          Burnley   \n",
       "7  2021-09-26  16:30   Matchweek 6  Sun  Home      W   3   1        Tottenham   \n",
       "8  2021-10-02  17:30   Matchweek 7  Sat  Away      D   0   0         Brighton   \n",
       "9  2021-10-18  20:00   Matchweek 8  Mon  Home      D   2   2   Crystal Palace   \n",
       "..        ...    ...           ...  ...   ...    ...  ..  ..              ...   \n",
       "40 2024-04-24  19:45  Matchweek 29  Wed  Home      L   0   1      Bournemouth   \n",
       "41 2024-04-27  15:00  Matchweek 35  Sat  Home      W   2   1       Luton Town   \n",
       "42 2024-05-04  17:30  Matchweek 36  Sat  Away      L   1   5  Manchester City   \n",
       "43 2024-05-11  15:00  Matchweek 37  Sat  Home      L   1   3   Crystal Palace   \n",
       "44 2024-05-19  16:00  Matchweek 38  Sun  Away      L   0   2        Liverpool   \n",
       "\n",
       "     xg  ...  hour  day_code  gf_rolling ga_rolling sh_rolling sot_rolling  \\\n",
       "4   2.7  ...    15         5    0.000000   3.000000   9.666667    2.333333   \n",
       "5   1.1  ...    15         5    0.333333   2.333333  12.333333    3.000000   \n",
       "7   1.1  ...    16         6    0.666667   1.666667  14.666667    3.000000   \n",
       "8   0.4  ...    17         5    1.666667   0.333333  18.333333    5.333333   \n",
       "9   1.7  ...    20         0    1.333333   0.333333  11.000000    4.000000   \n",
       "..  ...  ...   ...       ...         ...        ...        ...         ...   \n",
       "40  0.5  ...    19         2    1.000000   2.000000   9.666667    4.000000   \n",
       "41  1.2  ...    15         5    0.666667   1.666667  10.333333    3.333333   \n",
       "42  0.3  ...    17         5    0.666667   1.333333  11.000000    4.000000   \n",
       "43  1.6  ...    15         5    1.000000   2.333333  10.000000    3.333333   \n",
       "44  0.5  ...    16         6    1.333333   3.000000   9.666667    4.666667   \n",
       "\n",
       "   dist_rolling  fk_rolling  pk_rolling  pkatt_rolling  \n",
       "4     14.833333    0.333333    0.000000       0.000000  \n",
       "5     14.133333    0.333333    0.000000       0.000000  \n",
       "7     14.800000    0.666667    0.000000       0.000000  \n",
       "8     18.433333    0.666667    0.000000       0.000000  \n",
       "9     19.833333    0.666667    0.000000       0.000000  \n",
       "..          ...         ...         ...            ...  \n",
       "40    20.533333    0.333333    0.333333       0.333333  \n",
       "41    18.766667    0.000000    0.000000       0.000000  \n",
       "42    19.666667    0.000000    0.000000       0.000000  \n",
       "43    15.966667    0.000000    0.000000       0.000000  \n",
       "44    14.133333    0.000000    0.000000       0.000000  \n",
       "\n",
       "[2205 rows x 38 columns]"
      ]
     },
     "execution_count": 36,
     "metadata": {},
     "output_type": "execute_result"
    }
   ],
   "source": [
    "matches_rolling = matches_rolling.droplevel('team')\n",
    "matches_rolling"
   ]
  },
  {
   "cell_type": "code",
   "execution_count": 37,
   "id": "3b37c0ed",
   "metadata": {},
   "outputs": [],
   "source": [
    "matches_rolling.index = range(matches_rolling.shape[0])"
   ]
  },
  {
   "cell_type": "code",
   "execution_count": 38,
   "id": "60501ddb",
   "metadata": {},
   "outputs": [],
   "source": [
    "def make_predictions(data, predictors):\n",
    "    train = data[data[\"date\"] < '2022-01-01']\n",
    "    test = data[data[\"date\"] > '2022-01-01']\n",
    "    rf.fit(train[predictors], train[\"target\"])\n",
    "    preds = rf.predict(test[predictors])\n",
    "    combined = pd.DataFrame(dict(actual=test[\"target\"], predicted=preds), index=test.index)\n",
    "    error = precision_score(test[\"target\"], preds)\n",
    "    return combined, error"
   ]
  },
  {
   "cell_type": "code",
   "execution_count": 39,
   "id": "d47d18d3",
   "metadata": {},
   "outputs": [
    {
     "data": {
      "text/plain": [
       "0.539906103286385"
      ]
     },
     "execution_count": 39,
     "metadata": {},
     "output_type": "execute_result"
    }
   ],
   "source": [
    "combined, error = make_predictions(matches_rolling, predictors + new_cols)\n",
    "error"
   ]
  },
  {
   "cell_type": "code",
   "execution_count": 40,
   "id": "73fe77c6",
   "metadata": {},
   "outputs": [
    {
     "data": {
      "text/html": [
       "<div>\n",
       "<style scoped>\n",
       "    .dataframe tbody tr th:only-of-type {\n",
       "        vertical-align: middle;\n",
       "    }\n",
       "\n",
       "    .dataframe tbody tr th {\n",
       "        vertical-align: top;\n",
       "    }\n",
       "\n",
       "    .dataframe thead th {\n",
       "        text-align: right;\n",
       "    }\n",
       "</style>\n",
       "<table border=\"1\" class=\"dataframe\">\n",
       "  <thead>\n",
       "    <tr style=\"text-align: right;\">\n",
       "      <th></th>\n",
       "      <th>actual</th>\n",
       "      <th>predicted</th>\n",
       "      <th>date</th>\n",
       "      <th>team</th>\n",
       "      <th>opponent</th>\n",
       "      <th>result</th>\n",
       "    </tr>\n",
       "  </thead>\n",
       "  <tbody>\n",
       "    <tr>\n",
       "      <th>17</th>\n",
       "      <td>0</td>\n",
       "      <td>0</td>\n",
       "      <td>2022-01-23</td>\n",
       "      <td>Arsenal</td>\n",
       "      <td>Burnley</td>\n",
       "      <td>D</td>\n",
       "    </tr>\n",
       "    <tr>\n",
       "      <th>18</th>\n",
       "      <td>1</td>\n",
       "      <td>0</td>\n",
       "      <td>2022-02-10</td>\n",
       "      <td>Arsenal</td>\n",
       "      <td>Wolves</td>\n",
       "      <td>W</td>\n",
       "    </tr>\n",
       "    <tr>\n",
       "      <th>19</th>\n",
       "      <td>1</td>\n",
       "      <td>0</td>\n",
       "      <td>2022-02-19</td>\n",
       "      <td>Arsenal</td>\n",
       "      <td>Brentford</td>\n",
       "      <td>W</td>\n",
       "    </tr>\n",
       "    <tr>\n",
       "      <th>20</th>\n",
       "      <td>1</td>\n",
       "      <td>1</td>\n",
       "      <td>2022-02-24</td>\n",
       "      <td>Arsenal</td>\n",
       "      <td>Wolves</td>\n",
       "      <td>W</td>\n",
       "    </tr>\n",
       "    <tr>\n",
       "      <th>21</th>\n",
       "      <td>1</td>\n",
       "      <td>1</td>\n",
       "      <td>2022-03-06</td>\n",
       "      <td>Arsenal</td>\n",
       "      <td>Watford</td>\n",
       "      <td>W</td>\n",
       "    </tr>\n",
       "    <tr>\n",
       "      <th>22</th>\n",
       "      <td>1</td>\n",
       "      <td>1</td>\n",
       "      <td>2022-03-13</td>\n",
       "      <td>Arsenal</td>\n",
       "      <td>Leicester City</td>\n",
       "      <td>W</td>\n",
       "    </tr>\n",
       "    <tr>\n",
       "      <th>23</th>\n",
       "      <td>0</td>\n",
       "      <td>1</td>\n",
       "      <td>2022-03-16</td>\n",
       "      <td>Arsenal</td>\n",
       "      <td>Liverpool</td>\n",
       "      <td>L</td>\n",
       "    </tr>\n",
       "    <tr>\n",
       "      <th>24</th>\n",
       "      <td>1</td>\n",
       "      <td>0</td>\n",
       "      <td>2022-03-19</td>\n",
       "      <td>Arsenal</td>\n",
       "      <td>Aston Villa</td>\n",
       "      <td>W</td>\n",
       "    </tr>\n",
       "    <tr>\n",
       "      <th>25</th>\n",
       "      <td>0</td>\n",
       "      <td>0</td>\n",
       "      <td>2022-04-04</td>\n",
       "      <td>Arsenal</td>\n",
       "      <td>Crystal Palace</td>\n",
       "      <td>L</td>\n",
       "    </tr>\n",
       "    <tr>\n",
       "      <th>26</th>\n",
       "      <td>0</td>\n",
       "      <td>0</td>\n",
       "      <td>2022-04-09</td>\n",
       "      <td>Arsenal</td>\n",
       "      <td>Brighton</td>\n",
       "      <td>L</td>\n",
       "    </tr>\n",
       "  </tbody>\n",
       "</table>\n",
       "</div>"
      ],
      "text/plain": [
       "    actual  predicted       date     team        opponent result\n",
       "17       0          0 2022-01-23  Arsenal         Burnley      D\n",
       "18       1          0 2022-02-10  Arsenal          Wolves      W\n",
       "19       1          0 2022-02-19  Arsenal       Brentford      W\n",
       "20       1          1 2022-02-24  Arsenal          Wolves      W\n",
       "21       1          1 2022-03-06  Arsenal         Watford      W\n",
       "22       1          1 2022-03-13  Arsenal  Leicester City      W\n",
       "23       0          1 2022-03-16  Arsenal       Liverpool      L\n",
       "24       1          0 2022-03-19  Arsenal     Aston Villa      W\n",
       "25       0          0 2022-04-04  Arsenal  Crystal Palace      L\n",
       "26       0          0 2022-04-09  Arsenal        Brighton      L"
      ]
     },
     "execution_count": 40,
     "metadata": {},
     "output_type": "execute_result"
    }
   ],
   "source": [
    "combined = combined.merge(matches_rolling[[\"date\", \"team\", \"opponent\", \"result\"]], left_index=True, right_index=True)\n",
    "combined.head(10)"
   ]
  },
  {
   "cell_type": "code",
   "execution_count": 41,
   "id": "46f14dd5",
   "metadata": {},
   "outputs": [],
   "source": [
    "class MissingDict(dict):\n",
    "    __missing__ = lambda self, key: key\n",
    "\n",
    "map_values = {\"Brighton and Hove Albion\": \"Brighton\", \"Manchester United\": \"Manchester Utd\", \"Newcastle United\": \"Newcastle Utd\", \"Tottenham Hotspur\": \"Tottenham\", \"West Ham United\": \"West Ham\", \"Wolverhampton Wanderers\": \"Wolves\"} \n",
    "mapping = MissingDict(**map_values)"
   ]
  },
  {
   "cell_type": "code",
   "execution_count": 42,
   "id": "cbd0cb13",
   "metadata": {},
   "outputs": [],
   "source": [
    "combined[\"new_team\"] = combined[\"team\"].map(mapping)"
   ]
  },
  {
   "cell_type": "code",
   "execution_count": 43,
   "id": "956414bb",
   "metadata": {},
   "outputs": [
    {
     "data": {
      "text/html": [
       "<div>\n",
       "<style scoped>\n",
       "    .dataframe tbody tr th:only-of-type {\n",
       "        vertical-align: middle;\n",
       "    }\n",
       "\n",
       "    .dataframe tbody tr th {\n",
       "        vertical-align: top;\n",
       "    }\n",
       "\n",
       "    .dataframe thead th {\n",
       "        text-align: right;\n",
       "    }\n",
       "</style>\n",
       "<table border=\"1\" class=\"dataframe\">\n",
       "  <thead>\n",
       "    <tr style=\"text-align: right;\">\n",
       "      <th></th>\n",
       "      <th>actual_x</th>\n",
       "      <th>predicted_x</th>\n",
       "      <th>date</th>\n",
       "      <th>team_x</th>\n",
       "      <th>opponent_x</th>\n",
       "      <th>result_x</th>\n",
       "      <th>new_team_x</th>\n",
       "      <th>actual_y</th>\n",
       "      <th>predicted_y</th>\n",
       "      <th>team_y</th>\n",
       "      <th>opponent_y</th>\n",
       "      <th>result_y</th>\n",
       "      <th>new_team_y</th>\n",
       "    </tr>\n",
       "  </thead>\n",
       "  <tbody>\n",
       "    <tr>\n",
       "      <th>0</th>\n",
       "      <td>0</td>\n",
       "      <td>0</td>\n",
       "      <td>2022-01-23</td>\n",
       "      <td>Arsenal</td>\n",
       "      <td>Burnley</td>\n",
       "      <td>D</td>\n",
       "      <td>Arsenal</td>\n",
       "      <td>0</td>\n",
       "      <td>0</td>\n",
       "      <td>Burnley</td>\n",
       "      <td>Arsenal</td>\n",
       "      <td>D</td>\n",
       "      <td>Burnley</td>\n",
       "    </tr>\n",
       "    <tr>\n",
       "      <th>1</th>\n",
       "      <td>1</td>\n",
       "      <td>0</td>\n",
       "      <td>2022-02-10</td>\n",
       "      <td>Arsenal</td>\n",
       "      <td>Wolves</td>\n",
       "      <td>W</td>\n",
       "      <td>Arsenal</td>\n",
       "      <td>0</td>\n",
       "      <td>0</td>\n",
       "      <td>Wolverhampton Wanderers</td>\n",
       "      <td>Arsenal</td>\n",
       "      <td>L</td>\n",
       "      <td>Wolves</td>\n",
       "    </tr>\n",
       "    <tr>\n",
       "      <th>2</th>\n",
       "      <td>1</td>\n",
       "      <td>0</td>\n",
       "      <td>2022-02-19</td>\n",
       "      <td>Arsenal</td>\n",
       "      <td>Brentford</td>\n",
       "      <td>W</td>\n",
       "      <td>Arsenal</td>\n",
       "      <td>0</td>\n",
       "      <td>0</td>\n",
       "      <td>Brentford</td>\n",
       "      <td>Arsenal</td>\n",
       "      <td>L</td>\n",
       "      <td>Brentford</td>\n",
       "    </tr>\n",
       "    <tr>\n",
       "      <th>3</th>\n",
       "      <td>1</td>\n",
       "      <td>1</td>\n",
       "      <td>2022-02-24</td>\n",
       "      <td>Arsenal</td>\n",
       "      <td>Wolves</td>\n",
       "      <td>W</td>\n",
       "      <td>Arsenal</td>\n",
       "      <td>0</td>\n",
       "      <td>0</td>\n",
       "      <td>Wolverhampton Wanderers</td>\n",
       "      <td>Arsenal</td>\n",
       "      <td>L</td>\n",
       "      <td>Wolves</td>\n",
       "    </tr>\n",
       "    <tr>\n",
       "      <th>4</th>\n",
       "      <td>1</td>\n",
       "      <td>1</td>\n",
       "      <td>2022-03-06</td>\n",
       "      <td>Arsenal</td>\n",
       "      <td>Watford</td>\n",
       "      <td>W</td>\n",
       "      <td>Arsenal</td>\n",
       "      <td>0</td>\n",
       "      <td>0</td>\n",
       "      <td>Watford</td>\n",
       "      <td>Arsenal</td>\n",
       "      <td>L</td>\n",
       "      <td>Watford</td>\n",
       "    </tr>\n",
       "    <tr>\n",
       "      <th>...</th>\n",
       "      <td>...</td>\n",
       "      <td>...</td>\n",
       "      <td>...</td>\n",
       "      <td>...</td>\n",
       "      <td>...</td>\n",
       "      <td>...</td>\n",
       "      <td>...</td>\n",
       "      <td>...</td>\n",
       "      <td>...</td>\n",
       "      <td>...</td>\n",
       "      <td>...</td>\n",
       "      <td>...</td>\n",
       "      <td>...</td>\n",
       "    </tr>\n",
       "    <tr>\n",
       "      <th>1766</th>\n",
       "      <td>0</td>\n",
       "      <td>0</td>\n",
       "      <td>2024-04-24</td>\n",
       "      <td>Wolverhampton Wanderers</td>\n",
       "      <td>Bournemouth</td>\n",
       "      <td>L</td>\n",
       "      <td>Wolves</td>\n",
       "      <td>1</td>\n",
       "      <td>0</td>\n",
       "      <td>Bournemouth</td>\n",
       "      <td>Wolves</td>\n",
       "      <td>W</td>\n",
       "      <td>Bournemouth</td>\n",
       "    </tr>\n",
       "    <tr>\n",
       "      <th>1767</th>\n",
       "      <td>1</td>\n",
       "      <td>0</td>\n",
       "      <td>2024-04-27</td>\n",
       "      <td>Wolverhampton Wanderers</td>\n",
       "      <td>Luton Town</td>\n",
       "      <td>W</td>\n",
       "      <td>Wolves</td>\n",
       "      <td>0</td>\n",
       "      <td>0</td>\n",
       "      <td>Luton Town</td>\n",
       "      <td>Wolves</td>\n",
       "      <td>L</td>\n",
       "      <td>Luton Town</td>\n",
       "    </tr>\n",
       "    <tr>\n",
       "      <th>1768</th>\n",
       "      <td>0</td>\n",
       "      <td>0</td>\n",
       "      <td>2024-05-04</td>\n",
       "      <td>Wolverhampton Wanderers</td>\n",
       "      <td>Manchester City</td>\n",
       "      <td>L</td>\n",
       "      <td>Wolves</td>\n",
       "      <td>1</td>\n",
       "      <td>1</td>\n",
       "      <td>Manchester City</td>\n",
       "      <td>Wolves</td>\n",
       "      <td>W</td>\n",
       "      <td>Manchester City</td>\n",
       "    </tr>\n",
       "    <tr>\n",
       "      <th>1769</th>\n",
       "      <td>0</td>\n",
       "      <td>0</td>\n",
       "      <td>2024-05-11</td>\n",
       "      <td>Wolverhampton Wanderers</td>\n",
       "      <td>Crystal Palace</td>\n",
       "      <td>L</td>\n",
       "      <td>Wolves</td>\n",
       "      <td>1</td>\n",
       "      <td>1</td>\n",
       "      <td>Crystal Palace</td>\n",
       "      <td>Wolves</td>\n",
       "      <td>W</td>\n",
       "      <td>Crystal Palace</td>\n",
       "    </tr>\n",
       "    <tr>\n",
       "      <th>1770</th>\n",
       "      <td>0</td>\n",
       "      <td>0</td>\n",
       "      <td>2024-05-19</td>\n",
       "      <td>Wolverhampton Wanderers</td>\n",
       "      <td>Liverpool</td>\n",
       "      <td>L</td>\n",
       "      <td>Wolves</td>\n",
       "      <td>1</td>\n",
       "      <td>1</td>\n",
       "      <td>Liverpool</td>\n",
       "      <td>Wolves</td>\n",
       "      <td>W</td>\n",
       "      <td>Liverpool</td>\n",
       "    </tr>\n",
       "  </tbody>\n",
       "</table>\n",
       "<p>1771 rows × 13 columns</p>\n",
       "</div>"
      ],
      "text/plain": [
       "      actual_x  predicted_x       date                   team_x  \\\n",
       "0            0            0 2022-01-23                  Arsenal   \n",
       "1            1            0 2022-02-10                  Arsenal   \n",
       "2            1            0 2022-02-19                  Arsenal   \n",
       "3            1            1 2022-02-24                  Arsenal   \n",
       "4            1            1 2022-03-06                  Arsenal   \n",
       "...        ...          ...        ...                      ...   \n",
       "1766         0            0 2024-04-24  Wolverhampton Wanderers   \n",
       "1767         1            0 2024-04-27  Wolverhampton Wanderers   \n",
       "1768         0            0 2024-05-04  Wolverhampton Wanderers   \n",
       "1769         0            0 2024-05-11  Wolverhampton Wanderers   \n",
       "1770         0            0 2024-05-19  Wolverhampton Wanderers   \n",
       "\n",
       "           opponent_x result_x new_team_x  actual_y  predicted_y  \\\n",
       "0             Burnley        D    Arsenal         0            0   \n",
       "1              Wolves        W    Arsenal         0            0   \n",
       "2           Brentford        W    Arsenal         0            0   \n",
       "3              Wolves        W    Arsenal         0            0   \n",
       "4             Watford        W    Arsenal         0            0   \n",
       "...               ...      ...        ...       ...          ...   \n",
       "1766      Bournemouth        L     Wolves         1            0   \n",
       "1767       Luton Town        W     Wolves         0            0   \n",
       "1768  Manchester City        L     Wolves         1            1   \n",
       "1769   Crystal Palace        L     Wolves         1            1   \n",
       "1770        Liverpool        L     Wolves         1            1   \n",
       "\n",
       "                       team_y opponent_y result_y       new_team_y  \n",
       "0                     Burnley    Arsenal        D          Burnley  \n",
       "1     Wolverhampton Wanderers    Arsenal        L           Wolves  \n",
       "2                   Brentford    Arsenal        L        Brentford  \n",
       "3     Wolverhampton Wanderers    Arsenal        L           Wolves  \n",
       "4                     Watford    Arsenal        L          Watford  \n",
       "...                       ...        ...      ...              ...  \n",
       "1766              Bournemouth     Wolves        W      Bournemouth  \n",
       "1767               Luton Town     Wolves        L       Luton Town  \n",
       "1768          Manchester City     Wolves        W  Manchester City  \n",
       "1769           Crystal Palace     Wolves        W   Crystal Palace  \n",
       "1770                Liverpool     Wolves        W        Liverpool  \n",
       "\n",
       "[1771 rows x 13 columns]"
      ]
     },
     "execution_count": 43,
     "metadata": {},
     "output_type": "execute_result"
    }
   ],
   "source": [
    "merged = combined.merge(combined, left_on=[\"date\", \"new_team\"], right_on=[\"date\", \"opponent\"])\n",
    "merged"
   ]
  },
  {
   "cell_type": "code",
   "execution_count": 44,
   "id": "fcb13e2f",
   "metadata": {},
   "outputs": [
    {
     "data": {
      "text/plain": [
       "1    195\n",
       "0    142\n",
       "Name: actual_x, dtype: int64"
      ]
     },
     "execution_count": 44,
     "metadata": {},
     "output_type": "execute_result"
    }
   ],
   "source": [
    "merged[(merged[\"predicted_x\"] == 1) & (merged[\"predicted_y\"] ==0)][\"actual_x\"].value_counts()"
   ]
  },
  {
   "cell_type": "code",
   "execution_count": 45,
   "id": "329fd491",
   "metadata": {},
   "outputs": [],
   "source": [
    "### END OF ORIGINAL NOTEBOOK"
   ]
  },
  {
   "cell_type": "code",
   "execution_count": 46,
   "id": "782806d6",
   "metadata": {},
   "outputs": [
    {
     "data": {
      "text/plain": [
       "4-2-3-1       720\n",
       "4-3-3         579\n",
       "3-4-3         269\n",
       "4-4-2         206\n",
       "3-5-2         121\n",
       "4-1-4-1        82\n",
       "4-4-1-1        71\n",
       "5-3-2          45\n",
       "5-4-1          33\n",
       "3-4-1-2        26\n",
       "3-2-4-1        21\n",
       "4-3-1-2        20\n",
       "4-5-1          17\n",
       "4-3-2-1        16\n",
       "4-1-2-1-2◆     16\n",
       "4-2-2-2        12\n",
       "3-5-1-1         9\n",
       "3-3-3-1         7\n",
       "3-1-4-2         7\n",
       "4-2-4-0         2\n",
       "3-4-3◆          1\n",
       "Name: formation, dtype: int64"
      ]
     },
     "execution_count": 46,
     "metadata": {},
     "output_type": "execute_result"
    }
   ],
   "source": [
    "matches[\"formation\"].value_counts()"
   ]
  },
  {
   "cell_type": "code",
   "execution_count": 47,
   "id": "c7dd6e88",
   "metadata": {},
   "outputs": [
    {
     "data": {
      "text/plain": [
       "Lewis Dunk           98\n",
       "Martin Ødegaard      79\n",
       "James Ward-Prowse    75\n",
       "Bruno Fernandes      73\n",
       "Declan Rice          70\n",
       "                     ..\n",
       "José Sá               1\n",
       "Casemiro              1\n",
       "Marcos Alonso         1\n",
       "Marc Albrighton       1\n",
       "Ashley Young          1\n",
       "Name: captain, Length: 135, dtype: int64"
      ]
     },
     "execution_count": 47,
     "metadata": {},
     "output_type": "execute_result"
    }
   ],
   "source": [
    "matches[\"captain\"].value_counts()"
   ]
  },
  {
   "cell_type": "code",
   "execution_count": 48,
   "id": "ca0214df",
   "metadata": {},
   "outputs": [
    {
     "data": {
      "text/plain": [
       "Anthony Taylor       170\n",
       "Paul Tierney         164\n",
       "Michael Oliver       160\n",
       "Simon Hooper         138\n",
       "Craig Pawson         132\n",
       "Andy Madley          126\n",
       "Stuart Attwell       124\n",
       "Robert Jones         120\n",
       "David Coote          114\n",
       "Chris Kavanagh       102\n",
       "Jarred Gillett        94\n",
       "Darren England        90\n",
       "John Brooks           90\n",
       "Peter Bankes          86\n",
       "Michael Salisbury     64\n",
       "Andre Marriner        64\n",
       "Martin Atkinson       52\n",
       "Mike Dean             52\n",
       "Jonathan Moss         50\n",
       "Graham Scott          48\n",
       "Tim Robinson          46\n",
       "Thomas Bramall        38\n",
       "Tony Harrington       38\n",
       "Kevin Friend          36\n",
       "Samuel Barrott        30\n",
       "Darren Bond           18\n",
       "Joshua Smith          10\n",
       "Samuel Allison         6\n",
       "Lewis Smith            4\n",
       "Robert Madley          4\n",
       "Rebecca Welch          4\n",
       "Matt Donohue           4\n",
       "Sunny Singh            2\n",
       "Name: referee, dtype: int64"
      ]
     },
     "execution_count": 48,
     "metadata": {},
     "output_type": "execute_result"
    }
   ],
   "source": [
    "matches[\"referee\"].value_counts()"
   ]
  },
  {
   "cell_type": "code",
   "execution_count": 49,
   "id": "8ab32dc2",
   "metadata": {},
   "outputs": [],
   "source": [
    "d_matches=matches.copy(deep=True)"
   ]
  },
  {
   "cell_type": "code",
   "execution_count": 50,
   "id": "c3c44db2",
   "metadata": {},
   "outputs": [
    {
     "data": {
      "text/plain": [
       "date            datetime64[ns]\n",
       "time                    object\n",
       "round                   object\n",
       "day                     object\n",
       "venue                   object\n",
       "result                  object\n",
       "gf                       int64\n",
       "ga                       int64\n",
       "opponent                object\n",
       "xg                     float64\n",
       "xga                    float64\n",
       "poss                   float64\n",
       "attendance             float64\n",
       "captain                 object\n",
       "formation               object\n",
       "referee                 object\n",
       "match report            object\n",
       "sh                     float64\n",
       "sot                    float64\n",
       "dist                   float64\n",
       "fk                     float64\n",
       "pk                       int64\n",
       "pkatt                    int64\n",
       "season                   int64\n",
       "team                    object\n",
       "target                   int64\n",
       "venue_code                int8\n",
       "opp_code                  int8\n",
       "hour                     int64\n",
       "day_code                 int64\n",
       "dtype: object"
      ]
     },
     "execution_count": 50,
     "metadata": {},
     "output_type": "execute_result"
    }
   ],
   "source": [
    "d_matches.dtypes"
   ]
  },
  {
   "cell_type": "code",
   "execution_count": 51,
   "id": "088d7ac3",
   "metadata": {},
   "outputs": [],
   "source": [
    "del d_matches[\"day\"]\n",
    "del d_matches[\"captain\"]\n",
    "del d_matches[\"referee\"]\n",
    "del d_matches[\"match report\"]"
   ]
  },
  {
   "cell_type": "code",
   "execution_count": 52,
   "id": "c3013828",
   "metadata": {},
   "outputs": [
    {
     "data": {
      "text/plain": [
       "date          datetime64[ns]\n",
       "time                  object\n",
       "round                 object\n",
       "venue                 object\n",
       "result                object\n",
       "gf                     int64\n",
       "ga                     int64\n",
       "opponent              object\n",
       "xg                   float64\n",
       "xga                  float64\n",
       "poss                 float64\n",
       "attendance           float64\n",
       "formation             object\n",
       "sh                   float64\n",
       "sot                  float64\n",
       "dist                 float64\n",
       "fk                   float64\n",
       "pk                     int64\n",
       "pkatt                  int64\n",
       "season                 int64\n",
       "team                  object\n",
       "target                 int64\n",
       "venue_code              int8\n",
       "opp_code                int8\n",
       "hour                   int64\n",
       "day_code               int64\n",
       "dtype: object"
      ]
     },
     "execution_count": 52,
     "metadata": {},
     "output_type": "execute_result"
    }
   ],
   "source": [
    "d_matches.dtypes"
   ]
  },
  {
   "cell_type": "code",
   "execution_count": 53,
   "id": "6e9511e1",
   "metadata": {},
   "outputs": [
    {
     "data": {
      "text/plain": [
       "1    20:00\n",
       "3    20:00\n",
       "4    14:00\n",
       "5    15:00\n",
       "6    15:00\n",
       "Name: time, dtype: object"
      ]
     },
     "execution_count": 53,
     "metadata": {},
     "output_type": "execute_result"
    }
   ],
   "source": [
    "d_matches[\"time\"].head()"
   ]
  },
  {
   "cell_type": "code",
   "execution_count": 54,
   "id": "1bd1206a",
   "metadata": {},
   "outputs": [],
   "source": [
    "d_matches[\"time\"] = pd.to_timedelta(d_matches[\"time\"]+ \":00\")"
   ]
  },
  {
   "cell_type": "code",
   "execution_count": 55,
   "id": "302f0bda",
   "metadata": {},
   "outputs": [
    {
     "data": {
      "text/plain": [
       "1   0 days 20:00:00\n",
       "3   0 days 20:00:00\n",
       "4   0 days 14:00:00\n",
       "5   0 days 15:00:00\n",
       "6   0 days 15:00:00\n",
       "Name: time, dtype: timedelta64[ns]"
      ]
     },
     "execution_count": 55,
     "metadata": {},
     "output_type": "execute_result"
    }
   ],
   "source": [
    "d_matches[\"time\"].head()"
   ]
  },
  {
   "cell_type": "code",
   "execution_count": 56,
   "id": "892f0303",
   "metadata": {},
   "outputs": [],
   "source": [
    "d_matches[\"datetime\"]=d_matches[\"date\"]+d_matches[\"time\"]"
   ]
  },
  {
   "cell_type": "code",
   "execution_count": 57,
   "id": "e0d8e526",
   "metadata": {},
   "outputs": [
    {
     "data": {
      "text/plain": [
       "1   2023-08-11 20:00:00\n",
       "3   2023-08-19 20:00:00\n",
       "4   2023-08-27 14:00:00\n",
       "5   2023-09-02 15:00:00\n",
       "6   2023-09-16 15:00:00\n",
       "Name: datetime, dtype: datetime64[ns]"
      ]
     },
     "execution_count": 57,
     "metadata": {},
     "output_type": "execute_result"
    }
   ],
   "source": [
    "d_matches[\"datetime\"].head()"
   ]
  },
  {
   "cell_type": "code",
   "execution_count": 58,
   "id": "80bc6aac",
   "metadata": {},
   "outputs": [],
   "source": [
    "del d_matches[\"round\"]"
   ]
  },
  {
   "cell_type": "code",
   "execution_count": 59,
   "id": "73836504",
   "metadata": {},
   "outputs": [],
   "source": [
    "import seaborn as sns\n",
    "import matplotlib.pyplot as plt\n",
    "import numpy as np"
   ]
  },
  {
   "cell_type": "code",
   "execution_count": 60,
   "id": "5c52407e",
   "metadata": {},
   "outputs": [
    {
     "data": {
      "image/png": "[encoded data removed]",
      "text/plain": [
       "<Figure size 1000x600 with 1 Axes>"
      ]
     },
     "metadata": {},
     "output_type": "display_data"
    }
   ],
   "source": [
    "plt.figure(figsize=(10, 6))\n",
    "sns.barplot(x=\"formation\", y=\"target\", data=d_matches, estimator=np.mean, ci=None, palette=\"Blues_d\")\n",
    "plt.xlabel(\"Formation\")\n",
    "plt.ylabel(\"Average Target\")\n",
    "plt.title(\"Average Target by Venue\")\n",
    "plt.xticks(rotation=45)  # Rotate venue names for better readability\n",
    "plt.show()"
   ]
  },
  {
   "cell_type": "code",
   "execution_count": 61,
   "id": "3b59a0f8",
   "metadata": {},
   "outputs": [
    {
     "data": {
      "image/png": "[encoded data removed]",
      "text/plain": [
       "<Figure size 1000x600 with 1 Axes>"
      ]
     },
     "metadata": {},
     "output_type": "display_data"
    }
   ],
   "source": [
    "plt.figure(figsize=(10, 6))\n",
    "sns.scatterplot(x=\"formation\", y=\"target\", data=d_matches, palette=\"Blues_d\")\n",
    "plt.xlabel(\"Formation\")\n",
    "plt.ylabel(\"Average Target\")\n",
    "plt.title(\"Average Target by Venue\")\n",
    "plt.xticks(rotation=45)  # Rotate venue names for better readability\n",
    "plt.show()"
   ]
  },
  {
   "cell_type": "code",
   "execution_count": 62,
   "id": "1dd27b55",
   "metadata": {},
   "outputs": [],
   "source": [
    "del d_matches[\"formation\"]"
   ]
  },
  {
   "cell_type": "code",
   "execution_count": 63,
   "id": "38194ec2",
   "metadata": {},
   "outputs": [],
   "source": [
    "d_rf=RandomForestClassifier(n_estimators=100,min_samples_split=10,random_state=1)"
   ]
  },
  {
   "cell_type": "code",
   "execution_count": 64,
   "id": "5b4a74ef",
   "metadata": {},
   "outputs": [],
   "source": [
    "d_train = d_matches[matches[\"date\"] < '2024-01-01']\n",
    "d_test = d_matches[matches[\"date\"] > '2024-01-01']"
   ]
  },
  {
   "cell_type": "code",
   "execution_count": 65,
   "id": "89d03fc8",
   "metadata": {},
   "outputs": [
    {
     "data": {
      "text/plain": [
       "(1912, 25)"
      ]
     },
     "execution_count": 65,
     "metadata": {},
     "output_type": "execute_result"
    }
   ],
   "source": [
    "d_train.shape"
   ]
  },
  {
   "cell_type": "code",
   "execution_count": 66,
   "id": "09276af3",
   "metadata": {},
   "outputs": [
    {
     "data": {
      "text/plain": [
       "(366, 25)"
      ]
     },
     "execution_count": 66,
     "metadata": {},
     "output_type": "execute_result"
    }
   ],
   "source": [
    "d_test.shape"
   ]
  },
  {
   "cell_type": "code",
   "execution_count": 67,
   "id": "3e93d7fa",
   "metadata": {},
   "outputs": [
    {
     "data": {
      "text/plain": [
       "date           datetime64[ns]\n",
       "time          timedelta64[ns]\n",
       "venue                  object\n",
       "result                 object\n",
       "gf                      int64\n",
       "ga                      int64\n",
       "opponent               object\n",
       "xg                    float64\n",
       "xga                   float64\n",
       "poss                  float64\n",
       "attendance            float64\n",
       "sh                    float64\n",
       "sot                   float64\n",
       "dist                  float64\n",
       "fk                    float64\n",
       "pk                      int64\n",
       "pkatt                   int64\n",
       "season                  int64\n",
       "team                   object\n",
       "target                  int64\n",
       "venue_code               int8\n",
       "opp_code                 int8\n",
       "hour                    int64\n",
       "day_code                int64\n",
       "datetime       datetime64[ns]\n",
       "dtype: object"
      ]
     },
     "execution_count": 67,
     "metadata": {},
     "output_type": "execute_result"
    }
   ],
   "source": [
    "d_matches.dtypes"
   ]
  },
  {
   "cell_type": "code",
   "execution_count": 68,
   "id": "3d178667",
   "metadata": {},
   "outputs": [],
   "source": [
    "predictors = [\"venue_code\", \"opp_code\", \"hour\", \"day_code\", \"xg\",\"xga\",\"poss\",\"sh\",\"sot\"]"
   ]
  },
  {
   "cell_type": "code",
   "execution_count": 69,
   "id": "29fc269a",
   "metadata": {},
   "outputs": [
    {
     "data": {
      "text/plain": [
       "RandomForestClassifier(min_samples_split=10, random_state=1)"
      ]
     },
     "execution_count": 69,
     "metadata": {},
     "output_type": "execute_result"
    }
   ],
   "source": [
    "d_rf.fit(d_train[predictors],d_train[\"target\"])"
   ]
  },
  {
   "cell_type": "code",
   "execution_count": 70,
   "id": "16b83551",
   "metadata": {},
   "outputs": [],
   "source": [
    "d_preds = d_rf.predict(d_test[predictors])"
   ]
  },
  {
   "cell_type": "code",
   "execution_count": 71,
   "id": "2030f65e",
   "metadata": {},
   "outputs": [
    {
     "data": {
      "text/plain": [
       "0.6821705426356589"
      ]
     },
     "execution_count": 71,
     "metadata": {},
     "output_type": "execute_result"
    }
   ],
   "source": [
    "precision_score(d_test[\"target\"], d_preds)"
   ]
  },
  {
   "cell_type": "code",
   "execution_count": 72,
   "id": "894befec",
   "metadata": {},
   "outputs": [
    {
     "data": {
      "text/plain": [
       "0.7540983606557377"
      ]
     },
     "execution_count": 72,
     "metadata": {},
     "output_type": "execute_result"
    }
   ],
   "source": [
    "accuracy_score(d_test[\"target\"], d_preds)"
   ]
  },
  {
   "cell_type": "code",
   "execution_count": 73,
   "id": "4295d269",
   "metadata": {},
   "outputs": [],
   "source": [
    "from sklearn.metrics import f1_score"
   ]
  },
  {
   "cell_type": "code",
   "execution_count": 74,
   "id": "cbd91582",
   "metadata": {},
   "outputs": [
    {
     "data": {
      "text/plain": [
       "0.6616541353383458"
      ]
     },
     "execution_count": 74,
     "metadata": {},
     "output_type": "execute_result"
    }
   ],
   "source": [
    "f1_score(d_test[\"target\"], d_preds)"
   ]
  },
  {
   "cell_type": "code",
   "execution_count": 75,
   "id": "2687913d",
   "metadata": {},
   "outputs": [],
   "source": [
    "def d_rolling_averages(d_group, d_cols, d_new_cols):\n",
    "    d_group = d_group.sort_values(\"date\")\n",
    "    d_rolling_stats = d_group[d_cols].rolling(3, closed='left').mean()\n",
    "    d_group[d_new_cols] = d_rolling_stats\n",
    "    d_group = d_group.dropna(subset=d_new_cols)\n",
    "    return d_group"
   ]
  },
  {
   "cell_type": "code",
   "execution_count": 77,
   "id": "f51960c4",
   "metadata": {},
   "outputs": [],
   "source": [
    "d_grouped_matches = matches.groupby(\"team\")"
   ]
  },
  {
   "cell_type": "code",
   "execution_count": 78,
   "id": "01736ac2",
   "metadata": {},
   "outputs": [],
   "source": [
    "d_group=d_grouped_matches.get_group(\"Manchester City\")"
   ]
  },
  {
   "cell_type": "code",
   "execution_count": 79,
   "id": "9609872a",
   "metadata": {},
   "outputs": [],
   "source": [
    "d_cols = [\"gf\", \"ga\", \"sh\",\"sot\", \"dist\", \"fk\", \"pk\", \"pkatt\",\"xg\",\"xga\",\"poss\"]\n",
    "d_new_cols = [f\"{c}_rolling\" for c in d_cols]"
   ]
  },
  {
   "cell_type": "code",
   "execution_count": 80,
   "id": "3773cfad",
   "metadata": {},
   "outputs": [
    {
     "data": {
      "text/plain": [
       "11"
      ]
     },
     "execution_count": 80,
     "metadata": {},
     "output_type": "execute_result"
    }
   ],
   "source": [
    "len(d_new_cols)"
   ]
  },
  {
   "cell_type": "code",
   "execution_count": 81,
   "id": "75149229",
   "metadata": {},
   "outputs": [
    {
     "data": {
      "text/html": [
       "<div>\n",
       "<style scoped>\n",
       "    .dataframe tbody tr th:only-of-type {\n",
       "        vertical-align: middle;\n",
       "    }\n",
       "\n",
       "    .dataframe tbody tr th {\n",
       "        vertical-align: top;\n",
       "    }\n",
       "\n",
       "    .dataframe thead th {\n",
       "        text-align: right;\n",
       "    }\n",
       "</style>\n",
       "<table border=\"1\" class=\"dataframe\">\n",
       "  <thead>\n",
       "    <tr style=\"text-align: right;\">\n",
       "      <th></th>\n",
       "      <th>date</th>\n",
       "      <th>time</th>\n",
       "      <th>round</th>\n",
       "      <th>day</th>\n",
       "      <th>venue</th>\n",
       "      <th>result</th>\n",
       "      <th>gf</th>\n",
       "      <th>ga</th>\n",
       "      <th>opponent</th>\n",
       "      <th>xg</th>\n",
       "      <th>...</th>\n",
       "      <th>ga_rolling</th>\n",
       "      <th>sh_rolling</th>\n",
       "      <th>sot_rolling</th>\n",
       "      <th>dist_rolling</th>\n",
       "      <th>fk_rolling</th>\n",
       "      <th>pk_rolling</th>\n",
       "      <th>pkatt_rolling</th>\n",
       "      <th>xg_rolling</th>\n",
       "      <th>xga_rolling</th>\n",
       "      <th>poss_rolling</th>\n",
       "    </tr>\n",
       "  </thead>\n",
       "  <tbody>\n",
       "    <tr>\n",
       "      <th>4</th>\n",
       "      <td>2021-09-11</td>\n",
       "      <td>15:00</td>\n",
       "      <td>Matchweek 4</td>\n",
       "      <td>Sat</td>\n",
       "      <td>Away</td>\n",
       "      <td>W</td>\n",
       "      <td>1</td>\n",
       "      <td>0</td>\n",
       "      <td>Leicester City</td>\n",
       "      <td>2.8</td>\n",
       "      <td>...</td>\n",
       "      <td>0.333333</td>\n",
       "      <td>19.666667</td>\n",
       "      <td>6.000000</td>\n",
       "      <td>16.866667</td>\n",
       "      <td>0.666667</td>\n",
       "      <td>0.000000</td>\n",
       "      <td>0.000000</td>\n",
       "      <td>2.933333</td>\n",
       "      <td>0.433333</td>\n",
       "      <td>70.666667</td>\n",
       "    </tr>\n",
       "    <tr>\n",
       "      <th>6</th>\n",
       "      <td>2021-09-18</td>\n",
       "      <td>15:00</td>\n",
       "      <td>Matchweek 5</td>\n",
       "      <td>Sat</td>\n",
       "      <td>Home</td>\n",
       "      <td>D</td>\n",
       "      <td>0</td>\n",
       "      <td>0</td>\n",
       "      <td>Southampton</td>\n",
       "      <td>1.0</td>\n",
       "      <td>...</td>\n",
       "      <td>0.000000</td>\n",
       "      <td>22.000000</td>\n",
       "      <td>7.333333</td>\n",
       "      <td>15.866667</td>\n",
       "      <td>0.333333</td>\n",
       "      <td>0.000000</td>\n",
       "      <td>0.000000</td>\n",
       "      <td>3.266667</td>\n",
       "      <td>0.300000</td>\n",
       "      <td>69.333333</td>\n",
       "    </tr>\n",
       "    <tr>\n",
       "      <th>8</th>\n",
       "      <td>2021-09-25</td>\n",
       "      <td>12:30</td>\n",
       "      <td>Matchweek 6</td>\n",
       "      <td>Sat</td>\n",
       "      <td>Away</td>\n",
       "      <td>W</td>\n",
       "      <td>1</td>\n",
       "      <td>0</td>\n",
       "      <td>Chelsea</td>\n",
       "      <td>1.7</td>\n",
       "      <td>...</td>\n",
       "      <td>0.000000</td>\n",
       "      <td>22.000000</td>\n",
       "      <td>6.333333</td>\n",
       "      <td>15.166667</td>\n",
       "      <td>0.333333</td>\n",
       "      <td>0.000000</td>\n",
       "      <td>0.000000</td>\n",
       "      <td>2.733333</td>\n",
       "      <td>0.400000</td>\n",
       "      <td>68.333333</td>\n",
       "    </tr>\n",
       "    <tr>\n",
       "      <th>10</th>\n",
       "      <td>2021-10-03</td>\n",
       "      <td>16:30</td>\n",
       "      <td>Matchweek 7</td>\n",
       "      <td>Sun</td>\n",
       "      <td>Away</td>\n",
       "      <td>D</td>\n",
       "      <td>2</td>\n",
       "      <td>2</td>\n",
       "      <td>Liverpool</td>\n",
       "      <td>1.2</td>\n",
       "      <td>...</td>\n",
       "      <td>0.000000</td>\n",
       "      <td>18.666667</td>\n",
       "      <td>4.000000</td>\n",
       "      <td>15.933333</td>\n",
       "      <td>0.333333</td>\n",
       "      <td>0.000000</td>\n",
       "      <td>0.000000</td>\n",
       "      <td>1.833333</td>\n",
       "      <td>0.400000</td>\n",
       "      <td>61.333333</td>\n",
       "    </tr>\n",
       "    <tr>\n",
       "      <th>11</th>\n",
       "      <td>2021-10-16</td>\n",
       "      <td>15:00</td>\n",
       "      <td>Matchweek 8</td>\n",
       "      <td>Sat</td>\n",
       "      <td>Home</td>\n",
       "      <td>W</td>\n",
       "      <td>2</td>\n",
       "      <td>0</td>\n",
       "      <td>Burnley</td>\n",
       "      <td>2.1</td>\n",
       "      <td>...</td>\n",
       "      <td>0.666667</td>\n",
       "      <td>14.333333</td>\n",
       "      <td>2.333333</td>\n",
       "      <td>16.833333</td>\n",
       "      <td>0.666667</td>\n",
       "      <td>0.000000</td>\n",
       "      <td>0.000000</td>\n",
       "      <td>1.300000</td>\n",
       "      <td>0.500000</td>\n",
       "      <td>58.000000</td>\n",
       "    </tr>\n",
       "    <tr>\n",
       "      <th>...</th>\n",
       "      <td>...</td>\n",
       "      <td>...</td>\n",
       "      <td>...</td>\n",
       "      <td>...</td>\n",
       "      <td>...</td>\n",
       "      <td>...</td>\n",
       "      <td>...</td>\n",
       "      <td>...</td>\n",
       "      <td>...</td>\n",
       "      <td>...</td>\n",
       "      <td>...</td>\n",
       "      <td>...</td>\n",
       "      <td>...</td>\n",
       "      <td>...</td>\n",
       "      <td>...</td>\n",
       "      <td>...</td>\n",
       "      <td>...</td>\n",
       "      <td>...</td>\n",
       "      <td>...</td>\n",
       "      <td>...</td>\n",
       "      <td>...</td>\n",
       "    </tr>\n",
       "    <tr>\n",
       "      <th>51</th>\n",
       "      <td>2024-04-28</td>\n",
       "      <td>16:30</td>\n",
       "      <td>Matchweek 35</td>\n",
       "      <td>Sun</td>\n",
       "      <td>Away</td>\n",
       "      <td>W</td>\n",
       "      <td>2</td>\n",
       "      <td>0</td>\n",
       "      <td>Nott'ham Forest</td>\n",
       "      <td>0.9</td>\n",
       "      <td>...</td>\n",
       "      <td>1.000000</td>\n",
       "      <td>22.666667</td>\n",
       "      <td>8.666667</td>\n",
       "      <td>16.666667</td>\n",
       "      <td>0.333333</td>\n",
       "      <td>0.333333</td>\n",
       "      <td>0.333333</td>\n",
       "      <td>2.500000</td>\n",
       "      <td>0.733333</td>\n",
       "      <td>70.666667</td>\n",
       "    </tr>\n",
       "    <tr>\n",
       "      <th>52</th>\n",
       "      <td>2024-05-04</td>\n",
       "      <td>17:30</td>\n",
       "      <td>Matchweek 36</td>\n",
       "      <td>Sat</td>\n",
       "      <td>Home</td>\n",
       "      <td>W</td>\n",
       "      <td>5</td>\n",
       "      <td>1</td>\n",
       "      <td>Wolves</td>\n",
       "      <td>3.7</td>\n",
       "      <td>...</td>\n",
       "      <td>0.333333</td>\n",
       "      <td>20.333333</td>\n",
       "      <td>7.666667</td>\n",
       "      <td>17.533333</td>\n",
       "      <td>0.666667</td>\n",
       "      <td>0.333333</td>\n",
       "      <td>0.333333</td>\n",
       "      <td>2.166667</td>\n",
       "      <td>1.000000</td>\n",
       "      <td>67.666667</td>\n",
       "    </tr>\n",
       "    <tr>\n",
       "      <th>53</th>\n",
       "      <td>2024-05-11</td>\n",
       "      <td>12:30</td>\n",
       "      <td>Matchweek 37</td>\n",
       "      <td>Sat</td>\n",
       "      <td>Away</td>\n",
       "      <td>W</td>\n",
       "      <td>4</td>\n",
       "      <td>0</td>\n",
       "      <td>Fulham</td>\n",
       "      <td>3.2</td>\n",
       "      <td>...</td>\n",
       "      <td>0.333333</td>\n",
       "      <td>14.333333</td>\n",
       "      <td>7.000000</td>\n",
       "      <td>17.000000</td>\n",
       "      <td>0.666667</td>\n",
       "      <td>0.666667</td>\n",
       "      <td>0.666667</td>\n",
       "      <td>2.000000</td>\n",
       "      <td>0.933333</td>\n",
       "      <td>62.666667</td>\n",
       "    </tr>\n",
       "    <tr>\n",
       "      <th>54</th>\n",
       "      <td>2024-05-14</td>\n",
       "      <td>20:00</td>\n",
       "      <td>Matchweek 34</td>\n",
       "      <td>Tue</td>\n",
       "      <td>Away</td>\n",
       "      <td>W</td>\n",
       "      <td>2</td>\n",
       "      <td>0</td>\n",
       "      <td>Tottenham</td>\n",
       "      <td>2.4</td>\n",
       "      <td>...</td>\n",
       "      <td>0.333333</td>\n",
       "      <td>14.666667</td>\n",
       "      <td>7.666667</td>\n",
       "      <td>17.200000</td>\n",
       "      <td>0.333333</td>\n",
       "      <td>1.000000</td>\n",
       "      <td>1.000000</td>\n",
       "      <td>2.600000</td>\n",
       "      <td>0.766667</td>\n",
       "      <td>62.666667</td>\n",
       "    </tr>\n",
       "    <tr>\n",
       "      <th>55</th>\n",
       "      <td>2024-05-19</td>\n",
       "      <td>16:00</td>\n",
       "      <td>Matchweek 38</td>\n",
       "      <td>Sun</td>\n",
       "      <td>Home</td>\n",
       "      <td>W</td>\n",
       "      <td>3</td>\n",
       "      <td>1</td>\n",
       "      <td>West Ham</td>\n",
       "      <td>1.9</td>\n",
       "      <td>...</td>\n",
       "      <td>0.333333</td>\n",
       "      <td>13.333333</td>\n",
       "      <td>7.333333</td>\n",
       "      <td>15.800000</td>\n",
       "      <td>0.000000</td>\n",
       "      <td>1.333333</td>\n",
       "      <td>1.333333</td>\n",
       "      <td>3.100000</td>\n",
       "      <td>0.700000</td>\n",
       "      <td>56.333333</td>\n",
       "    </tr>\n",
       "  </tbody>\n",
       "</table>\n",
       "<p>111 rows × 41 columns</p>\n",
       "</div>"
      ],
      "text/plain": [
       "         date   time         round  day venue result  gf  ga         opponent  \\\n",
       "4  2021-09-11  15:00   Matchweek 4  Sat  Away      W   1   0   Leicester City   \n",
       "6  2021-09-18  15:00   Matchweek 5  Sat  Home      D   0   0      Southampton   \n",
       "8  2021-09-25  12:30   Matchweek 6  Sat  Away      W   1   0          Chelsea   \n",
       "10 2021-10-03  16:30   Matchweek 7  Sun  Away      D   2   2        Liverpool   \n",
       "11 2021-10-16  15:00   Matchweek 8  Sat  Home      W   2   0          Burnley   \n",
       "..        ...    ...           ...  ...   ...    ...  ..  ..              ...   \n",
       "51 2024-04-28  16:30  Matchweek 35  Sun  Away      W   2   0  Nott'ham Forest   \n",
       "52 2024-05-04  17:30  Matchweek 36  Sat  Home      W   5   1           Wolves   \n",
       "53 2024-05-11  12:30  Matchweek 37  Sat  Away      W   4   0           Fulham   \n",
       "54 2024-05-14  20:00  Matchweek 34  Tue  Away      W   2   0        Tottenham   \n",
       "55 2024-05-19  16:00  Matchweek 38  Sun  Home      W   3   1         West Ham   \n",
       "\n",
       "     xg  ...  ga_rolling  sh_rolling  sot_rolling dist_rolling fk_rolling  \\\n",
       "4   2.8  ...    0.333333   19.666667     6.000000    16.866667   0.666667   \n",
       "6   1.0  ...    0.000000   22.000000     7.333333    15.866667   0.333333   \n",
       "8   1.7  ...    0.000000   22.000000     6.333333    15.166667   0.333333   \n",
       "10  1.2  ...    0.000000   18.666667     4.000000    15.933333   0.333333   \n",
       "11  2.1  ...    0.666667   14.333333     2.333333    16.833333   0.666667   \n",
       "..  ...  ...         ...         ...          ...          ...        ...   \n",
       "51  0.9  ...    1.000000   22.666667     8.666667    16.666667   0.333333   \n",
       "52  3.7  ...    0.333333   20.333333     7.666667    17.533333   0.666667   \n",
       "53  3.2  ...    0.333333   14.333333     7.000000    17.000000   0.666667   \n",
       "54  2.4  ...    0.333333   14.666667     7.666667    17.200000   0.333333   \n",
       "55  1.9  ...    0.333333   13.333333     7.333333    15.800000   0.000000   \n",
       "\n",
       "   pk_rolling pkatt_rolling  xg_rolling  xga_rolling  poss_rolling  \n",
       "4    0.000000      0.000000    2.933333     0.433333     70.666667  \n",
       "6    0.000000      0.000000    3.266667     0.300000     69.333333  \n",
       "8    0.000000      0.000000    2.733333     0.400000     68.333333  \n",
       "10   0.000000      0.000000    1.833333     0.400000     61.333333  \n",
       "11   0.000000      0.000000    1.300000     0.500000     58.000000  \n",
       "..        ...           ...         ...          ...           ...  \n",
       "51   0.333333      0.333333    2.500000     0.733333     70.666667  \n",
       "52   0.333333      0.333333    2.166667     1.000000     67.666667  \n",
       "53   0.666667      0.666667    2.000000     0.933333     62.666667  \n",
       "54   1.000000      1.000000    2.600000     0.766667     62.666667  \n",
       "55   1.333333      1.333333    3.100000     0.700000     56.333333  \n",
       "\n",
       "[111 rows x 41 columns]"
      ]
     },
     "execution_count": 81,
     "metadata": {},
     "output_type": "execute_result"
    }
   ],
   "source": [
    "d_rolling_averages(d_group,d_cols,d_new_cols)"
   ]
  },
  {
   "cell_type": "code",
   "execution_count": 82,
   "id": "2bb0bdc3",
   "metadata": {},
   "outputs": [],
   "source": [
    "d_matches_rolling = d_matches.groupby(\"team\").apply(lambda x: rolling_averages(x, d_cols, d_new_cols))"
   ]
  },
  {
   "cell_type": "code",
   "execution_count": 83,
   "id": "2fa1f424",
   "metadata": {},
   "outputs": [],
   "source": [
    "d_matches_rolling=d_matches_rolling.droplevel(\"team\")"
   ]
  },
  {
   "cell_type": "code",
   "execution_count": 84,
   "id": "54669924",
   "metadata": {},
   "outputs": [
    {
     "data": {
      "text/plain": [
       "(2205, 36)"
      ]
     },
     "execution_count": 84,
     "metadata": {},
     "output_type": "execute_result"
    }
   ],
   "source": [
    "d_matches_rolling.shape"
   ]
  },
  {
   "cell_type": "code",
   "execution_count": 85,
   "id": "cb53c0ed",
   "metadata": {},
   "outputs": [],
   "source": [
    "d_matches_rolling.index=range(d_matches_rolling.shape[0])"
   ]
  },
  {
   "cell_type": "code",
   "execution_count": 86,
   "id": "edfcdbb7",
   "metadata": {},
   "outputs": [],
   "source": [
    "predictors=predictors+d_new_cols"
   ]
  },
  {
   "cell_type": "code",
   "execution_count": 87,
   "id": "31fd0f7d",
   "metadata": {},
   "outputs": [],
   "source": [
    "d_train = d_matches_rolling[ d_matches_rolling[\"date\"] < '2024-01-01']\n",
    "d_test = d_matches_rolling[d_matches_rolling[\"date\"] > '2024-01-01']"
   ]
  },
  {
   "cell_type": "code",
   "execution_count": 107,
   "id": "5b55512f",
   "metadata": {},
   "outputs": [
    {
     "data": {
      "text/plain": [
       "RandomForestClassifier(min_samples_split=10, random_state=1)"
      ]
     },
     "execution_count": 107,
     "metadata": {},
     "output_type": "execute_result"
    }
   ],
   "source": [
    "x_train=d_train[predictors]\n",
    "y_train=d_train[\"target\"]\n",
    "x_test=d_test[predictors]\n",
    "y_test=d_test[\"target\"]\n",
    "d_rf.fit(x_train,y_train)"
   ]
  },
  {
   "cell_type": "code",
   "execution_count": 108,
   "id": "23bfb59c",
   "metadata": {},
   "outputs": [],
   "source": [
    "d_preds = d_rf.predict(x_test)"
   ]
  },
  {
   "cell_type": "code",
   "execution_count": 109,
   "id": "958e8508",
   "metadata": {},
   "outputs": [
    {
     "data": {
      "text/plain": [
       "0.7443609022556391"
      ]
     },
     "execution_count": 109,
     "metadata": {},
     "output_type": "execute_result"
    }
   ],
   "source": [
    "precision_score(y_test, d_preds)"
   ]
  },
  {
   "cell_type": "code",
   "execution_count": 110,
   "id": "0455dd27",
   "metadata": {},
   "outputs": [
    {
     "data": {
      "text/plain": [
       "0.8032786885245902"
      ]
     },
     "execution_count": 110,
     "metadata": {},
     "output_type": "execute_result"
    }
   ],
   "source": [
    "accuracy_score(y_test, d_preds)"
   ]
  },
  {
   "cell_type": "code",
   "execution_count": 111,
   "id": "4b4e6ed1",
   "metadata": {},
   "outputs": [
    {
     "data": {
      "text/plain": [
       "0.7333333333333334"
      ]
     },
     "execution_count": 111,
     "metadata": {},
     "output_type": "execute_result"
    }
   ],
   "source": [
    "f1_score(y_test, d_preds)"
   ]
  },
  {
   "cell_type": "code",
   "execution_count": 112,
   "id": "1a43d7eb",
   "metadata": {},
   "outputs": [],
   "source": [
    "import xgboost as xgb"
   ]
  },
  {
   "cell_type": "code",
   "execution_count": 113,
   "id": "b9f1e866",
   "metadata": {},
   "outputs": [],
   "source": [
    "xgb_classifier = xgb.XGBClassifier()"
   ]
  },
  {
   "cell_type": "code",
   "execution_count": 114,
   "id": "106ceedb",
   "metadata": {},
   "outputs": [],
   "source": [
    "from sklearn.ensemble import StackingClassifier"
   ]
  },
  {
   "cell_type": "code",
   "execution_count": 125,
   "id": "46502bc7",
   "metadata": {},
   "outputs": [],
   "source": [
    "estimators = [\n",
    "    ('rf', d_rf),\n",
    "    ('xgb', xgb_classifier)\n",
    "]"
   ]
  },
  {
   "cell_type": "code",
   "execution_count": 126,
   "id": "154f1454",
   "metadata": {},
   "outputs": [],
   "source": [
    "stacking_model = StackingClassifier(estimators=estimators, final_estimator=RandomForestClassifier(n_estimators=100, random_state=42))"
   ]
  },
  {
   "cell_type": "code",
   "execution_count": 127,
   "id": "750ba803",
   "metadata": {},
   "outputs": [
    {
     "name": "stdout",
     "output_type": "stream",
     "text": [
      "Accuracy: 0.7486\n"
     ]
    }
   ],
   "source": [
    "stacking_model.fit(x_train,y_train)\n",
    "\n",
    "# Predict and evaluate\n",
    "y_pred = stacking_model.predict(x_test)\n",
    "accuracy = accuracy_score(y_test, y_pred)\n",
    "print(f'Accuracy: {accuracy:.4f}')"
   ]
  },
  {
   "cell_type": "code",
   "execution_count": 128,
   "id": "4d8a4aaa",
   "metadata": {},
   "outputs": [
    {
     "data": {
      "text/plain": [
       "0.6691729323308271"
      ]
     },
     "execution_count": 128,
     "metadata": {},
     "output_type": "execute_result"
    }
   ],
   "source": [
    "precision_score(y_test, y_pred)"
   ]
  },
  {
   "cell_type": "code",
   "execution_count": 129,
   "id": "7c809272",
   "metadata": {},
   "outputs": [
    {
     "data": {
      "text/plain": [
       "0.6592592592592592"
      ]
     },
     "execution_count": 129,
     "metadata": {},
     "output_type": "execute_result"
    }
   ],
   "source": [
    "f1_score(y_test, y_pred)"
   ]
  },
  {
   "cell_type": "code",
   "execution_count": 130,
   "id": "d838934a",
   "metadata": {},
   "outputs": [],
   "source": [
    "from sklearn.linear_model import LogisticRegression"
   ]
  },
  {
   "cell_type": "code",
   "execution_count": 131,
   "id": "6ab3ecb6",
   "metadata": {},
   "outputs": [
    {
     "name": "stdout",
     "output_type": "stream",
     "text": [
      "Accuracy: 0.7760\n"
     ]
    }
   ],
   "source": [
    "linear_model=LogisticRegression(random_state=42,max_iter=1500)\n",
    "linear_model.fit(x_train,y_train)\n",
    "y_pred = linear_model.predict(x_test)\n",
    "accuracy = accuracy_score(y_test, y_pred)\n",
    "print(f'Accuracy: {accuracy:.4f}')"
   ]
  },
  {
   "cell_type": "code",
   "execution_count": 132,
   "id": "972ab7e3",
   "metadata": {},
   "outputs": [
    {
     "data": {
      "text/plain": [
       "0.7007299270072993"
      ]
     },
     "execution_count": 132,
     "metadata": {},
     "output_type": "execute_result"
    }
   ],
   "source": [
    "precision_score(y_test, y_pred)"
   ]
  },
  {
   "cell_type": "code",
   "execution_count": 133,
   "id": "3cb904a0",
   "metadata": {},
   "outputs": [
    {
     "data": {
      "text/plain": [
       "0.7007299270072993"
      ]
     },
     "execution_count": 133,
     "metadata": {},
     "output_type": "execute_result"
    }
   ],
   "source": [
    "f1_score(y_test, y_pred)"
   ]
  },
  {
   "cell_type": "code",
   "execution_count": 134,
   "id": "61f1dea2",
   "metadata": {},
   "outputs": [
    {
     "data": {
      "text/plain": [
       "XGBClassifier(base_score=None, booster=None, callbacks=None,\n",
       "              colsample_bylevel=None, colsample_bynode=None,\n",
       "              colsample_bytree=None, device=None, early_stopping_rounds=None,\n",
       "              enable_categorical=False, eval_metric=None, feature_types=None,\n",
       "              gamma=None, grow_policy=None, importance_type=None,\n",
       "              interaction_constraints=None, learning_rate=None, max_bin=None,\n",
       "              max_cat_threshold=None, max_cat_to_onehot=None,\n",
       "              max_delta_step=None, max_depth=None, max_leaves=None,\n",
       "              min_child_weight=None, missing=nan, monotone_constraints=None,\n",
       "              multi_strategy=None, n_estimators=None, n_jobs=None,\n",
       "              num_parallel_tree=None, random_state=None, ...)"
      ]
     },
     "execution_count": 134,
     "metadata": {},
     "output_type": "execute_result"
    }
   ],
   "source": [
    "xgb_classifier.fit(x_train,y_train)"
   ]
  },
  {
   "cell_type": "code",
   "execution_count": 135,
   "id": "8fbcb39d",
   "metadata": {},
   "outputs": [],
   "source": [
    "y_pred=xgb_classifier.predict(x_test)"
   ]
  },
  {
   "cell_type": "code",
   "execution_count": 136,
   "id": "e056289c",
   "metadata": {},
   "outputs": [
    {
     "name": "stdout",
     "output_type": "stream",
     "text": [
      "Accuracy: 0.7923\n"
     ]
    }
   ],
   "source": [
    "accuracy = accuracy_score(y_test, y_pred)\n",
    "print(f'Accuracy: {accuracy:.4f}')"
   ]
  },
  {
   "cell_type": "code",
   "execution_count": 137,
   "id": "dd3b9fd6",
   "metadata": {},
   "outputs": [
    {
     "data": {
      "text/plain": [
       "0.732824427480916"
      ]
     },
     "execution_count": 137,
     "metadata": {},
     "output_type": "execute_result"
    }
   ],
   "source": [
    "precision_score(y_test, y_pred)"
   ]
  },
  {
   "cell_type": "code",
   "execution_count": 138,
   "id": "5ef9fe4b",
   "metadata": {},
   "outputs": [
    {
     "data": {
      "text/plain": [
       "0.7164179104477613"
      ]
     },
     "execution_count": 138,
     "metadata": {},
     "output_type": "execute_result"
    }
   ],
   "source": [
    "f1_score(y_test, y_pred)"
   ]
  },
  {
   "cell_type": "code",
   "execution_count": 139,
   "id": "9a49d909",
   "metadata": {},
   "outputs": [],
   "source": [
    "from sklearn.svm import SVC"
   ]
  },
  {
   "cell_type": "code",
   "execution_count": 144,
   "id": "a678d1ce",
   "metadata": {},
   "outputs": [],
   "source": [
    "clf = SVC(random_state = 912, kernel='linear')"
   ]
  },
  {
   "cell_type": "code",
   "execution_count": 145,
   "id": "448b73db",
   "metadata": {},
   "outputs": [
    {
     "name": "stdout",
     "output_type": "stream",
     "text": [
      "Accuracy: 0.7760\n"
     ]
    }
   ],
   "source": [
    "clf.fit(x_train,y_train)\n",
    "y_pred = linear_model.predict(x_test)\n",
    "accuracy = accuracy_score(y_test, y_pred)\n",
    "print(f'Accuracy: {accuracy:.4f}')"
   ]
  },
  {
   "cell_type": "code",
   "execution_count": 146,
   "id": "884f3fbc",
   "metadata": {},
   "outputs": [
    {
     "data": {
      "text/plain": [
       "0.7007299270072993"
      ]
     },
     "execution_count": 146,
     "metadata": {},
     "output_type": "execute_result"
    }
   ],
   "source": [
    "precision_score(y_test, y_pred)"
   ]
  },
  {
   "cell_type": "code",
   "execution_count": 147,
   "id": "c0846ac0",
   "metadata": {},
   "outputs": [
    {
     "data": {
      "text/plain": [
       "0.7007299270072993"
      ]
     },
     "execution_count": 147,
     "metadata": {},
     "output_type": "execute_result"
    }
   ],
   "source": [
    "f1_score(y_test, y_pred)"
   ]
  },
  {
   "cell_type": "code",
   "execution_count": null,
   "id": "5c01c129",
   "metadata": {},
   "outputs": [],
   "source": []
  }
 ],
 "metadata": {
  "kernelspec": {
   "display_name": "Python 3 (ipykernel)",
   "language": "python",
   "name": "python3"
  },
  "language_info": {
   "codemirror_mode": {
    "name": "ipython",
    "version": 3
   },
   "file_extension": ".py",
   "mimetype": "text/x-python",
   "name": "python",
   "nbconvert_exporter": "python",
   "pygments_lexer": "ipython3",
   "version": "3.9.13"
  }
 },
 "nbformat": 4,
 "nbformat_minor": 5
}
