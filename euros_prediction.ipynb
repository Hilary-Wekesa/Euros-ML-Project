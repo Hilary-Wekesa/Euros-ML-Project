{
 "cells": [
  {
   "cell_type": "code",
   "execution_count": 1,
   "id": "ca1c8d9f",
   "metadata": {},
   "outputs": [],
   "source": [
    "import pandas as pd"
   ]
  },
  {
   "cell_type": "code",
   "execution_count": 79,
   "id": "4853672b",
   "metadata": {},
   "outputs": [],
   "source": [
    "matches=pd.read_csv(\"euros_matches.csv\",index_col=0)"
   ]
  },
  {
   "cell_type": "code",
   "execution_count": 80,
   "id": "bfa1dbf7",
   "metadata": {},
   "outputs": [
    {
     "data": {
      "text/plain": [
       "(780, 41)"
      ]
     },
     "execution_count": 80,
     "metadata": {},
     "output_type": "execute_result"
    }
   ],
   "source": [
    "matches.shape"
   ]
  },
  {
   "cell_type": "code",
   "execution_count": 81,
   "id": "3b5802b3",
   "metadata": {},
   "outputs": [
    {
     "data": {
      "text/plain": [
       "Index(['date', 'time', 'comp', 'round', 'day', 'venue', 'result', 'gf', 'ga',\n",
       "       'opponent', 'xg', 'xga', 'poss', 'attendance', 'captain', 'formation',\n",
       "       'referee', 'match report', 'notes', 'sh', 'sot', 'sot%', 'g/sh',\n",
       "       'g/sot', 'dist', 'pk', 'pkatt', 'g-xg', 'np:g-xg', 'sca', 'gca',\n",
       "       'att 3rd', 'att pen', 'att', 'succ', 'succ%', 'prgc', '1/3', 'cpa',\n",
       "       'year', 'team'],\n",
       "      dtype='object')"
      ]
     },
     "execution_count": 81,
     "metadata": {},
     "output_type": "execute_result"
    }
   ],
   "source": [
    "matches.columns"
   ]
  },
  {
   "cell_type": "code",
   "execution_count": 82,
   "id": "b6832a84",
   "metadata": {},
   "outputs": [
    {
     "data": {
      "text/plain": [
       "UEFA Euro Qualifying    426\n",
       "UEFA Euro               202\n",
       "Friendlies (M)          152\n",
       "Name: comp, dtype: int64"
      ]
     },
     "execution_count": 82,
     "metadata": {},
     "output_type": "execute_result"
    }
   ],
   "source": [
    "matches[\"comp\"].value_counts()"
   ]
  },
  {
   "cell_type": "code",
   "execution_count": 83,
   "id": "413dd707",
   "metadata": {},
   "outputs": [
    {
     "data": {
      "text/plain": [
       "2024    390\n",
       "2021    390\n",
       "Name: year, dtype: int64"
      ]
     },
     "execution_count": 83,
     "metadata": {},
     "output_type": "execute_result"
    }
   ],
   "source": [
    "matches[\"year\"].value_counts()"
   ]
  },
  {
   "cell_type": "code",
   "execution_count": 84,
   "id": "f51d4f2e",
   "metadata": {},
   "outputs": [
    {
     "data": {
      "text/plain": [
       "date             object\n",
       "time             object\n",
       "comp             object\n",
       "round            object\n",
       "day              object\n",
       "venue            object\n",
       "result           object\n",
       "gf               object\n",
       "ga               object\n",
       "opponent         object\n",
       "xg              float64\n",
       "xga             float64\n",
       "poss            float64\n",
       "attendance      float64\n",
       "captain          object\n",
       "formation        object\n",
       "referee          object\n",
       "match report     object\n",
       "notes            object\n",
       "sh              float64\n",
       "sot             float64\n",
       "sot%            float64\n",
       "g/sh            float64\n",
       "g/sot           float64\n",
       "dist            float64\n",
       "pk                int64\n",
       "pkatt             int64\n",
       "g-xg            float64\n",
       "np:g-xg         float64\n",
       "sca             float64\n",
       "gca             float64\n",
       "att 3rd         float64\n",
       "att pen         float64\n",
       "att             float64\n",
       "succ            float64\n",
       "succ%           float64\n",
       "prgc            float64\n",
       "1/3             float64\n",
       "cpa             float64\n",
       "year              int64\n",
       "team             object\n",
       "dtype: object"
      ]
     },
     "execution_count": 84,
     "metadata": {},
     "output_type": "execute_result"
    }
   ],
   "source": [
    "matches.dtypes"
   ]
  },
  {
   "cell_type": "code",
   "execution_count": 85,
   "id": "caacc416",
   "metadata": {},
   "outputs": [
    {
     "data": {
      "text/plain": [
       "0       Away\n",
       "1       Home\n",
       "2       Home\n",
       "3       Home\n",
       "4    Neutral\n",
       "Name: venue, dtype: object"
      ]
     },
     "execution_count": 85,
     "metadata": {},
     "output_type": "execute_result"
    }
   ],
   "source": [
    "matches[\"venue\"].head()"
   ]
  },
  {
   "cell_type": "code",
   "execution_count": 86,
   "id": "b5386d08",
   "metadata": {},
   "outputs": [
    {
     "data": {
      "text/plain": [
       "W    435\n",
       "D    177\n",
       "L    168\n",
       "Name: result, dtype: int64"
      ]
     },
     "execution_count": 86,
     "metadata": {},
     "output_type": "execute_result"
    }
   ],
   "source": [
    "matches[\"result\"].value_counts()"
   ]
  },
  {
   "cell_type": "code",
   "execution_count": 87,
   "id": "5b6d2bc5",
   "metadata": {},
   "outputs": [
    {
     "data": {
      "text/plain": [
       "Match Report    780\n",
       "Name: match report, dtype: int64"
      ]
     },
     "execution_count": 87,
     "metadata": {},
     "output_type": "execute_result"
    }
   ],
   "source": [
    "matches[\"match report\"].value_counts()"
   ]
  },
  {
   "cell_type": "code",
   "execution_count": 88,
   "id": "496b2166",
   "metadata": {},
   "outputs": [],
   "source": [
    "del matches[\"match report\"]"
   ]
  },
  {
   "cell_type": "code",
   "execution_count": 89,
   "id": "45548a53",
   "metadata": {},
   "outputs": [
    {
     "data": {
      "text/plain": [
       "Required Extra Time                                      13\n",
       "Italy won on penalty kicks following extra time           4\n",
       "England won on penalty kicks following extra time         2\n",
       "Portugal won on penalty kicks following extra time        2\n",
       "France won on penalty kicks following extra time          2\n",
       "Switzerland won on penalty kicks following extra time     2\n",
       "Spain won on penalty kicks following extra time           2\n",
       "Scotland won on penalty kicks following extra time        2\n",
       "Poland won on penalty kicks following extra time          1\n",
       "Match awarded to                                          1\n",
       "Georgia won on penalty kicks following extra time         1\n",
       "Slovakia won on penalty kicks following extra time        1\n",
       "Name: notes, dtype: int64"
      ]
     },
     "execution_count": 89,
     "metadata": {},
     "output_type": "execute_result"
    }
   ],
   "source": [
    "matches[\"notes\"].value_counts()"
   ]
  },
  {
   "cell_type": "code",
   "execution_count": 90,
   "id": "f277fecd",
   "metadata": {},
   "outputs": [],
   "source": [
    "del matches[\"notes\"]"
   ]
  },
  {
   "cell_type": "code",
   "execution_count": 91,
   "id": "f4b20d03",
   "metadata": {},
   "outputs": [],
   "source": [
    "del matches[\"np:g-xg\"]"
   ]
  },
  {
   "cell_type": "code",
   "execution_count": 92,
   "id": "3f9e11cb",
   "metadata": {},
   "outputs": [
    {
     "data": {
      "text/plain": [
       "Group stage       556\n",
       "Friendlies (M)    152\n",
       "Round of 16        32\n",
       "Quarter-finals     16\n",
       "Semi-finals        15\n",
       "Finals              7\n",
       "Final               2\n",
       "Name: round, dtype: int64"
      ]
     },
     "execution_count": 92,
     "metadata": {},
     "output_type": "execute_result"
    }
   ],
   "source": [
    "matches[\"round\"].value_counts()"
   ]
  },
  {
   "cell_type": "code",
   "execution_count": 93,
   "id": "99ec2bcd",
   "metadata": {},
   "outputs": [],
   "source": [
    "# Convert date & time columns to datetime\n",
    "matches['date'] = pd.to_datetime(matches['date'])\n",
    "matches['time'] = pd.to_datetime(matches['time']).dt.time"
   ]
  },
  {
   "cell_type": "code",
   "execution_count": 94,
   "id": "302c24b8",
   "metadata": {},
   "outputs": [
    {
     "data": {
      "text/plain": [
       "date          datetime64[ns]\n",
       "time                  object\n",
       "comp                  object\n",
       "round                 object\n",
       "day                   object\n",
       "venue                 object\n",
       "result                object\n",
       "gf                    object\n",
       "ga                    object\n",
       "opponent              object\n",
       "xg                   float64\n",
       "xga                  float64\n",
       "poss                 float64\n",
       "attendance           float64\n",
       "captain               object\n",
       "formation             object\n",
       "referee               object\n",
       "sh                   float64\n",
       "sot                  float64\n",
       "sot%                 float64\n",
       "g/sh                 float64\n",
       "g/sot                float64\n",
       "dist                 float64\n",
       "pk                     int64\n",
       "pkatt                  int64\n",
       "g-xg                 float64\n",
       "sca                  float64\n",
       "gca                  float64\n",
       "att 3rd              float64\n",
       "att pen              float64\n",
       "att                  float64\n",
       "succ                 float64\n",
       "succ%                float64\n",
       "prgc                 float64\n",
       "1/3                  float64\n",
       "cpa                  float64\n",
       "year                   int64\n",
       "team                  object\n",
       "dtype: object"
      ]
     },
     "execution_count": 94,
     "metadata": {},
     "output_type": "execute_result"
    }
   ],
   "source": [
    "matches.dtypes"
   ]
  },
  {
   "cell_type": "code",
   "execution_count": 95,
   "id": "f3f330e9",
   "metadata": {},
   "outputs": [],
   "source": [
    "#Feature Engineering\n",
    "#Assign competitions importance values, higher is more important\n",
    "competition_map = {\"UEFA Euro\": 3,\"UEFA Euro Qualifying\": 2,\"Friendlies (M)\": 1}\n",
    "matches['competition_importance'] = matches['comp'].map(competition_map).astype(float)"
   ]
  },
  {
   "cell_type": "code",
   "execution_count": 96,
   "id": "ce33dbbf",
   "metadata": {},
   "outputs": [],
   "source": [
    "#Change final in round to finals\n",
    "matches.loc[matches[\"round\"] == \"Final\", \"round\"] = \"Finals\""
   ]
  },
  {
   "cell_type": "code",
   "execution_count": 97,
   "id": "af9d8cdb",
   "metadata": {},
   "outputs": [
    {
     "data": {
      "text/plain": [
       "Group stage       556\n",
       "Friendlies (M)    152\n",
       "Round of 16        32\n",
       "Quarter-finals     16\n",
       "Semi-finals        15\n",
       "Finals              9\n",
       "Name: round, dtype: int64"
      ]
     },
     "execution_count": 97,
     "metadata": {},
     "output_type": "execute_result"
    }
   ],
   "source": [
    "matches[\"round\"].value_counts()"
   ]
  },
  {
   "cell_type": "code",
   "execution_count": 98,
   "id": "480032c6",
   "metadata": {},
   "outputs": [],
   "source": [
    "#Feature Engineering\n",
    "#Assign rounds importance values, higher is more important\n",
    "round_map = {\"Finals\": 7,\"Semi-finals\": 6,\"Quarter-finals\": 5,\"Round of 16\": 4,\"Group stage\": 2, \"Friendlies (M)\": 1}\n",
    "matches['round_importance'] = matches['round'].map(round_map).astype(float)"
   ]
  },
  {
   "cell_type": "code",
   "execution_count": 99,
   "id": "42023d81",
   "metadata": {},
   "outputs": [],
   "source": [
    "del matches[\"day\"]"
   ]
  },
  {
   "cell_type": "code",
   "execution_count": 100,
   "id": "bd714350",
   "metadata": {},
   "outputs": [],
   "source": [
    "#Convert venue to a numerical category\n",
    "matches[\"venue_code\"] = matches[\"venue\"].astype(\"category\").cat.codes"
   ]
  },
  {
   "cell_type": "code",
   "execution_count": 101,
   "id": "c27f9d58",
   "metadata": {},
   "outputs": [],
   "source": [
    "matches[\"opponent\"]=matches[\"opponent\"].astype(\"category\")"
   ]
  },
  {
   "cell_type": "code",
   "execution_count": 102,
   "id": "8874aaa2",
   "metadata": {},
   "outputs": [],
   "source": [
    "matches[\"gf\"] = matches[\"gf\"].str.replace(\"\\(.+\", \"\", regex=True)"
   ]
  },
  {
   "cell_type": "code",
   "execution_count": 103,
   "id": "22650b28",
   "metadata": {},
   "outputs": [
    {
     "data": {
      "text/plain": [
       "1      211\n",
       "2      190\n",
       "0      135\n",
       "3      102\n",
       "4       55\n",
       "5       23\n",
       "6       13\n",
       "1        9\n",
       "0        8\n",
       "7        8\n",
       "3.0      5\n",
       "9        4\n",
       "2.0      3\n",
       "1.0      3\n",
       "5.0      2\n",
       "0.0      2\n",
       "3        2\n",
       "4.0      1\n",
       "6.0      1\n",
       "7.0      1\n",
       "14       1\n",
       "8        1\n",
       "Name: gf, dtype: int64"
      ]
     },
     "execution_count": 103,
     "metadata": {},
     "output_type": "execute_result"
    }
   ],
   "source": [
    "matches[\"gf\"].value_counts()"
   ]
  },
  {
   "cell_type": "code",
   "execution_count": 104,
   "id": "1c5c7a36",
   "metadata": {},
   "outputs": [],
   "source": [
    "matches[\"ga\"] = matches[\"ga\"].str.replace(\"\\(.+\", \"\", regex=True)"
   ]
  },
  {
   "cell_type": "code",
   "execution_count": 105,
   "id": "6273dd9e",
   "metadata": {},
   "outputs": [
    {
     "data": {
      "text/plain": [
       "0      314\n",
       "1      249\n",
       "2      113\n",
       "3       45\n",
       "4       16\n",
       "1        9\n",
       "0.0      8\n",
       "1.0      8\n",
       "0        8\n",
       "5        4\n",
       "3        2\n",
       "2.0      1\n",
       "3.0      1\n",
       "6        1\n",
       "7        1\n",
       "Name: ga, dtype: int64"
      ]
     },
     "execution_count": 105,
     "metadata": {},
     "output_type": "execute_result"
    }
   ],
   "source": [
    "matches[\"ga\"].value_counts()"
   ]
  },
  {
   "cell_type": "code",
   "execution_count": 106,
   "id": "03df1124",
   "metadata": {},
   "outputs": [],
   "source": [
    "# Convert gf and ga to numeric\n",
    "matches['gf'] = pd.to_numeric(matches['gf'])\n",
    "matches['ga'] = pd.to_numeric(matches['ga'])\n",
    "\n",
    "# Feature Engineering\n",
    "# Goal Difference\n",
    "matches['goal_difference'] = matches['gf'] - matches['ga']\n",
    "\n",
    "# Expected Goals Difference\n",
    "matches['xg_diff'] = matches['xg'] - matches['xga']"
   ]
  },
  {
   "cell_type": "code",
   "execution_count": 107,
   "id": "56519d80",
   "metadata": {},
   "outputs": [],
   "source": [
    "# Feature Engineering\n",
    "# Calculate efficient possesion ratio\n",
    "#https://breakingthelines.com/data-analysis/efficient-possession-ratio-a-new-football-performance-metric/#:~:text=The%20calculation%20of%20this%20metric,matches%2C%20thus%20creating%20a%20ratio.\n",
    "matches['epr'] = matches['xg'] / matches['poss']"
   ]
  },
  {
   "cell_type": "code",
   "execution_count": 108,
   "id": "40067a99",
   "metadata": {},
   "outputs": [],
   "source": [
    "del matches['attendance']\n",
    "del matches['referee']"
   ]
  },
  {
   "cell_type": "code",
   "execution_count": 109,
   "id": "22b5e734",
   "metadata": {},
   "outputs": [],
   "source": [
    "# Feature Engineering\n",
    "# Calculate total attacking touches in final 3rd\n",
    "matches['att_touches']=matches['att 3rd']+matches['att pen']"
   ]
  },
  {
   "cell_type": "code",
   "execution_count": 110,
   "id": "973c3555",
   "metadata": {},
   "outputs": [],
   "source": [
    "del matches['att 3rd']\n",
    "del matches['att pen']"
   ]
  },
  {
   "cell_type": "code",
   "execution_count": 111,
   "id": "8113f88d",
   "metadata": {},
   "outputs": [
    {
     "data": {
      "text/plain": [
       "date                      datetime64[ns]\n",
       "time                              object\n",
       "comp                              object\n",
       "round                             object\n",
       "venue                             object\n",
       "result                            object\n",
       "gf                               float64\n",
       "ga                               float64\n",
       "opponent                        category\n",
       "xg                               float64\n",
       "xga                              float64\n",
       "poss                             float64\n",
       "captain                           object\n",
       "formation                         object\n",
       "sh                               float64\n",
       "sot                              float64\n",
       "sot%                             float64\n",
       "g/sh                             float64\n",
       "g/sot                            float64\n",
       "dist                             float64\n",
       "pk                                 int64\n",
       "pkatt                              int64\n",
       "g-xg                             float64\n",
       "sca                              float64\n",
       "gca                              float64\n",
       "att                              float64\n",
       "succ                             float64\n",
       "succ%                            float64\n",
       "prgc                             float64\n",
       "1/3                              float64\n",
       "cpa                              float64\n",
       "year                               int64\n",
       "team                              object\n",
       "competition_importance           float64\n",
       "round_importance                 float64\n",
       "venue_code                          int8\n",
       "goal_difference                  float64\n",
       "xg_diff                          float64\n",
       "epr                              float64\n",
       "att_touches                      float64\n",
       "dtype: object"
      ]
     },
     "execution_count": 111,
     "metadata": {},
     "output_type": "execute_result"
    }
   ],
   "source": [
    "matches.dtypes"
   ]
  },
  {
   "cell_type": "code",
   "execution_count": 113,
   "id": "82594938",
   "metadata": {},
   "outputs": [],
   "source": [
    "categorical_cols=['comp','round','formation','team']\n",
    "for c in categorical_cols:\n",
    "    matches[c] = matches[c].astype('category')"
   ]
  },
  {
   "cell_type": "code",
   "execution_count": 114,
   "id": "fd22edb7",
   "metadata": {},
   "outputs": [],
   "source": [
    "def rolling_averages(group, cols, new_cols):\n",
    "    group = group.sort_values(\"date\")\n",
    "    rolling_stats = group[cols].rolling(3, closed='left').mean()\n",
    "    group[new_cols] = rolling_stats\n",
    "    group = group.dropna(subset=new_cols)\n",
    "    return group"
   ]
  },
  {
   "cell_type": "code",
   "execution_count": 115,
   "id": "6876fbe2",
   "metadata": {},
   "outputs": [
    {
     "data": {
      "text/plain": [
       "Index(['date', 'time', 'comp', 'round', 'venue', 'result', 'gf', 'ga',\n",
       "       'opponent', 'xg', 'xga', 'poss', 'captain', 'formation', 'sh', 'sot',\n",
       "       'sot%', 'g/sh', 'g/sot', 'dist', 'pk', 'pkatt', 'g-xg', 'sca', 'gca',\n",
       "       'att', 'succ', 'succ%', 'prgc', '1/3', 'cpa', 'year', 'team',\n",
       "       'competition_importance', 'round_importance', 'venue_code',\n",
       "       'goal_difference', 'xg_diff', 'epr', 'att_touches'],\n",
       "      dtype='object')"
      ]
     },
     "execution_count": 115,
     "metadata": {},
     "output_type": "execute_result"
    }
   ],
   "source": [
    "matches.columns"
   ]
  },
  {
   "cell_type": "code",
   "execution_count": 119,
   "id": "4d2c2b54",
   "metadata": {},
   "outputs": [],
   "source": [
    "cols = [\"gf\", \"ga\", \"sh\", \"sot\", \"dist\", \"pk\", \"pkatt\",'sot%', 'g/sh', 'g/sot','sca', 'gca',\n",
    "       'att', 'succ', 'succ%', 'prgc', '1/3', 'cpa','goal_difference', 'xg_diff', 'epr', 'att_touches']\n",
    "new_cols = [f\"{c}_rolling\" for c in cols]"
   ]
  },
  {
   "cell_type": "code",
   "execution_count": 120,
   "id": "e4c3ad40",
   "metadata": {},
   "outputs": [],
   "source": [
    "matches_rolling = matches.groupby(\"team\").apply(lambda x: rolling_averages(x, cols, new_cols))"
   ]
  },
  {
   "cell_type": "code",
   "execution_count": 121,
   "id": "eca3f203",
   "metadata": {},
   "outputs": [],
   "source": [
    "matches_rolling = matches_rolling.droplevel('team')"
   ]
  },
  {
   "cell_type": "code",
   "execution_count": 123,
   "id": "cbdfece8",
   "metadata": {},
   "outputs": [],
   "source": [
    "# Adding the target column for multi-class classification\n",
    "result_map = {'W': 1, 'D': 0, 'L': -1}\n",
    "matches_rolling['target'] = matches_rolling['result'].map(result_map)"
   ]
  },
  {
   "cell_type": "code",
   "execution_count": 124,
   "id": "6999c5db",
   "metadata": {},
   "outputs": [],
   "source": [
    "# Create dummy variables for categorical columns\n",
    "matches_rolling = pd.get_dummies(matches, drop_first=True)"
   ]
  },
  {
   "cell_type": "code",
   "execution_count": 125,
   "id": "fbd7d2a4",
   "metadata": {},
   "outputs": [
    {
     "ename": "ModuleNotFoundError",
     "evalue": "No module named 'ace_tools'",
     "output_type": "error",
     "traceback": [
      "\u001b[0;31m---------------------------------------------------------------------------\u001b[0m",
      "\u001b[0;31mModuleNotFoundError\u001b[0m                       Traceback (most recent call last)",
      "\u001b[0;32m/var/folders/1h/xsc0xzkn5lgbrfws7879hf1m0000gr/T/ipykernel_66319/2695491094.py\u001b[0m in \u001b[0;36m<module>\u001b[0;34m\u001b[0m\n\u001b[0;32m----> 1\u001b[0;31m \u001b[0;32mimport\u001b[0m \u001b[0mace_tools\u001b[0m \u001b[0;32mas\u001b[0m \u001b[0mtools\u001b[0m\u001b[0;34m;\u001b[0m \u001b[0mtools\u001b[0m\u001b[0;34m.\u001b[0m\u001b[0mdisplay_dataframe_to_user\u001b[0m\u001b[0;34m(\u001b[0m\u001b[0mname\u001b[0m\u001b[0;34m=\u001b[0m\u001b[0;34m\"Preprocessed Matches Data with Imputed Values\"\u001b[0m\u001b[0;34m,\u001b[0m \u001b[0mdataframe\u001b[0m\u001b[0;34m=\u001b[0m\u001b[0mmatches_rolling\u001b[0m\u001b[0;34m)\u001b[0m\u001b[0;34m\u001b[0m\u001b[0;34m\u001b[0m\u001b[0m\n\u001b[0m\u001b[1;32m      2\u001b[0m \u001b[0;34m\u001b[0m\u001b[0m\n\u001b[1;32m      3\u001b[0m \u001b[0mprint\u001b[0m\u001b[0;34m(\u001b[0m\u001b[0mmatches_rolling\u001b[0m\u001b[0;34m.\u001b[0m\u001b[0minfo\u001b[0m\u001b[0;34m(\u001b[0m\u001b[0;34m)\u001b[0m\u001b[0;34m)\u001b[0m\u001b[0;34m\u001b[0m\u001b[0;34m\u001b[0m\u001b[0m\n",
      "\u001b[0;31mModuleNotFoundError\u001b[0m: No module named 'ace_tools'"
     ]
    }
   ],
   "source": [
    "import ace_tools as tools; tools.display_dataframe_to_user(name=\"Preprocessed Matches Data with Imputed Values\", dataframe=matches_rolling)\n",
    "\n",
    "print(matches_rolling.info())"
   ]
  },
  {
   "cell_type": "code",
   "execution_count": 128,
   "id": "a9b7d63d",
   "metadata": {},
   "outputs": [
    {
     "data": {
      "text/plain": [
       "0    NaN\n",
       "1    NaN\n",
       "2    NaN\n",
       "3    NaN\n",
       "4    2.1\n",
       "5    1.4\n",
       "6    1.6\n",
       "7    2.6\n",
       "8    2.1\n",
       "0    NaN\n",
       "1    NaN\n",
       "2    NaN\n",
       "3    NaN\n",
       "4    NaN\n",
       "5    NaN\n",
       "Name: xg, dtype: float64"
      ]
     },
     "execution_count": 128,
     "metadata": {},
     "output_type": "execute_result"
    }
   ],
   "source": [
    "matches_rolling['xg'].head(15)"
   ]
  },
  {
   "cell_type": "code",
   "execution_count": 137,
   "id": "074e25ad",
   "metadata": {},
   "outputs": [
    {
     "data": {
      "text/html": [
       "<div>\n",
       "<style scoped>\n",
       "    .dataframe tbody tr th:only-of-type {\n",
       "        vertical-align: middle;\n",
       "    }\n",
       "\n",
       "    .dataframe tbody tr th {\n",
       "        vertical-align: top;\n",
       "    }\n",
       "\n",
       "    .dataframe thead th {\n",
       "        text-align: right;\n",
       "    }\n",
       "</style>\n",
       "<table border=\"1\" class=\"dataframe\">\n",
       "  <thead>\n",
       "    <tr style=\"text-align: right;\">\n",
       "      <th></th>\n",
       "      <th>date</th>\n",
       "      <th>gf</th>\n",
       "      <th>ga</th>\n",
       "      <th>xg</th>\n",
       "      <th>xga</th>\n",
       "      <th>poss</th>\n",
       "      <th>sh</th>\n",
       "      <th>sot</th>\n",
       "      <th>sot%</th>\n",
       "      <th>g/sh</th>\n",
       "      <th>...</th>\n",
       "      <th>team_Scotland</th>\n",
       "      <th>team_Serbia</th>\n",
       "      <th>team_Slovakia</th>\n",
       "      <th>team_Slovenia</th>\n",
       "      <th>team_Spain</th>\n",
       "      <th>team_Sweden</th>\n",
       "      <th>team_Switzerland</th>\n",
       "      <th>team_Turkiye</th>\n",
       "      <th>team_Ukraine</th>\n",
       "      <th>team_Wales</th>\n",
       "    </tr>\n",
       "  </thead>\n",
       "  <tbody>\n",
       "    <tr>\n",
       "      <th>0</th>\n",
       "      <td>2019-03-21</td>\n",
       "      <td>3.0</td>\n",
       "      <td>1.0</td>\n",
       "      <td>NaN</td>\n",
       "      <td>NaN</td>\n",
       "      <td>60.0</td>\n",
       "      <td>25.0</td>\n",
       "      <td>8.0</td>\n",
       "      <td>32.0</td>\n",
       "      <td>0.12</td>\n",
       "      <td>...</td>\n",
       "      <td>0</td>\n",
       "      <td>0</td>\n",
       "      <td>0</td>\n",
       "      <td>0</td>\n",
       "      <td>0</td>\n",
       "      <td>0</td>\n",
       "      <td>0</td>\n",
       "      <td>0</td>\n",
       "      <td>0</td>\n",
       "      <td>0</td>\n",
       "    </tr>\n",
       "    <tr>\n",
       "      <th>0</th>\n",
       "      <td>2019-03-21</td>\n",
       "      <td>0.0</td>\n",
       "      <td>2.0</td>\n",
       "      <td>NaN</td>\n",
       "      <td>NaN</td>\n",
       "      <td>44.0</td>\n",
       "      <td>16.0</td>\n",
       "      <td>5.0</td>\n",
       "      <td>31.3</td>\n",
       "      <td>0.00</td>\n",
       "      <td>...</td>\n",
       "      <td>0</td>\n",
       "      <td>0</td>\n",
       "      <td>0</td>\n",
       "      <td>0</td>\n",
       "      <td>0</td>\n",
       "      <td>0</td>\n",
       "      <td>0</td>\n",
       "      <td>0</td>\n",
       "      <td>0</td>\n",
       "      <td>0</td>\n",
       "    </tr>\n",
       "    <tr>\n",
       "      <th>0</th>\n",
       "      <td>2019-03-21</td>\n",
       "      <td>1.0</td>\n",
       "      <td>3.0</td>\n",
       "      <td>NaN</td>\n",
       "      <td>NaN</td>\n",
       "      <td>39.0</td>\n",
       "      <td>4.0</td>\n",
       "      <td>2.0</td>\n",
       "      <td>50.0</td>\n",
       "      <td>0.25</td>\n",
       "      <td>...</td>\n",
       "      <td>0</td>\n",
       "      <td>0</td>\n",
       "      <td>0</td>\n",
       "      <td>0</td>\n",
       "      <td>0</td>\n",
       "      <td>0</td>\n",
       "      <td>0</td>\n",
       "      <td>0</td>\n",
       "      <td>0</td>\n",
       "      <td>0</td>\n",
       "    </tr>\n",
       "    <tr>\n",
       "      <th>0</th>\n",
       "      <td>2019-03-21</td>\n",
       "      <td>0.0</td>\n",
       "      <td>3.0</td>\n",
       "      <td>NaN</td>\n",
       "      <td>NaN</td>\n",
       "      <td>59.0</td>\n",
       "      <td>10.0</td>\n",
       "      <td>2.0</td>\n",
       "      <td>20.0</td>\n",
       "      <td>0.00</td>\n",
       "      <td>...</td>\n",
       "      <td>1</td>\n",
       "      <td>0</td>\n",
       "      <td>0</td>\n",
       "      <td>0</td>\n",
       "      <td>0</td>\n",
       "      <td>0</td>\n",
       "      <td>0</td>\n",
       "      <td>0</td>\n",
       "      <td>0</td>\n",
       "      <td>0</td>\n",
       "    </tr>\n",
       "    <tr>\n",
       "      <th>0</th>\n",
       "      <td>2019-03-21</td>\n",
       "      <td>3.0</td>\n",
       "      <td>1.0</td>\n",
       "      <td>NaN</td>\n",
       "      <td>NaN</td>\n",
       "      <td>61.0</td>\n",
       "      <td>15.0</td>\n",
       "      <td>6.0</td>\n",
       "      <td>40.0</td>\n",
       "      <td>0.13</td>\n",
       "      <td>...</td>\n",
       "      <td>0</td>\n",
       "      <td>0</td>\n",
       "      <td>0</td>\n",
       "      <td>0</td>\n",
       "      <td>0</td>\n",
       "      <td>0</td>\n",
       "      <td>0</td>\n",
       "      <td>0</td>\n",
       "      <td>0</td>\n",
       "      <td>0</td>\n",
       "    </tr>\n",
       "  </tbody>\n",
       "</table>\n",
       "<p>5 rows × 298 columns</p>\n",
       "</div>"
      ],
      "text/plain": [
       "        date   gf   ga  xg  xga  poss    sh  sot  sot%  g/sh  ...  \\\n",
       "0 2019-03-21  3.0  1.0 NaN  NaN  60.0  25.0  8.0  32.0  0.12  ...   \n",
       "0 2019-03-21  0.0  2.0 NaN  NaN  44.0  16.0  5.0  31.3  0.00  ...   \n",
       "0 2019-03-21  1.0  3.0 NaN  NaN  39.0   4.0  2.0  50.0  0.25  ...   \n",
       "0 2019-03-21  0.0  3.0 NaN  NaN  59.0  10.0  2.0  20.0  0.00  ...   \n",
       "0 2019-03-21  3.0  1.0 NaN  NaN  61.0  15.0  6.0  40.0  0.13  ...   \n",
       "\n",
       "   team_Scotland  team_Serbia  team_Slovakia  team_Slovenia  team_Spain  \\\n",
       "0              0            0              0              0           0   \n",
       "0              0            0              0              0           0   \n",
       "0              0            0              0              0           0   \n",
       "0              1            0              0              0           0   \n",
       "0              0            0              0              0           0   \n",
       "\n",
       "   team_Sweden  team_Switzerland  team_Turkiye  team_Ukraine  team_Wales  \n",
       "0            0                 0             0             0           0  \n",
       "0            0                 0             0             0           0  \n",
       "0            0                 0             0             0           0  \n",
       "0            0                 0             0             0           0  \n",
       "0            0                 0             0             0           0  \n",
       "\n",
       "[5 rows x 298 columns]"
      ]
     },
     "execution_count": 137,
     "metadata": {},
     "output_type": "execute_result"
    }
   ],
   "source": [
    "matches_rolling.sort_values(by='date',inplace=True,ascending=True)"
   ]
  },
  {
   "cell_type": "code",
   "execution_count": 138,
   "id": "ada2d2a1",
   "metadata": {},
   "outputs": [],
   "source": [
    "matches_rolling.index = range(matches_rolling.shape[0])"
   ]
  },
  {
   "cell_type": "code",
   "execution_count": 139,
   "id": "098a5682",
   "metadata": {},
   "outputs": [
    {
     "data": {
      "text/html": [
       "<div>\n",
       "<style scoped>\n",
       "    .dataframe tbody tr th:only-of-type {\n",
       "        vertical-align: middle;\n",
       "    }\n",
       "\n",
       "    .dataframe tbody tr th {\n",
       "        vertical-align: top;\n",
       "    }\n",
       "\n",
       "    .dataframe thead th {\n",
       "        text-align: right;\n",
       "    }\n",
       "</style>\n",
       "<table border=\"1\" class=\"dataframe\">\n",
       "  <thead>\n",
       "    <tr style=\"text-align: right;\">\n",
       "      <th></th>\n",
       "      <th>date</th>\n",
       "      <th>gf</th>\n",
       "      <th>ga</th>\n",
       "      <th>xg</th>\n",
       "      <th>xga</th>\n",
       "      <th>poss</th>\n",
       "      <th>sh</th>\n",
       "      <th>sot</th>\n",
       "      <th>sot%</th>\n",
       "      <th>g/sh</th>\n",
       "      <th>...</th>\n",
       "      <th>team_Scotland</th>\n",
       "      <th>team_Serbia</th>\n",
       "      <th>team_Slovakia</th>\n",
       "      <th>team_Slovenia</th>\n",
       "      <th>team_Spain</th>\n",
       "      <th>team_Sweden</th>\n",
       "      <th>team_Switzerland</th>\n",
       "      <th>team_Turkiye</th>\n",
       "      <th>team_Ukraine</th>\n",
       "      <th>team_Wales</th>\n",
       "    </tr>\n",
       "  </thead>\n",
       "  <tbody>\n",
       "    <tr>\n",
       "      <th>0</th>\n",
       "      <td>2019-03-21</td>\n",
       "      <td>3.0</td>\n",
       "      <td>1.0</td>\n",
       "      <td>NaN</td>\n",
       "      <td>NaN</td>\n",
       "      <td>60.0</td>\n",
       "      <td>25.0</td>\n",
       "      <td>8.0</td>\n",
       "      <td>32.0</td>\n",
       "      <td>0.12</td>\n",
       "      <td>...</td>\n",
       "      <td>0</td>\n",
       "      <td>0</td>\n",
       "      <td>0</td>\n",
       "      <td>0</td>\n",
       "      <td>0</td>\n",
       "      <td>0</td>\n",
       "      <td>0</td>\n",
       "      <td>0</td>\n",
       "      <td>0</td>\n",
       "      <td>0</td>\n",
       "    </tr>\n",
       "    <tr>\n",
       "      <th>1</th>\n",
       "      <td>2019-03-21</td>\n",
       "      <td>0.0</td>\n",
       "      <td>2.0</td>\n",
       "      <td>NaN</td>\n",
       "      <td>NaN</td>\n",
       "      <td>44.0</td>\n",
       "      <td>16.0</td>\n",
       "      <td>5.0</td>\n",
       "      <td>31.3</td>\n",
       "      <td>0.00</td>\n",
       "      <td>...</td>\n",
       "      <td>0</td>\n",
       "      <td>0</td>\n",
       "      <td>0</td>\n",
       "      <td>0</td>\n",
       "      <td>0</td>\n",
       "      <td>0</td>\n",
       "      <td>0</td>\n",
       "      <td>0</td>\n",
       "      <td>0</td>\n",
       "      <td>0</td>\n",
       "    </tr>\n",
       "    <tr>\n",
       "      <th>2</th>\n",
       "      <td>2019-03-21</td>\n",
       "      <td>1.0</td>\n",
       "      <td>3.0</td>\n",
       "      <td>NaN</td>\n",
       "      <td>NaN</td>\n",
       "      <td>39.0</td>\n",
       "      <td>4.0</td>\n",
       "      <td>2.0</td>\n",
       "      <td>50.0</td>\n",
       "      <td>0.25</td>\n",
       "      <td>...</td>\n",
       "      <td>0</td>\n",
       "      <td>0</td>\n",
       "      <td>0</td>\n",
       "      <td>0</td>\n",
       "      <td>0</td>\n",
       "      <td>0</td>\n",
       "      <td>0</td>\n",
       "      <td>0</td>\n",
       "      <td>0</td>\n",
       "      <td>0</td>\n",
       "    </tr>\n",
       "    <tr>\n",
       "      <th>3</th>\n",
       "      <td>2019-03-21</td>\n",
       "      <td>0.0</td>\n",
       "      <td>3.0</td>\n",
       "      <td>NaN</td>\n",
       "      <td>NaN</td>\n",
       "      <td>59.0</td>\n",
       "      <td>10.0</td>\n",
       "      <td>2.0</td>\n",
       "      <td>20.0</td>\n",
       "      <td>0.00</td>\n",
       "      <td>...</td>\n",
       "      <td>1</td>\n",
       "      <td>0</td>\n",
       "      <td>0</td>\n",
       "      <td>0</td>\n",
       "      <td>0</td>\n",
       "      <td>0</td>\n",
       "      <td>0</td>\n",
       "      <td>0</td>\n",
       "      <td>0</td>\n",
       "      <td>0</td>\n",
       "    </tr>\n",
       "    <tr>\n",
       "      <th>4</th>\n",
       "      <td>2019-03-21</td>\n",
       "      <td>3.0</td>\n",
       "      <td>1.0</td>\n",
       "      <td>NaN</td>\n",
       "      <td>NaN</td>\n",
       "      <td>61.0</td>\n",
       "      <td>15.0</td>\n",
       "      <td>6.0</td>\n",
       "      <td>40.0</td>\n",
       "      <td>0.13</td>\n",
       "      <td>...</td>\n",
       "      <td>0</td>\n",
       "      <td>0</td>\n",
       "      <td>0</td>\n",
       "      <td>0</td>\n",
       "      <td>0</td>\n",
       "      <td>0</td>\n",
       "      <td>0</td>\n",
       "      <td>0</td>\n",
       "      <td>0</td>\n",
       "      <td>0</td>\n",
       "    </tr>\n",
       "  </tbody>\n",
       "</table>\n",
       "<p>5 rows × 298 columns</p>\n",
       "</div>"
      ],
      "text/plain": [
       "        date   gf   ga  xg  xga  poss    sh  sot  sot%  g/sh  ...  \\\n",
       "0 2019-03-21  3.0  1.0 NaN  NaN  60.0  25.0  8.0  32.0  0.12  ...   \n",
       "1 2019-03-21  0.0  2.0 NaN  NaN  44.0  16.0  5.0  31.3  0.00  ...   \n",
       "2 2019-03-21  1.0  3.0 NaN  NaN  39.0   4.0  2.0  50.0  0.25  ...   \n",
       "3 2019-03-21  0.0  3.0 NaN  NaN  59.0  10.0  2.0  20.0  0.00  ...   \n",
       "4 2019-03-21  3.0  1.0 NaN  NaN  61.0  15.0  6.0  40.0  0.13  ...   \n",
       "\n",
       "   team_Scotland  team_Serbia  team_Slovakia  team_Slovenia  team_Spain  \\\n",
       "0              0            0              0              0           0   \n",
       "1              0            0              0              0           0   \n",
       "2              0            0              0              0           0   \n",
       "3              1            0              0              0           0   \n",
       "4              0            0              0              0           0   \n",
       "\n",
       "   team_Sweden  team_Switzerland  team_Turkiye  team_Ukraine  team_Wales  \n",
       "0            0                 0             0             0           0  \n",
       "1            0                 0             0             0           0  \n",
       "2            0                 0             0             0           0  \n",
       "3            0                 0             0             0           0  \n",
       "4            0                 0             0             0           0  \n",
       "\n",
       "[5 rows x 298 columns]"
      ]
     },
     "execution_count": 139,
     "metadata": {},
     "output_type": "execute_result"
    }
   ],
   "source": [
    "matches_rolling.head()"
   ]
  },
  {
   "cell_type": "code",
   "execution_count": 140,
   "id": "cb19605e",
   "metadata": {},
   "outputs": [],
   "source": [
    "matches_with_xg = matches_rolling[matches_rolling['xg'].notna()]\n",
    "matches_without_xg = matches_rolling[matches_rolling['xg'].isna()]"
   ]
  },
  {
   "cell_type": "code",
   "execution_count": 141,
   "id": "118b3f24",
   "metadata": {},
   "outputs": [
    {
     "data": {
      "text/plain": [
       "(202, 298)"
      ]
     },
     "execution_count": 141,
     "metadata": {},
     "output_type": "execute_result"
    }
   ],
   "source": [
    "matches_with_xg.shape"
   ]
  },
  {
   "cell_type": "code",
   "execution_count": 142,
   "id": "3d970cc0",
   "metadata": {},
   "outputs": [
    {
     "data": {
      "text/plain": [
       "(578, 298)"
      ]
     },
     "execution_count": 142,
     "metadata": {},
     "output_type": "execute_result"
    }
   ],
   "source": [
    "matches_without_xg.shape"
   ]
  },
  {
   "cell_type": "code",
   "execution_count": 143,
   "id": "25de7c40",
   "metadata": {},
   "outputs": [
    {
     "data": {
      "text/plain": [
       "Index(['date', 'gf', 'ga', 'xg', 'xga', 'poss', 'sh', 'sot', 'sot%', 'g/sh',\n",
       "       ...\n",
       "       'team_Scotland', 'team_Serbia', 'team_Slovakia', 'team_Slovenia',\n",
       "       'team_Spain', 'team_Sweden', 'team_Switzerland', 'team_Turkiye',\n",
       "       'team_Ukraine', 'team_Wales'],\n",
       "      dtype='object', length=298)"
      ]
     },
     "execution_count": 143,
     "metadata": {},
     "output_type": "execute_result"
    }
   ],
   "source": [
    "matches_rolling.columns"
   ]
  },
  {
   "cell_type": "code",
   "execution_count": 151,
   "id": "5fc37887",
   "metadata": {},
   "outputs": [
    {
     "data": {
      "text/plain": [
       "['date',\n",
       " 'gf',\n",
       " 'ga',\n",
       " 'xg',\n",
       " 'xga',\n",
       " 'poss',\n",
       " 'sh',\n",
       " 'sot',\n",
       " 'sot%',\n",
       " 'g/sh',\n",
       " 'g/sot',\n",
       " 'dist',\n",
       " 'pk',\n",
       " 'pkatt',\n",
       " 'g-xg',\n",
       " 'sca',\n",
       " 'gca',\n",
       " 'att',\n",
       " 'succ',\n",
       " 'succ%',\n",
       " 'prgc',\n",
       " '1/3',\n",
       " 'cpa',\n",
       " 'year',\n",
       " 'competition_importance',\n",
       " 'round_importance',\n",
       " 'venue_code',\n",
       " 'goal_difference',\n",
       " 'xg_diff',\n",
       " 'epr',\n",
       " 'att_touches',\n",
       " 'target',\n",
       " 'time_15:00:00',\n",
       " 'time_16:00:00',\n",
       " 'time_17:00:00',\n",
       " 'time_17:30:00',\n",
       " 'time_17:45:00',\n",
       " 'time_18:00:00',\n",
       " 'time_18:30:00',\n",
       " 'time_18:45:00',\n",
       " 'time_19:00:00',\n",
       " 'time_19:30:00',\n",
       " 'time_19:45:00',\n",
       " 'time_20:00:00',\n",
       " 'time_20:15:00',\n",
       " 'time_20:30:00',\n",
       " 'time_20:45:00',\n",
       " 'time_21:00:00',\n",
       " 'time_21:05:00',\n",
       " 'time_21:10:00',\n",
       " 'time_21:15:00',\n",
       " 'time_21:30:00',\n",
       " 'time_21:45:00',\n",
       " 'time_22:00:00',\n",
       " 'comp_UEFA Euro',\n",
       " 'comp_UEFA Euro Qualifying',\n",
       " 'round_Friendlies (M)',\n",
       " 'round_Group stage',\n",
       " 'round_Quarter-finals',\n",
       " 'round_Round of 16',\n",
       " 'round_Semi-finals',\n",
       " 'venue_Home',\n",
       " 'venue_Neutral',\n",
       " 'result_L',\n",
       " 'result_W',\n",
       " 'opponent_al Albania',\n",
       " 'opponent_am Armenia',\n",
       " 'opponent_at Austria',\n",
       " 'opponent_az Azerbaijan',\n",
       " \"opponent_ba Bosnia & Herz'na\",\n",
       " 'opponent_be Belgium',\n",
       " 'opponent_bg Bulgaria',\n",
       " 'opponent_bh Bahrain',\n",
       " 'opponent_br Brazil',\n",
       " 'opponent_by Belarus',\n",
       " 'opponent_ca Canada',\n",
       " 'opponent_ch Switzerland',\n",
       " 'opponent_cl Chile',\n",
       " 'opponent_co Colombia',\n",
       " 'opponent_cy Cyprus',\n",
       " 'opponent_cz Czechia',\n",
       " 'opponent_de Germany',\n",
       " 'opponent_dk Denmark',\n",
       " 'opponent_ec Ecuador',\n",
       " 'opponent_ee Estonia',\n",
       " 'opponent_eng England',\n",
       " 'opponent_es Spain',\n",
       " 'opponent_fi Finland',\n",
       " 'opponent_fo Faroe Islands',\n",
       " 'opponent_fr France',\n",
       " 'opponent_ge Georgia',\n",
       " 'opponent_gi Gibraltar',\n",
       " 'opponent_gn Guinea',\n",
       " 'opponent_gr Greece',\n",
       " 'opponent_hr Croatia',\n",
       " 'opponent_hu Hungary',\n",
       " 'opponent_ie Rep. of Ireland',\n",
       " 'opponent_il Israel',\n",
       " 'opponent_is Iceland',\n",
       " 'opponent_it Italy',\n",
       " 'opponent_kw Kuwait',\n",
       " 'opponent_kz Kazakhstan',\n",
       " 'opponent_li Liechtenstein',\n",
       " 'opponent_lt Lithuania',\n",
       " 'opponent_lu Luxembourg',\n",
       " 'opponent_lv Latvia',\n",
       " 'opponent_md Moldova',\n",
       " 'opponent_me Montenegro',\n",
       " 'opponent_mk N. Macedonia',\n",
       " 'opponent_mt Malta',\n",
       " 'opponent_mx Mexico',\n",
       " 'opponent_nir Northern Ireland',\n",
       " 'opponent_nl Netherlands',\n",
       " 'opponent_no Norway',\n",
       " 'opponent_pl Poland',\n",
       " 'opponent_pt Portugal',\n",
       " 'opponent_qa Qatar',\n",
       " 'opponent_ro Romania',\n",
       " 'opponent_rs Serbia',\n",
       " 'opponent_ru Russia',\n",
       " 'opponent_sct Scotland',\n",
       " 'opponent_se Sweden',\n",
       " 'opponent_si Slovenia',\n",
       " 'opponent_sk Slovakia',\n",
       " 'opponent_sm San Marino',\n",
       " 'opponent_tr Türkiye',\n",
       " 'opponent_ua Ukraine',\n",
       " 'opponent_us United States',\n",
       " 'opponent_uz Uzbekistan',\n",
       " 'opponent_ve Venezuela',\n",
       " 'opponent_wls Wales',\n",
       " 'opponent_xk Kosovo',\n",
       " 'captain_Aleksandar Mitrović',\n",
       " 'captain_Andreas Granqvist',\n",
       " 'captain_Andrew Robertson',\n",
       " 'captain_Andriy Pyatov',\n",
       " 'captain_Andriy Yarmolenko',\n",
       " 'captain_Antoine Griezmann',\n",
       " 'captain_Antonín Barák',\n",
       " 'captain_Artem Dzyuba',\n",
       " 'captain_Ashley Williams',\n",
       " 'captain_Balázs Dzsudzsák',\n",
       " 'captain_Ben Davies',\n",
       " 'captain_Berat Djimsiti',\n",
       " 'captain_Bernardo Silva',\n",
       " 'captain_Burak Yılmaz',\n",
       " 'captain_Callum McGregor',\n",
       " 'captain_Cenk Tosun',\n",
       " 'captain_Charlie Mulgrew',\n",
       " 'captain_Chris Gunter',\n",
       " 'captain_Ciro Immobile',\n",
       " 'captain_Cristiano Ronaldo',\n",
       " 'captain_Daley Blind',\n",
       " 'captain_Danny Ward',\n",
       " 'captain_David Alaba',\n",
       " 'captain_Declan Rice',\n",
       " 'captain_Dominik Szoboszlai',\n",
       " 'captain_Dušan Tadić',\n",
       " 'captain_Eden Hazard',\n",
       " 'captain_Elseid Hysaj',\n",
       " 'captain_Emre Belözoğlu',\n",
       " 'captain_Etrit Berisha',\n",
       " 'captain_Federico Bernardeschi',\n",
       " 'captain_Gareth Bale',\n",
       " 'captain_Georginio Wijnaldum',\n",
       " 'captain_Gianluigi Donnarumma',\n",
       " 'captain_Giorgio Chiellini',\n",
       " 'captain_Goran Pandev',\n",
       " 'captain_Granit Xhaka',\n",
       " 'captain_Grzegorz Krychowiak',\n",
       " 'captain_Guram Kashia',\n",
       " 'captain_Hakan Çalhanoğlu',\n",
       " 'captain_Harry Kane',\n",
       " 'captain_Hugo Lloris',\n",
       " 'captain_Ianis Hagi',\n",
       " 'captain_Ilija Nestorovski',\n",
       " 'captain_Jaka Bijol',\n",
       " 'captain_Jan Oblak',\n",
       " 'captain_Jan Vertonghen',\n",
       " 'captain_Jesús Navas',\n",
       " 'captain_John McGinn',\n",
       " 'captain_Joona Toivio',\n",
       " 'captain_Jordi Alba',\n",
       " 'captain_Jorginho',\n",
       " 'captain_João Moutinho',\n",
       " 'captain_Juhani Ojala',\n",
       " 'captain_Julian Baumgartlinger',\n",
       " 'captain_Juraj Kucka',\n",
       " 'captain_Kaan Ayhan',\n",
       " 'captain_Kamil Glik',\n",
       " 'captain_Kasper Schmeichel',\n",
       " 'captain_Kevin De Bruyne',\n",
       " 'captain_Kieran Trippier',\n",
       " 'captain_Konrad Laimer',\n",
       " 'captain_Kyle Walker',\n",
       " 'captain_Kylian Mbappé',\n",
       " 'captain_Leonardo Bonucci',\n",
       " 'captain_Luka Modrić',\n",
       " 'captain_Lukáš Hrádecký',\n",
       " 'captain_Manuel Neuer',\n",
       " 'captain_Marc Cucurella',\n",
       " 'captain_Marcel Sabitzer',\n",
       " 'captain_Marco Verratti',\n",
       " 'captain_Marcus Berg',\n",
       " 'captain_Marcus Danielsson',\n",
       " 'captain_Marcus Rashford',\n",
       " 'captain_Marek Hamšík',\n",
       " 'captain_Marek Suchý',\n",
       " 'captain_Marko Arnautović',\n",
       " 'captain_Mateo Kovačić',\n",
       " 'captain_Mikel Oyarzabal',\n",
       " 'captain_Milan Škriniar',\n",
       " 'captain_Mykola Matviyenko',\n",
       " 'captain_Nicolae Stanciu',\n",
       " 'captain_Nicolò Barella',\n",
       " 'captain_Oleksandr Zinchenko',\n",
       " 'captain_Olivier Giroud',\n",
       " 'captain_Paulus Arajuuri',\n",
       " 'captain_Pepe',\n",
       " 'captain_Peter Pekarík',\n",
       " 'captain_Pierre Højbjerg',\n",
       " 'captain_Piotr Zieliński',\n",
       " 'captain_Pontus Jansson',\n",
       " 'captain_Péter Gulácsi',\n",
       " 'captain_Raphaël Varane',\n",
       " 'captain_Raúl Albiol',\n",
       " 'captain_Ricardo Rodríguez',\n",
       " 'captain_Robert Lewandowski',\n",
       " 'captain_Rodri',\n",
       " 'captain_Romelu Lukaku',\n",
       " 'captain_Rúben Dias',\n",
       " 'captain_Sebastian Larsson',\n",
       " 'captain_Sergio Busquets',\n",
       " 'captain_Sergio Ramos',\n",
       " 'captain_Simon Kjær',\n",
       " 'captain_Stefan Ristovski',\n",
       " 'captain_Stephan Lichtsteiner',\n",
       " 'captain_Steven Naismith',\n",
       " 'captain_Taras Stepanenko',\n",
       " 'captain_Tim Sparv',\n",
       " 'captain_Tomáš Souček',\n",
       " 'captain_Toni Kroos',\n",
       " 'captain_Uğurcan Çakır',\n",
       " 'captain_Virgil van Dijk',\n",
       " 'captain_Vladimír Darida',\n",
       " 'captain_Xherdan Shaqiri',\n",
       " 'captain_Youri Tielemans',\n",
       " 'captain_Ádám Szalai',\n",
       " 'captain_Álvaro Morata',\n",
       " 'captain_İlkay Gündoğan',\n",
       " 'formation_3-3-2-2',\n",
       " 'formation_3-3-3-1',\n",
       " 'formation_3-4-1-2',\n",
       " 'formation_3-4-3',\n",
       " 'formation_3-5-1-1',\n",
       " 'formation_3-5-2',\n",
       " 'formation_4-1-3-2',\n",
       " 'formation_4-1-4-1',\n",
       " 'formation_4-2-2-2',\n",
       " 'formation_4-2-3-1',\n",
       " 'formation_4-3-1-2',\n",
       " 'formation_4-3-2-1',\n",
       " 'formation_4-3-3',\n",
       " 'formation_4-4-1-1',\n",
       " 'formation_4-4-2',\n",
       " 'formation_4-4-2◆',\n",
       " 'formation_4-5-1',\n",
       " 'formation_5-3-1-1',\n",
       " 'formation_5-3-2',\n",
       " 'formation_5-4-1',\n",
       " 'team_Austria',\n",
       " 'team_Belgium',\n",
       " 'team_Croatia',\n",
       " 'team_Czechia',\n",
       " 'team_Denmark',\n",
       " 'team_England',\n",
       " 'team_Finland',\n",
       " 'team_France',\n",
       " 'team_Georgia',\n",
       " 'team_Germany',\n",
       " 'team_Hungary',\n",
       " 'team_Italy',\n",
       " 'team_Netherlands',\n",
       " 'team_North',\n",
       " 'team_Poland',\n",
       " 'team_Portugal',\n",
       " 'team_Romania',\n",
       " 'team_Russia',\n",
       " 'team_Scotland',\n",
       " 'team_Serbia',\n",
       " 'team_Slovakia',\n",
       " 'team_Slovenia',\n",
       " 'team_Spain',\n",
       " 'team_Sweden',\n",
       " 'team_Switzerland',\n",
       " 'team_Turkiye',\n",
       " 'team_Ukraine',\n",
       " 'team_Wales']"
      ]
     },
     "execution_count": 151,
     "metadata": {},
     "output_type": "execute_result"
    }
   ],
   "source": [
    "predictors=matches_rolling.columns.to_list()\n",
    "predictors"
   ]
  },
  {
   "cell_type": "code",
   "execution_count": 169,
   "id": "3ecdf62b",
   "metadata": {},
   "outputs": [
    {
     "ename": "ValueError",
     "evalue": "list.remove(x): x not in list",
     "output_type": "error",
     "traceback": [
      "\u001b[0;31m---------------------------------------------------------------------------\u001b[0m",
      "\u001b[0;31mValueError\u001b[0m                                Traceback (most recent call last)",
      "\u001b[0;32m/var/folders/1h/xsc0xzkn5lgbrfws7879hf1m0000gr/T/ipykernel_66319/69908419.py\u001b[0m in \u001b[0;36m<module>\u001b[0;34m\u001b[0m\n\u001b[0;32m----> 1\u001b[0;31m \u001b[0mpredictors\u001b[0m\u001b[0;34m.\u001b[0m\u001b[0mremove\u001b[0m\u001b[0;34m(\u001b[0m\u001b[0;34m'date'\u001b[0m\u001b[0;34m)\u001b[0m\u001b[0;34m\u001b[0m\u001b[0;34m\u001b[0m\u001b[0m\n\u001b[0m\u001b[1;32m      2\u001b[0m \u001b[0mpredictors\u001b[0m\u001b[0;34m.\u001b[0m\u001b[0mremove\u001b[0m\u001b[0;34m(\u001b[0m\u001b[0;34m'year'\u001b[0m\u001b[0;34m)\u001b[0m\u001b[0;34m\u001b[0m\u001b[0;34m\u001b[0m\u001b[0m\n",
      "\u001b[0;31mValueError\u001b[0m: list.remove(x): x not in list"
     ]
    }
   ],
   "source": [
    "predictors.remove('date')\n",
    "predictors.remove('year')"
   ]
  },
  {
   "cell_type": "code",
   "execution_count": 210,
   "id": "5683e29d",
   "metadata": {},
   "outputs": [],
   "source": [
    "matches_rolling.to_csv('filtered.csv')"
   ]
  },
  {
   "cell_type": "code",
   "execution_count": null,
   "id": "357b7bd8",
   "metadata": {},
   "outputs": [],
   "source": [
    "del matches_rolling['1/3']"
   ]
  },
  {
   "cell_type": "code",
   "execution_count": 236,
   "id": "eeabab43",
   "metadata": {},
   "outputs": [],
   "source": [
    "train=matches_rolling[matches_rolling[\"date\"] < '2024-06-13']\n",
    "test=matches_rolling[matches_rolling[\"date\"] > '2024-06-13']\n",
    "test=test.dropna()"
   ]
  },
  {
   "cell_type": "code",
   "execution_count": 237,
   "id": "8024c95e",
   "metadata": {},
   "outputs": [
    {
     "data": {
      "text/plain": [
       "((96, 298), (680, 298))"
      ]
     },
     "execution_count": 237,
     "metadata": {},
     "output_type": "execute_result"
    }
   ],
   "source": [
    "#train.to_csv('train.csv')\n",
    "#test.to_csv('test.csv')\n",
    "test.shape,train.shape"
   ]
  },
  {
   "cell_type": "code",
   "execution_count": 238,
   "id": "ccfa7318",
   "metadata": {},
   "outputs": [],
   "source": [
    "matches_with_xg = train[train['xg'].notna()]\n",
    "matches_without_xg = train[train['xg'].isna()]\n",
    "\n",
    "matches_with_xg.shape, matches_without_xg.shape,matches_filtered.shape\n",
    "#Drop columns where more than 20% of the data is NaN\n",
    "threshold = 0.2 * len(matches_filtered)\n",
    "matches_with_xg = matches_with_xg.dropna(thresh=threshold, axis=1)\n",
    "matches_without_xg = matches_without_xg.dropna(thresh=threshold, axis=1)\n"
   ]
  },
  {
   "cell_type": "code",
   "execution_count": 239,
   "id": "b97d74e7",
   "metadata": {},
   "outputs": [
    {
     "data": {
      "text/plain": [
       "((102, 298), (578, 283))"
      ]
     },
     "execution_count": 239,
     "metadata": {},
     "output_type": "execute_result"
    }
   ],
   "source": [
    "matches_with_xg.shape, matches_without_xg.shape"
   ]
  },
  {
   "cell_type": "code",
   "execution_count": 240,
   "id": "d16dee5a",
   "metadata": {},
   "outputs": [],
   "source": [
    "# Impute remaining NaN values in numerical columns with the mean\n",
    "num_cols = matches_without_xg.select_dtypes(include=['float64', 'int64']).columns\n",
    "matches_without_xg[num_cols] = matches_without_xg[num_cols].fillna(matches_without_xg[num_cols].mean())\n",
    "\n",
    "num_cols = matches_with_xg.select_dtypes(include=['float64', 'int64']).columns\n",
    "matches_with_xg[num_cols] = matches_with_xg[num_cols].fillna(matches_with_xg[num_cols].mean())\n",
    "\n",
    "# Impute remaining NaN values in categorical columns with the mode\n",
    "cat_cols = matches_without_xg.select_dtypes(include=['object', 'category']).columns\n",
    "for col in cat_cols:\n",
    "    matches_without_xg[col].fillna(matches_without_xg[col].mode()[0], inplace=True)\n",
    "\n",
    "cat_cols = matches_with_xg.select_dtypes(include=['object', 'category']).columns\n",
    "for col in cat_cols:\n",
    "    matches_with_xg[col].fillna(matches_with_xg[col].mode()[0], inplace=True)\n"
   ]
  },
  {
   "cell_type": "code",
   "execution_count": 259,
   "id": "0a3a2092",
   "metadata": {},
   "outputs": [
    {
     "data": {
      "text/plain": [
       "((102, 298), (578, 283))"
      ]
     },
     "execution_count": 259,
     "metadata": {},
     "output_type": "execute_result"
    }
   ],
   "source": [
    "matches_with_xg.shape, matches_without_xg.shape"
   ]
  },
  {
   "cell_type": "code",
   "execution_count": 241,
   "id": "aa30b266",
   "metadata": {},
   "outputs": [],
   "source": [
    "from sklearn.ensemble import RandomForestClassifier\n",
    "from sklearn.svm import SVC\n",
    "from xgboost import XGBClassifier\n",
    "from sklearn.metrics import accuracy_score, classification_report, precision_score,f1_score"
   ]
  },
  {
   "cell_type": "code",
   "execution_count": 250,
   "id": "d2a43e40",
   "metadata": {},
   "outputs": [],
   "source": [
    "predictors_1=matches_without_xg.columns.to_list()\n",
    "predictors_1.remove('date')\n",
    "predictors_1.remove('year')\n",
    "\n",
    "predictors_2=matches_with_xg.columns.to_list()\n",
    "predictors_2.remove('date')\n",
    "predictors_2.remove('year')"
   ]
  },
  {
   "cell_type": "code",
   "execution_count": 251,
   "id": "1637b220",
   "metadata": {},
   "outputs": [],
   "source": [
    "# Define features and target for matches_without_xg\n",
    "X_train_wo = matches_without_xg[predictors_1].drop(columns=['target'])\n",
    "y_train_wo = matches_without_xg['target']\n",
    "\n",
    "# Define features and target for matches_with_xg\n",
    "X_train_w = matches_with_xg[predictors_2].drop(columns=['target'])\n",
    "y_train_w = matches_with_xg['target']\n",
    "\n",
    "# Define features and target for test set\n",
    "X_test = test[predictors].drop(columns=['target'])\n",
    "y_test = test['target']"
   ]
  },
  {
   "cell_type": "code",
   "execution_count": 260,
   "id": "d8c4a48b",
   "metadata": {},
   "outputs": [
    {
     "data": {
      "text/plain": [
       "((578, 280), (578,))"
      ]
     },
     "execution_count": 260,
     "metadata": {},
     "output_type": "execute_result"
    }
   ],
   "source": [
    "X_train_wo.shape,y_train_wo.shape"
   ]
  },
  {
   "cell_type": "code",
   "execution_count": 261,
   "id": "4810bf1d",
   "metadata": {},
   "outputs": [
    {
     "data": {
      "text/plain": [
       "((102, 295), (102,))"
      ]
     },
     "execution_count": 261,
     "metadata": {},
     "output_type": "execute_result"
    }
   ],
   "source": [
    "X_train_w.shape,y_train_w.shape"
   ]
  },
  {
   "cell_type": "code",
   "execution_count": 262,
   "id": "c6dbe29d",
   "metadata": {},
   "outputs": [
    {
     "data": {
      "text/plain": [
       "((96, 295), (96,))"
      ]
     },
     "execution_count": 262,
     "metadata": {},
     "output_type": "execute_result"
    }
   ],
   "source": [
    "X_test.shape,y_test.shape"
   ]
  },
  {
   "cell_type": "code",
   "execution_count": 263,
   "id": "85fd680b",
   "metadata": {},
   "outputs": [],
   "source": [
    "# Initialize models\n",
    "rf = RandomForestClassifier(n_estimators=100, random_state=21)\n",
    "clf = SVC(kernel='linear', random_state=21)"
   ]
  },
  {
   "cell_type": "code",
   "execution_count": 264,
   "id": "c1b35d56",
   "metadata": {},
   "outputs": [
    {
     "data": {
      "text/plain": [
       "(1.0, 1.0, 1.0)"
      ]
     },
     "execution_count": 264,
     "metadata": {},
     "output_type": "execute_result"
    }
   ],
   "source": [
    "# Train and fine-tune the RandomForest model\n",
    "rf.fit(X_train_wo, y_train_wo)\n",
    "rf.fit(X_train_w, y_train_w)\n",
    "y_pred = model.predict(X_test)\n",
    "accuracy = accuracy_score(y_test, y_pred)\n",
    "precision = precision_score(y_test, y_pred,average='weighted')\n",
    "f1 = f1_score(y_test, y_pred,average='weighted')\n",
    "accuracy,precision,f1"
   ]
  },
  {
   "cell_type": "code",
   "execution_count": 265,
   "id": "5e0b67b3",
   "metadata": {},
   "outputs": [
    {
     "data": {
      "text/plain": [
       "(1.0, 1.0, 1.0)"
      ]
     },
     "execution_count": 265,
     "metadata": {},
     "output_type": "execute_result"
    }
   ],
   "source": [
    "# Train and fine-tune the SVC model\n",
    "clf.fit(X_train_wo, y_train_wo)\n",
    "clf.fit(X_train_w, y_train_w)\n",
    "\n",
    "y_pred = model.predict(X_test)\n",
    "accuracy = accuracy_score(y_test, y_pred)\n",
    "precision = precision_score(y_test, y_pred,average='weighted')\n",
    "f1 = f1_score(y_test, y_pred,average='weighted')\n",
    "accuracy,precision,f1"
   ]
  },
  {
   "cell_type": "code",
   "execution_count": 268,
   "id": "853a512d",
   "metadata": {},
   "outputs": [
    {
     "data": {
      "text/plain": [
       "295"
      ]
     },
     "execution_count": 268,
     "metadata": {},
     "output_type": "execute_result"
    }
   ],
   "source": [
    "rf.n_features_in_"
   ]
  },
  {
   "cell_type": "code",
   "execution_count": 194,
   "id": "b630708d",
   "metadata": {},
   "outputs": [
    {
     "ename": "KeyError",
     "evalue": "0",
     "output_type": "error",
     "traceback": [
      "\u001b[0;31m---------------------------------------------------------------------------\u001b[0m",
      "\u001b[0;31mValueError\u001b[0m                                Traceback (most recent call last)",
      "\u001b[0;32m~/opt/anaconda3/lib/python3.9/site-packages/pandas/core/indexes/range.py\u001b[0m in \u001b[0;36mget_loc\u001b[0;34m(self, key, method, tolerance)\u001b[0m\n\u001b[1;32m    384\u001b[0m                 \u001b[0;32mtry\u001b[0m\u001b[0;34m:\u001b[0m\u001b[0;34m\u001b[0m\u001b[0;34m\u001b[0m\u001b[0m\n\u001b[0;32m--> 385\u001b[0;31m                     \u001b[0;32mreturn\u001b[0m \u001b[0mself\u001b[0m\u001b[0;34m.\u001b[0m\u001b[0m_range\u001b[0m\u001b[0;34m.\u001b[0m\u001b[0mindex\u001b[0m\u001b[0;34m(\u001b[0m\u001b[0mnew_key\u001b[0m\u001b[0;34m)\u001b[0m\u001b[0;34m\u001b[0m\u001b[0;34m\u001b[0m\u001b[0m\n\u001b[0m\u001b[1;32m    386\u001b[0m                 \u001b[0;32mexcept\u001b[0m \u001b[0mValueError\u001b[0m \u001b[0;32mas\u001b[0m \u001b[0merr\u001b[0m\u001b[0;34m:\u001b[0m\u001b[0;34m\u001b[0m\u001b[0;34m\u001b[0m\u001b[0m\n",
      "\u001b[0;31mValueError\u001b[0m: 0 is not in range",
      "\nThe above exception was the direct cause of the following exception:\n",
      "\u001b[0;31mKeyError\u001b[0m                                  Traceback (most recent call last)",
      "\u001b[0;32m/var/folders/1h/xsc0xzkn5lgbrfws7879hf1m0000gr/T/ipykernel_66319/1940610290.py\u001b[0m in \u001b[0;36m<module>\u001b[0;34m\u001b[0m\n\u001b[1;32m     24\u001b[0m \u001b[0mcat_cols_filtered\u001b[0m \u001b[0;34m=\u001b[0m \u001b[0mmatches_filtered\u001b[0m\u001b[0;34m.\u001b[0m\u001b[0mselect_dtypes\u001b[0m\u001b[0;34m(\u001b[0m\u001b[0minclude\u001b[0m\u001b[0;34m=\u001b[0m\u001b[0;34m[\u001b[0m\u001b[0;34m'object'\u001b[0m\u001b[0;34m,\u001b[0m \u001b[0;34m'category'\u001b[0m\u001b[0;34m]\u001b[0m\u001b[0;34m)\u001b[0m\u001b[0;34m.\u001b[0m\u001b[0mcolumns\u001b[0m\u001b[0;34m\u001b[0m\u001b[0;34m\u001b[0m\u001b[0m\n\u001b[1;32m     25\u001b[0m \u001b[0;32mfor\u001b[0m \u001b[0mcol\u001b[0m \u001b[0;32min\u001b[0m \u001b[0mcat_cols_filtered\u001b[0m\u001b[0;34m:\u001b[0m\u001b[0;34m\u001b[0m\u001b[0;34m\u001b[0m\u001b[0m\n\u001b[0;32m---> 26\u001b[0;31m     \u001b[0mmatches_filtered\u001b[0m\u001b[0;34m[\u001b[0m\u001b[0mcol\u001b[0m\u001b[0;34m]\u001b[0m\u001b[0;34m.\u001b[0m\u001b[0mfillna\u001b[0m\u001b[0;34m(\u001b[0m\u001b[0mmatches_filtered\u001b[0m\u001b[0;34m[\u001b[0m\u001b[0mcol\u001b[0m\u001b[0;34m]\u001b[0m\u001b[0;34m.\u001b[0m\u001b[0mmode\u001b[0m\u001b[0;34m(\u001b[0m\u001b[0;34m)\u001b[0m\u001b[0;34m[\u001b[0m\u001b[0;36m0\u001b[0m\u001b[0;34m]\u001b[0m\u001b[0;34m,\u001b[0m \u001b[0minplace\u001b[0m\u001b[0;34m=\u001b[0m\u001b[0;32mTrue\u001b[0m\u001b[0;34m)\u001b[0m\u001b[0;34m\u001b[0m\u001b[0;34m\u001b[0m\u001b[0m\n\u001b[0m\u001b[1;32m     27\u001b[0m \u001b[0;34m\u001b[0m\u001b[0m\n\u001b[1;32m     28\u001b[0m \u001b[0mcat_cols_with_xg\u001b[0m \u001b[0;34m=\u001b[0m \u001b[0mmatches_with_xg\u001b[0m\u001b[0;34m.\u001b[0m\u001b[0mselect_dtypes\u001b[0m\u001b[0;34m(\u001b[0m\u001b[0minclude\u001b[0m\u001b[0;34m=\u001b[0m\u001b[0;34m[\u001b[0m\u001b[0;34m'object'\u001b[0m\u001b[0;34m,\u001b[0m \u001b[0;34m'category'\u001b[0m\u001b[0;34m]\u001b[0m\u001b[0;34m)\u001b[0m\u001b[0;34m.\u001b[0m\u001b[0mcolumns\u001b[0m\u001b[0;34m\u001b[0m\u001b[0;34m\u001b[0m\u001b[0m\n",
      "\u001b[0;32m~/opt/anaconda3/lib/python3.9/site-packages/pandas/core/series.py\u001b[0m in \u001b[0;36m__getitem__\u001b[0;34m(self, key)\u001b[0m\n\u001b[1;32m    956\u001b[0m \u001b[0;34m\u001b[0m\u001b[0m\n\u001b[1;32m    957\u001b[0m         \u001b[0;32melif\u001b[0m \u001b[0mkey_is_scalar\u001b[0m\u001b[0;34m:\u001b[0m\u001b[0;34m\u001b[0m\u001b[0;34m\u001b[0m\u001b[0m\n\u001b[0;32m--> 958\u001b[0;31m             \u001b[0;32mreturn\u001b[0m \u001b[0mself\u001b[0m\u001b[0;34m.\u001b[0m\u001b[0m_get_value\u001b[0m\u001b[0;34m(\u001b[0m\u001b[0mkey\u001b[0m\u001b[0;34m)\u001b[0m\u001b[0;34m\u001b[0m\u001b[0;34m\u001b[0m\u001b[0m\n\u001b[0m\u001b[1;32m    959\u001b[0m \u001b[0;34m\u001b[0m\u001b[0m\n\u001b[1;32m    960\u001b[0m         \u001b[0;32mif\u001b[0m \u001b[0mis_hashable\u001b[0m\u001b[0;34m(\u001b[0m\u001b[0mkey\u001b[0m\u001b[0;34m)\u001b[0m\u001b[0;34m:\u001b[0m\u001b[0;34m\u001b[0m\u001b[0;34m\u001b[0m\u001b[0m\n",
      "\u001b[0;32m~/opt/anaconda3/lib/python3.9/site-packages/pandas/core/series.py\u001b[0m in \u001b[0;36m_get_value\u001b[0;34m(self, label, takeable)\u001b[0m\n\u001b[1;32m   1067\u001b[0m \u001b[0;34m\u001b[0m\u001b[0m\n\u001b[1;32m   1068\u001b[0m         \u001b[0;31m# Similar to Index.get_value, but we do not fall back to positional\u001b[0m\u001b[0;34m\u001b[0m\u001b[0;34m\u001b[0m\u001b[0m\n\u001b[0;32m-> 1069\u001b[0;31m         \u001b[0mloc\u001b[0m \u001b[0;34m=\u001b[0m \u001b[0mself\u001b[0m\u001b[0;34m.\u001b[0m\u001b[0mindex\u001b[0m\u001b[0;34m.\u001b[0m\u001b[0mget_loc\u001b[0m\u001b[0;34m(\u001b[0m\u001b[0mlabel\u001b[0m\u001b[0;34m)\u001b[0m\u001b[0;34m\u001b[0m\u001b[0;34m\u001b[0m\u001b[0m\n\u001b[0m\u001b[1;32m   1070\u001b[0m         \u001b[0;32mreturn\u001b[0m \u001b[0mself\u001b[0m\u001b[0;34m.\u001b[0m\u001b[0mindex\u001b[0m\u001b[0;34m.\u001b[0m\u001b[0m_get_values_for_loc\u001b[0m\u001b[0;34m(\u001b[0m\u001b[0mself\u001b[0m\u001b[0;34m,\u001b[0m \u001b[0mloc\u001b[0m\u001b[0;34m,\u001b[0m \u001b[0mlabel\u001b[0m\u001b[0;34m)\u001b[0m\u001b[0;34m\u001b[0m\u001b[0;34m\u001b[0m\u001b[0m\n\u001b[1;32m   1071\u001b[0m \u001b[0;34m\u001b[0m\u001b[0m\n",
      "\u001b[0;32m~/opt/anaconda3/lib/python3.9/site-packages/pandas/core/indexes/range.py\u001b[0m in \u001b[0;36mget_loc\u001b[0;34m(self, key, method, tolerance)\u001b[0m\n\u001b[1;32m    385\u001b[0m                     \u001b[0;32mreturn\u001b[0m \u001b[0mself\u001b[0m\u001b[0;34m.\u001b[0m\u001b[0m_range\u001b[0m\u001b[0;34m.\u001b[0m\u001b[0mindex\u001b[0m\u001b[0;34m(\u001b[0m\u001b[0mnew_key\u001b[0m\u001b[0;34m)\u001b[0m\u001b[0;34m\u001b[0m\u001b[0;34m\u001b[0m\u001b[0m\n\u001b[1;32m    386\u001b[0m                 \u001b[0;32mexcept\u001b[0m \u001b[0mValueError\u001b[0m \u001b[0;32mas\u001b[0m \u001b[0merr\u001b[0m\u001b[0;34m:\u001b[0m\u001b[0;34m\u001b[0m\u001b[0;34m\u001b[0m\u001b[0m\n\u001b[0;32m--> 387\u001b[0;31m                     \u001b[0;32mraise\u001b[0m \u001b[0mKeyError\u001b[0m\u001b[0;34m(\u001b[0m\u001b[0mkey\u001b[0m\u001b[0;34m)\u001b[0m \u001b[0;32mfrom\u001b[0m \u001b[0merr\u001b[0m\u001b[0;34m\u001b[0m\u001b[0;34m\u001b[0m\u001b[0m\n\u001b[0m\u001b[1;32m    388\u001b[0m             \u001b[0mself\u001b[0m\u001b[0;34m.\u001b[0m\u001b[0m_check_indexing_error\u001b[0m\u001b[0;34m(\u001b[0m\u001b[0mkey\u001b[0m\u001b[0;34m)\u001b[0m\u001b[0;34m\u001b[0m\u001b[0;34m\u001b[0m\u001b[0m\n\u001b[1;32m    389\u001b[0m             \u001b[0;32mraise\u001b[0m \u001b[0mKeyError\u001b[0m\u001b[0;34m(\u001b[0m\u001b[0mkey\u001b[0m\u001b[0;34m)\u001b[0m\u001b[0;34m\u001b[0m\u001b[0;34m\u001b[0m\u001b[0m\n",
      "\u001b[0;31mKeyError\u001b[0m: 0"
     ]
    }
   ],
   "source": []
  },
  {
   "cell_type": "code",
   "execution_count": null,
   "id": "803a1102",
   "metadata": {},
   "outputs": [],
   "source": []
  }
 ],
 "metadata": {
  "kernelspec": {
   "display_name": "Python 3 (ipykernel)",
   "language": "python",
   "name": "python3"
  },
  "language_info": {
   "codemirror_mode": {
    "name": "ipython",
    "version": 3
   },
   "file_extension": ".py",
   "mimetype": "text/x-python",
   "name": "python",
   "nbconvert_exporter": "python",
   "pygments_lexer": "ipython3",
   "version": "3.9.13"
  }
 },
 "nbformat": 4,
 "nbformat_minor": 5
}
